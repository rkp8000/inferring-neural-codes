{
 "cells": [
  {
   "cell_type": "markdown",
   "id": "e73ed5a2",
   "metadata": {},
   "source": [
    "$$\\tau_r\\frac{dr}{dt} = -r + x_s(1-a_s)I_s(t) + x_p(1-a_p)I_p(t), \\quad \\quad \\tau_a\\frac{da_s}{dt} = -a_s + I_s(t), \\quad \\quad \\tau_a\\frac{da_p}{dt} = -a_p + I_p(t)$$"
   ]
  }
 ],
 "metadata": {
  "kernelspec": {
   "display_name": "Python 3",
   "language": "python",
   "name": "python3"
  },
  "language_info": {
   "codemirror_mode": {
    "name": "ipython",
    "version": 3
   },
   "file_extension": ".py",
   "mimetype": "text/x-python",
   "name": "python",
   "nbconvert_exporter": "python",
   "pygments_lexer": "ipython3",
   "version": "3.7.10"
  }
 },
 "nbformat": 4,
 "nbformat_minor": 5
}

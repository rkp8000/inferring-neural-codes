{
 "cells": [
  {
   "cell_type": "markdown",
   "id": "9fa97d69",
   "metadata": {},
   "source": [
    "$$(h_{LN} \\ast I_{train})(t) = \\int_{-\\infty}^t I_{train}(\\tau)h_{LN}(t - \\tau) d\\tau$$"
   ]
  },
  {
   "cell_type": "markdown",
   "id": "4307c14e",
   "metadata": {},
   "source": [
    "$$(h_{LN} \\ast I_{block})(t) = \\int_{-\\infty}^t I_{block}(\\tau)h_{LN}(t - \\tau) d\\tau$$"
   ]
  },
  {
   "cell_type": "markdown",
   "id": "109263ce",
   "metadata": {},
   "source": [
    "$$(h_{NA} \\ast I^*_{train})(t) = \\int_{-\\infty}^t I^*_{train}(\\tau)h_{NA}(t - \\tau) d\\tau$$"
   ]
  },
  {
   "cell_type": "markdown",
   "id": "eff19619",
   "metadata": {},
   "source": [
    "$$(h_{NA} \\ast I^*_{block})(t) = \\int_{-\\infty}^t I^*_{block}(\\tau)h_{NA}(t - \\tau) d\\tau$$"
   ]
  },
  {
   "cell_type": "markdown",
   "id": "44a719b4",
   "metadata": {},
   "source": [
    "$$\\not\\approx$$"
   ]
  },
  {
   "cell_type": "markdown",
   "id": "5c23db6c",
   "metadata": {},
   "source": [
    "$$\\tau$$"
   ]
  },
  {
   "cell_type": "code",
   "execution_count": null,
   "id": "68063b37",
   "metadata": {},
   "outputs": [],
   "source": []
  }
 ],
 "metadata": {
  "kernelspec": {
   "display_name": "Python 3",
   "language": "python",
   "name": "python3"
  },
  "language_info": {
   "codemirror_mode": {
    "name": "ipython",
    "version": 3
   },
   "file_extension": ".py",
   "mimetype": "text/x-python",
   "name": "python",
   "nbconvert_exporter": "python",
   "pygments_lexer": "ipython3",
   "version": "3.7.10"
  }
 },
 "nbformat": 4,
 "nbformat_minor": 5
}

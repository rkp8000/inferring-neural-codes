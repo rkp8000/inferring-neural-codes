{
 "cells": [
  {
   "cell_type": "markdown",
   "id": "198f1194",
   "metadata": {},
   "source": [
    "Create surrogate neural population responses during natural behavior trials using reduced populations with parameters chosen based on theoretical considerations."
   ]
  },
  {
   "cell_type": "code",
   "execution_count": 1,
   "id": "a6c41518",
   "metadata": {},
   "outputs": [],
   "source": [
    "%matplotlib inline\n",
    "import matplotlib.gridspec as gridspec\n",
    "import matplotlib.pyplot as plt\n",
    "import numpy as np\n",
    "import os\n",
    "import pandas as pd\n",
    "from scipy import signal, stats\n",
    "from sklearn import linear_model\n",
    "import sys\n",
    "import warnings; warnings.filterwarnings(\"ignore\")\n",
    "\n",
    "from aux import get_seg\n",
    "from disp import set_plot\n",
    "from my_torch import skl_fit_ridge\n",
    "from my_stats import nanpearsonr\n",
    "\n",
    "from record import smlt_ppln_ma\n",
    "\n",
    "cc = np.concatenate\n",
    "\n",
    "FPS = 30.03  # sampling rate of behavioral data\n",
    "DT = 1/FPS\n",
    "\n",
    "STRAINS = ['NM91', 'ZH23']\n",
    "STRAIN_KEY = '_'.join(STRAINS).lower()\n",
    "\n",
    "PTRAIN = .8\n",
    "NSPLIT = 30\n",
    "\n",
    "TARG_BHV = 'MTN'\n",
    "TWDWS = [.03, 1, 60]\n",
    "TARGS = [f'{TARG_BHV}_MN_{twdw}' for twdw in TWDWS]\n",
    "\n",
    "ALPHA = 10"
   ]
  },
  {
   "cell_type": "code",
   "execution_count": 2,
   "id": "574f7d85",
   "metadata": {},
   "outputs": [],
   "source": [
    "PFX_BHV = f'data/simple/behav_xtd/behav_xtd'\n",
    "PFX_NRL = f'data/simple/mlv/ma_red_distr/temp_nrl/temp_ma_red_ppln'\n",
    "\n",
    "FSTRAIN = 'data/simple/strains.csv'\n",
    "MSTRAINS = [(pd.read_csv(FSTRAIN)['STRAIN'] == strain) for strain in STRAINS]\n",
    "MSTRAIN = np.any(MSTRAINS, axis=0)\n",
    "ISTRAIN = MSTRAIN.nonzero()[0]\n",
    "\n",
    "NTR = len(ISTRAIN)\n",
    "NTRAIN = int(round(PTRAIN*NTR))"
   ]
  },
  {
   "cell_type": "markdown",
   "id": "6c4d6fc1",
   "metadata": {},
   "source": [
    "Load behavioral data from Coen et al 2014"
   ]
  },
  {
   "cell_type": "code",
   "execution_count": 3,
   "id": "56f0c3c2",
   "metadata": {},
   "outputs": [
    {
     "data": {
      "text/html": [
       "<div>\n",
       "<style scoped>\n",
       "    .dataframe tbody tr th:only-of-type {\n",
       "        vertical-align: middle;\n",
       "    }\n",
       "\n",
       "    .dataframe tbody tr th {\n",
       "        vertical-align: top;\n",
       "    }\n",
       "\n",
       "    .dataframe thead th {\n",
       "        text-align: right;\n",
       "    }\n",
       "</style>\n",
       "<table border=\"1\" class=\"dataframe\">\n",
       "  <thead>\n",
       "    <tr style=\"text-align: right;\">\n",
       "      <th></th>\n",
       "      <th>ID</th>\n",
       "      <th>FRAME</th>\n",
       "      <th>T</th>\n",
       "      <th>Q</th>\n",
       "      <th>S</th>\n",
       "      <th>P</th>\n",
       "      <th>F</th>\n",
       "      <th>FFV</th>\n",
       "      <th>FFA</th>\n",
       "      <th>FLS</th>\n",
       "      <th>FRS</th>\n",
       "      <th>FMFV</th>\n",
       "      <th>FMLS</th>\n",
       "    </tr>\n",
       "  </thead>\n",
       "  <tbody>\n",
       "    <tr>\n",
       "      <th>0</th>\n",
       "      <td>0</td>\n",
       "      <td>0</td>\n",
       "      <td>0.000000</td>\n",
       "      <td>1</td>\n",
       "      <td>0</td>\n",
       "      <td>0</td>\n",
       "      <td>0</td>\n",
       "      <td>0.231</td>\n",
       "      <td>0.0000</td>\n",
       "      <td>0.159</td>\n",
       "      <td>0.077</td>\n",
       "      <td>-0.058526</td>\n",
       "      <td>0.274257</td>\n",
       "    </tr>\n",
       "    <tr>\n",
       "      <th>1</th>\n",
       "      <td>0</td>\n",
       "      <td>1</td>\n",
       "      <td>0.033300</td>\n",
       "      <td>1</td>\n",
       "      <td>0</td>\n",
       "      <td>0</td>\n",
       "      <td>0</td>\n",
       "      <td>0.314</td>\n",
       "      <td>0.0385</td>\n",
       "      <td>0.025</td>\n",
       "      <td>0.044</td>\n",
       "      <td>0.100623</td>\n",
       "      <td>0.298490</td>\n",
       "    </tr>\n",
       "    <tr>\n",
       "      <th>2</th>\n",
       "      <td>0</td>\n",
       "      <td>2</td>\n",
       "      <td>0.066600</td>\n",
       "      <td>1</td>\n",
       "      <td>0</td>\n",
       "      <td>0</td>\n",
       "      <td>0</td>\n",
       "      <td>0.308</td>\n",
       "      <td>0.0025</td>\n",
       "      <td>0.029</td>\n",
       "      <td>0.011</td>\n",
       "      <td>0.147629</td>\n",
       "      <td>0.271865</td>\n",
       "    </tr>\n",
       "    <tr>\n",
       "      <th>3</th>\n",
       "      <td>0</td>\n",
       "      <td>3</td>\n",
       "      <td>0.099900</td>\n",
       "      <td>1</td>\n",
       "      <td>0</td>\n",
       "      <td>0</td>\n",
       "      <td>0</td>\n",
       "      <td>0.319</td>\n",
       "      <td>0.0020</td>\n",
       "      <td>0.016</td>\n",
       "      <td>0.016</td>\n",
       "      <td>0.091174</td>\n",
       "      <td>0.306112</td>\n",
       "    </tr>\n",
       "    <tr>\n",
       "      <th>4</th>\n",
       "      <td>0</td>\n",
       "      <td>4</td>\n",
       "      <td>0.133200</td>\n",
       "      <td>1</td>\n",
       "      <td>0</td>\n",
       "      <td>0</td>\n",
       "      <td>0</td>\n",
       "      <td>0.312</td>\n",
       "      <td>-0.0315</td>\n",
       "      <td>0.030</td>\n",
       "      <td>0.002</td>\n",
       "      <td>0.065871</td>\n",
       "      <td>0.306439</td>\n",
       "    </tr>\n",
       "    <tr>\n",
       "      <th>...</th>\n",
       "      <td>...</td>\n",
       "      <td>...</td>\n",
       "      <td>...</td>\n",
       "      <td>...</td>\n",
       "      <td>...</td>\n",
       "      <td>...</td>\n",
       "      <td>...</td>\n",
       "      <td>...</td>\n",
       "      <td>...</td>\n",
       "      <td>...</td>\n",
       "      <td>...</td>\n",
       "      <td>...</td>\n",
       "      <td>...</td>\n",
       "    </tr>\n",
       "    <tr>\n",
       "      <th>4978565</th>\n",
       "      <td>275</td>\n",
       "      <td>27100</td>\n",
       "      <td>902.430902</td>\n",
       "      <td>1</td>\n",
       "      <td>0</td>\n",
       "      <td>0</td>\n",
       "      <td>0</td>\n",
       "      <td>0.217</td>\n",
       "      <td>0.0280</td>\n",
       "      <td>0.029</td>\n",
       "      <td>0.058</td>\n",
       "      <td>-0.171418</td>\n",
       "      <td>0.136184</td>\n",
       "    </tr>\n",
       "    <tr>\n",
       "      <th>4978566</th>\n",
       "      <td>275</td>\n",
       "      <td>27101</td>\n",
       "      <td>902.464202</td>\n",
       "      <td>1</td>\n",
       "      <td>0</td>\n",
       "      <td>0</td>\n",
       "      <td>0</td>\n",
       "      <td>0.210</td>\n",
       "      <td>-0.1045</td>\n",
       "      <td>0.138</td>\n",
       "      <td>0.322</td>\n",
       "      <td>0.032522</td>\n",
       "      <td>0.249171</td>\n",
       "    </tr>\n",
       "    <tr>\n",
       "      <th>4978567</th>\n",
       "      <td>275</td>\n",
       "      <td>27102</td>\n",
       "      <td>902.497502</td>\n",
       "      <td>1</td>\n",
       "      <td>0</td>\n",
       "      <td>0</td>\n",
       "      <td>0</td>\n",
       "      <td>0.008</td>\n",
       "      <td>-0.0910</td>\n",
       "      <td>0.034</td>\n",
       "      <td>0.260</td>\n",
       "      <td>0.033202</td>\n",
       "      <td>0.010844</td>\n",
       "    </tr>\n",
       "    <tr>\n",
       "      <th>4978568</th>\n",
       "      <td>275</td>\n",
       "      <td>27103</td>\n",
       "      <td>902.530803</td>\n",
       "      <td>1</td>\n",
       "      <td>0</td>\n",
       "      <td>0</td>\n",
       "      <td>0</td>\n",
       "      <td>0.028</td>\n",
       "      <td>0.0695</td>\n",
       "      <td>0.010</td>\n",
       "      <td>0.090</td>\n",
       "      <td>0.012059</td>\n",
       "      <td>0.027177</td>\n",
       "    </tr>\n",
       "    <tr>\n",
       "      <th>4978569</th>\n",
       "      <td>275</td>\n",
       "      <td>27104</td>\n",
       "      <td>902.564103</td>\n",
       "      <td>1</td>\n",
       "      <td>0</td>\n",
       "      <td>0</td>\n",
       "      <td>0</td>\n",
       "      <td>0.147</td>\n",
       "      <td>0.0000</td>\n",
       "      <td>0.065</td>\n",
       "      <td>0.001</td>\n",
       "      <td>0.089547</td>\n",
       "      <td>0.133474</td>\n",
       "    </tr>\n",
       "  </tbody>\n",
       "</table>\n",
       "<p>4978570 rows × 13 columns</p>\n",
       "</div>"
      ],
      "text/plain": [
       "          ID  FRAME           T  Q  S  P  F    FFV     FFA    FLS    FRS  \\\n",
       "0          0      0    0.000000  1  0  0  0  0.231  0.0000  0.159  0.077   \n",
       "1          0      1    0.033300  1  0  0  0  0.314  0.0385  0.025  0.044   \n",
       "2          0      2    0.066600  1  0  0  0  0.308  0.0025  0.029  0.011   \n",
       "3          0      3    0.099900  1  0  0  0  0.319  0.0020  0.016  0.016   \n",
       "4          0      4    0.133200  1  0  0  0  0.312 -0.0315  0.030  0.002   \n",
       "...      ...    ...         ... .. .. .. ..    ...     ...    ...    ...   \n",
       "4978565  275  27100  902.430902  1  0  0  0  0.217  0.0280  0.029  0.058   \n",
       "4978566  275  27101  902.464202  1  0  0  0  0.210 -0.1045  0.138  0.322   \n",
       "4978567  275  27102  902.497502  1  0  0  0  0.008 -0.0910  0.034  0.260   \n",
       "4978568  275  27103  902.530803  1  0  0  0  0.028  0.0695  0.010  0.090   \n",
       "4978569  275  27104  902.564103  1  0  0  0  0.147  0.0000  0.065  0.001   \n",
       "\n",
       "             FMFV      FMLS  \n",
       "0       -0.058526  0.274257  \n",
       "1        0.100623  0.298490  \n",
       "2        0.147629  0.271865  \n",
       "3        0.091174  0.306112  \n",
       "4        0.065871  0.306439  \n",
       "...           ...       ...  \n",
       "4978565 -0.171418  0.136184  \n",
       "4978566  0.032522  0.249171  \n",
       "4978567  0.033202  0.010844  \n",
       "4978568  0.012059  0.027177  \n",
       "4978569  0.089547  0.133474  \n",
       "\n",
       "[4978570 rows x 13 columns]"
      ]
     },
     "execution_count": 3,
     "metadata": {},
     "output_type": "execute_result"
    }
   ],
   "source": [
    "df_behav = pd.read_csv('data/simple/c_song_f_behav.csv')\n",
    "df_behav"
   ]
  },
  {
   "cell_type": "code",
   "execution_count": 4,
   "id": "0ac0cb0f",
   "metadata": {},
   "outputs": [],
   "source": [
    "# split big df into dfs for individual trials\n",
    "n_tr = np.max(df_behav.ID) + 1\n",
    "dfs_tr = [df_behav[df_behav.ID == i] for i in ISTRAIN]\n",
    "\n",
    "df_behav = None"
   ]
  },
  {
   "cell_type": "code",
   "execution_count": 5,
   "id": "cf1c4ed1",
   "metadata": {},
   "outputs": [],
   "source": [
    "# neural response fits from Baker data\n",
    "df_ma_param = pd.read_csv('data/simple/neur/baker_ma_fit_param.csv')"
   ]
  },
  {
   "cell_type": "code",
   "execution_count": 6,
   "id": "3eb82e39",
   "metadata": {},
   "outputs": [],
   "source": [
    "# function for recording surrogate neural activity and predicting behavior\n",
    "def record_fit(tau_rs, tau_as, x_ss, x_ps):\n",
    "    n = len(tau_rs)\n",
    "    r_cols = [f'R_{cr}' for cr in range(n)]\n",
    "    \n",
    "    # record data\n",
    "    sys.stdout.write('R')\n",
    "    for itr, df_tr in zip(ISTRAIN, dfs_tr):\n",
    "        df_tr_nrl = df_tr.copy()\n",
    "\n",
    "        i_s = np.array(df_tr['S']).astype(float)\n",
    "        i_p = np.array(df_tr['P'] | df_tr['F']).astype(float)\n",
    "\n",
    "        # simulate population response\n",
    "        rs = smlt_ppln_ma(i_s, i_p, tau_rs, tau_as, x_ss, x_ps, DT)\n",
    "\n",
    "        df_tr_nrl[r_cols] = rs\n",
    "\n",
    "        np.save(f'{PFX_NRL}_tr_{itr}.npy', np.array([{'df': df_tr_nrl}]))\n",
    "        \n",
    "    sys.stdout.write('F')\n",
    "    # fit neural -> behav regression model\n",
    "    rslts = skl_fit_ridge(\n",
    "        pfxs=[PFX_NRL, PFX_BHV],\n",
    "        cols_x=r_cols,\n",
    "        targs=TARGS,\n",
    "        itr_all=ISTRAIN,\n",
    "        ntrain=NTRAIN,\n",
    "        nsplit=NSPLIT,\n",
    "        alpha=ALPHA,\n",
    "        verbose=False)\n",
    "    r2_train_mns = {targ: np.mean([rslt.r2_train[targ] for rslt in rslts]) for targ in TARGS}\n",
    "    r2_test_mns = {targ: np.mean([rslt.r2_test[targ] for rslt in rslts]) for targ in TARGS}\n",
    "    \n",
    "    r2_train_sds = {targ: np.std([rslt.r2_train[targ] for rslt in rslts]) for targ in TARGS}\n",
    "    r2_test_sds = {targ: np.std([rslt.r2_test[targ] for rslt in rslts]) for targ in TARGS}\n",
    "    \n",
    "    sys.stdout.write('..')\n",
    "    \n",
    "    return r2_train_mns, r2_test_mns, r2_train_sds, r2_test_sds"
   ]
  },
  {
   "cell_type": "markdown",
   "id": "56e25729",
   "metadata": {},
   "source": [
    "# Test using full population"
   ]
  },
  {
   "cell_type": "raw",
   "id": "550be6e5",
   "metadata": {},
   "source": [
    "tau_rs = np.array(df_ma_param['TAU_R'])\n",
    "tau_as = np.array(df_ma_param['TAU_A'])\n",
    "x_ss = np.array(df_ma_param['X_S'])\n",
    "x_ps = np.array(df_ma_param['X_P'])\n",
    "\n",
    "r2_train_mns, r2_test_mns, r2_train_sds, r2_test_sds = record_fit(tau_rs, tau_as, x_ss, x_ps)\n",
    "\n",
    "print(r2_train_mns)\n",
    "print(r2_test_mns)\n",
    "print(r2_train_sds)\n",
    "print(r2_test_sds)"
   ]
  },
  {
   "cell_type": "markdown",
   "id": "6b00b189",
   "metadata": {},
   "source": [
    "# Sweep over mean response and adaptation rates given uniformly distributed selectivities\n",
    "\n",
    "Exponentially distributed $\\tau_r$ and $1/\\tau_a$. Uniform $x_s$, $x_p$ (given $x_s + x_p = 1$)."
   ]
  },
  {
   "cell_type": "markdown",
   "id": "d615872d",
   "metadata": {},
   "source": [
    "### 10 neurons"
   ]
  },
  {
   "cell_type": "code",
   "execution_count": 7,
   "id": "07d34bf0",
   "metadata": {},
   "outputs": [
    {
     "name": "stdout",
     "output_type": "stream",
     "text": [
      "RF..RF..RF..RF..RF..RF..RF..RF..RF..RF..RF..RF..RF..RF..RF..RF..RF..RF..RF..RF..RF..RF..RF..RF..RF..RF..RF..RF..RF..RF..RF..RF..RF..RF..RF..RF..RF..RF..RF..RF..RF..RF..RF..RF..RF..RF..RF..RF..RF..RF..RF..RF..RF..RF..RF..RF..RF..RF..RF..RF..RF..RF..RF..RF..RF..RF..RF..RF..RF..RF..RF..RF.."
     ]
    }
   ],
   "source": [
    "n = 10\n",
    "fname = f'0A_{n}_nrn_unif_sel_sweep_mean_tau_r_tau_a'\n",
    "mn_tau_rs = [.1, .5, 1, 2, 5, 10, 30, 60, 120]\n",
    "mn_rate_as = [10, 5, 2, 1, .5, .1, .05, .01]\n",
    "\n",
    "r2_test_mn_all = {targ: np.nan*np.zeros((len(mn_tau_rs), len(mn_rate_as))) for targ in TARGS}\n",
    "\n",
    "for cmn_tau_r, mn_tau_r in enumerate(mn_tau_rs):\n",
    "    for cmn_rate_a, mn_rate_a in enumerate(mn_rate_as):\n",
    "        np.random.seed(None)\n",
    "        tau_rs = np.clip(np.random.exponential(mn_tau_r, n), .065, np.inf)  # ensure no numerical issues from tau < dt\n",
    "        tau_as = np.clip(1/np.random.exponential(mn_rate_a, n), 0.065, np.inf)\n",
    "        x_ss = np.random.uniform(0, 1, n)\n",
    "        x_ps = 1 - x_ss\n",
    "\n",
    "        r2_test_mns = record_fit(tau_rs, tau_as, x_ss, x_ps)[1]\n",
    "        for targ in TARGS:\n",
    "            r2_test_mn_all[targ][cmn_tau_r, cmn_rate_a] = r2_test_mns[targ]\n",
    "        \n",
    "np.save(f'data/simple/mlv/ma_red_distr/{fname}.npy', np.array([{\n",
    "    'mn_tau_rs': mn_tau_rs,\n",
    "    'mn_rate_as': mn_rate_as,\n",
    "    'r2_test_mn_all': r2_test_mn_all\n",
    "}]))"
   ]
  },
  {
   "cell_type": "code",
   "execution_count": 10,
   "id": "ec111979",
   "metadata": {},
   "outputs": [
    {
     "data": {
      "image/png": "[encoded data removed]",
      "text/plain": [
       "<Figure size 864x288 with 3 Axes>"
      ]
     },
     "metadata": {
      "needs_background": "light"
     },
     "output_type": "display_data"
    }
   ],
   "source": [
    "rslts = np.load(f'data/simple/mlv/ma_red_distr/0A_10_nrn_unif_sel_sweep_mean_tau_r_tau_a.npy', allow_pickle=True)[0]\n",
    "fig, axs = plt.subplots(1, 3, figsize=(12, 4), tight_layout=True)\n",
    "for ax, targ in zip(axs, TARGS):\n",
    "    ax.matshow(rslts['r2_test_mn_all'][targ], zorder=0)\n",
    "    \n",
    "    idx_best = np.unravel_index(\n",
    "        rslts['r2_test_mn_all'][targ].flatten().argmax(),\n",
    "        rslts['r2_test_mn_all'][targ].shape)\n",
    "    \n",
    "    max_r2 = rslts['r2_test_mn_all'][targ][idx_best[0], idx_best[1]]\n",
    "    \n",
    "    ax.scatter(idx_best[1], idx_best[0], c='k', marker='x', zorder=1)\n",
    "    \n",
    "    set_plot(\n",
    "        ax,\n",
    "        x_ticks=np.arange(len(rslts['mn_rate_as'])),\n",
    "        y_ticks=np.arange(len(rslts['mn_tau_rs'])),\n",
    "        y_tick_labels=rslts['mn_tau_rs'],\n",
    "        x_label='~ <tau_a>(s)',\n",
    "        y_label='<tau_r> (s)',\n",
    "        title=f'{targ}\\nMax R2 = {max_r2:.4f}',\n",
    "        font_size=12\n",
    "    )\n",
    "    \n",
    "    ax.set_xticklabels(1/np.array(rslts['mn_rate_as']), rotation=90, fontsize=12)\n",
    "    ax.xaxis.tick_bottom()"
   ]
  },
  {
   "cell_type": "markdown",
   "id": "7bb73dca",
   "metadata": {},
   "source": [
    "### 25 neurons"
   ]
  },
  {
   "cell_type": "code",
   "execution_count": null,
   "id": "5e7fc4f6",
   "metadata": {},
   "outputs": [
    {
     "name": "stdout",
     "output_type": "stream",
     "text": [
      "RF..RF..RF"
     ]
    }
   ],
   "source": [
    "n = 25\n",
    "fname = f'0B_{n}_nrn_unif_sel_sweep_mean_tau_r_tau_a'\n",
    "mn_tau_rs = [.1, .5, 1, 2, 5, 10, 30, 60, 120]\n",
    "mn_rate_as = [10, 5, 2, 1, .5, .1, .05, .01]\n",
    "\n",
    "r2_test_mn_all = {targ: np.nan*np.zeros((len(mn_tau_rs), len(mn_rate_as))) for targ in TARGS}\n",
    "\n",
    "for cmn_tau_r, mn_tau_r in enumerate(mn_tau_rs):\n",
    "    for cmn_rate_a, mn_rate_a in enumerate(mn_rate_as):\n",
    "        np.random.seed(None)\n",
    "        tau_rs = np.clip(np.random.exponential(mn_tau_r, n), .065, np.inf)  # ensure no numerical issues from tau < dt\n",
    "        tau_as = np.clip(1/np.random.exponential(mn_rate_a, n), 0.065, np.inf)\n",
    "        x_ss = np.random.uniform(0, 1, n)\n",
    "        x_ps = 1 - x_ss\n",
    "\n",
    "        r2_test_mns = record_fit(tau_rs, tau_as, x_ss, x_ps)[1]\n",
    "        for targ in TARGS:\n",
    "            r2_test_mn_all[targ][cmn_tau_r, cmn_rate_a] = r2_test_mns[targ]\n",
    "        \n",
    "np.save(f'data/simple/mlv/ma_red_distr/{fname}.npy', np.array([{\n",
    "    'mn_tau_rs': mn_tau_rs,\n",
    "    'mn_rate_as': mn_rate_as,\n",
    "    'r2_test_mn_all': r2_test_mn_all\n",
    "}]))"
   ]
  },
  {
   "cell_type": "code",
   "execution_count": 11,
   "id": "bdfc0dce",
   "metadata": {},
   "outputs": [
    {
     "data": {
      "image/png": "[encoded data removed]",
      "text/plain": [
       "<Figure size 864x288 with 3 Axes>"
      ]
     },
     "metadata": {
      "needs_background": "light"
     },
     "output_type": "display_data"
    }
   ],
   "source": [
    "rslts = np.load(f'data/simple/mlv/ma_red_distr/0B_25_nrn_unif_sel_sweep_mean_tau_r_tau_a.npy', allow_pickle=True)[0]\n",
    "fig, axs = plt.subplots(1, 3, figsize=(12, 4), tight_layout=True)\n",
    "for ax, targ in zip(axs, TARGS):\n",
    "    ax.matshow(rslts['r2_test_mn_all'][targ], zorder=0)\n",
    "    \n",
    "    idx_best = np.unravel_index(\n",
    "        rslts['r2_test_mn_all'][targ].flatten().argmax(),\n",
    "        rslts['r2_test_mn_all'][targ].shape)\n",
    "    \n",
    "    max_r2 = rslts['r2_test_mn_all'][targ][idx_best[0], idx_best[1]]\n",
    "    \n",
    "    ax.scatter(idx_best[1], idx_best[0], c='k', marker='x', zorder=1)\n",
    "    \n",
    "    set_plot(\n",
    "        ax,\n",
    "        x_ticks=np.arange(len(rslts['mn_rate_as'])),\n",
    "        y_ticks=np.arange(len(rslts['mn_tau_rs'])),\n",
    "        y_tick_labels=rslts['mn_tau_rs'],\n",
    "        x_label='~ <tau_a> (s)',\n",
    "        y_label='<tau_r> (s)',\n",
    "        title=f'{targ}\\nMax R2 = {max_r2:.4f}',\n",
    "        font_size=12\n",
    "    )\n",
    "    \n",
    "    ax.set_xticklabels(1/np.array(rslts['mn_rate_as']), rotation=90, fontsize=12)\n",
    "    ax.xaxis.tick_bottom()"
   ]
  },
  {
   "cell_type": "markdown",
   "id": "7997302e",
   "metadata": {},
   "source": [
    "### 50 neurons"
   ]
  },
  {
   "cell_type": "code",
   "execution_count": null,
   "id": "767c5525",
   "metadata": {},
   "outputs": [
    {
     "name": "stdout",
     "output_type": "stream",
     "text": [
      "RF..RF..RF"
     ]
    }
   ],
   "source": [
    "n = 50\n",
    "fname = f'0C_{n}_nrn_unif_sel_sweep_mean_tau_r_tau_a'\n",
    "mn_tau_rs = [.1, .5, 1, 2, 5, 10, 30, 60, 120]\n",
    "mn_rate_as = [10, 5, 2, 1, .5, .1, .05, .01]\n",
    "\n",
    "r2_test_mn_all = {targ: np.nan*np.zeros((len(mn_tau_rs), len(mn_rate_as))) for targ in TARGS}\n",
    "\n",
    "for cmn_tau_r, mn_tau_r in enumerate(mn_tau_rs):\n",
    "    for cmn_rate_a, mn_rate_a in enumerate(mn_rate_as):\n",
    "        np.random.seed(None)\n",
    "        tau_rs = np.clip(np.random.exponential(mn_tau_r, n), .065, np.inf)  # ensure no numerical issues from tau < dt\n",
    "        tau_as = np.clip(1/np.random.exponential(mn_rate_a, n), 0.065, np.inf)\n",
    "        x_ss = np.random.uniform(0, 1, n)\n",
    "        x_ps = 1 - x_ss\n",
    "\n",
    "        r2_test_mns = record_fit(tau_rs, tau_as, x_ss, x_ps)[1]\n",
    "        for targ in TARGS:\n",
    "            r2_test_mn_all[targ][cmn_tau_r, cmn_rate_a] = r2_test_mns[targ]\n",
    "        \n",
    "np.save(f'data/simple/mlv/ma_red_distr/{fname}.npy', np.array([{\n",
    "    'mn_tau_rs': mn_tau_rs,\n",
    "    'mn_rate_as': mn_rate_as,\n",
    "    'r2_test_mn_all': r2_test_mn_all\n",
    "}]))"
   ]
  },
  {
   "cell_type": "code",
   "execution_count": 7,
   "id": "19c4f37f",
   "metadata": {},
   "outputs": [
    {
     "data": {
      "image/png": "[encoded data removed]",
      "text/plain": [
       "<Figure size 864x288 with 3 Axes>"
      ]
     },
     "metadata": {
      "needs_background": "light"
     },
     "output_type": "display_data"
    }
   ],
   "source": [
    "rslts = np.load(f'data/simple/mlv/ma_red_distr/0C_50_nrn_unif_sel_sweep_mean_tau_r_tau_a.npy', allow_pickle=True)[0]\n",
    "fig, axs = plt.subplots(1, 3, figsize=(12, 4), tight_layout=True)\n",
    "for ax, targ in zip(axs, TARGS):\n",
    "    ax.matshow(rslts['r2_test_mn_all'][targ], zorder=0)\n",
    "    \n",
    "    idx_best = np.unravel_index(\n",
    "        rslts['r2_test_mn_all'][targ].flatten().argmax(),\n",
    "        rslts['r2_test_mn_all'][targ].shape)\n",
    "    \n",
    "    max_r2 = rslts['r2_test_mn_all'][targ][idx_best[0], idx_best[1]]\n",
    "    \n",
    "    ax.scatter(idx_best[1], idx_best[0], c='k', marker='x', zorder=1)\n",
    "    \n",
    "    set_plot(\n",
    "        ax,\n",
    "        x_ticks=np.arange(len(rslts['mn_rate_as'])),\n",
    "        y_ticks=np.arange(len(rslts['mn_tau_rs'])),\n",
    "        y_tick_labels=rslts['mn_tau_rs'],\n",
    "        x_label='~<tau_a> (s)',\n",
    "        y_label='<tau_r> (s)',\n",
    "        title=f'{targ}\\nMax R2 = {max_r2:.4f}',\n",
    "        font_size=12\n",
    "    )\n",
    "    \n",
    "    ax.set_xticklabels(1/np.array(rslts['mn_rate_as']), rotation=90, fontsize=12)\n",
    "    ax.xaxis.tick_bottom()"
   ]
  },
  {
   "cell_type": "markdown",
   "id": "3cc41e92",
   "metadata": {},
   "source": [
    "### 100 neurons"
   ]
  },
  {
   "cell_type": "code",
   "execution_count": 7,
   "id": "5f338ec8",
   "metadata": {},
   "outputs": [
    {
     "name": "stdout",
     "output_type": "stream",
     "text": [
      "RF..RF..RF..RF..RF..RF..RF..RF..RF..RF..RF..RF..RF..RF..RF..RF..RF..RF..RF..RF..RF..RF..RF..RF..RF..RF..RF..RF..RF..RF..RF..RF..RF..RF..RF..RF..RF..RF..RF..RF..RF..RF..RF..RF..RF..RF..RF..RF..RF..RF..RF..RF..RF..RF..RF..RF..RF..RF..RF..RF..RF..RF..RF..RF..RF..RF..RF..RF..RF..RF..RF..RF.."
     ]
    }
   ],
   "source": [
    "n = 100\n",
    "fname = f'0D_{n}_nrn_unif_sel_sweep_mean_tau_r_tau_a'\n",
    "mn_tau_rs = [.1, .5, 1, 2, 5, 10, 30, 60, 120]\n",
    "mn_rate_as = [10, 5, 2, 1, .5, .1, .05, .01]\n",
    "\n",
    "r2_test_mn_all = {targ: np.nan*np.zeros((len(mn_tau_rs), len(mn_rate_as))) for targ in TARGS}\n",
    "\n",
    "for cmn_tau_r, mn_tau_r in enumerate(mn_tau_rs):\n",
    "    for cmn_rate_a, mn_rate_a in enumerate(mn_rate_as):\n",
    "        np.random.seed(None)\n",
    "        tau_rs = np.clip(np.random.exponential(mn_tau_r, n), .065, np.inf)  # ensure no numerical issues from tau < dt\n",
    "        tau_as = np.clip(1/np.random.exponential(mn_rate_a, n), 0.065, np.inf)\n",
    "        x_ss = np.random.uniform(0, 1, n)\n",
    "        x_ps = 1 - x_ss\n",
    "\n",
    "        r2_test_mns = record_fit(tau_rs, tau_as, x_ss, x_ps)[1]\n",
    "        for targ in TARGS:\n",
    "            r2_test_mn_all[targ][cmn_tau_r, cmn_rate_a] = r2_test_mns[targ]\n",
    "        \n",
    "np.save(f'data/simple/mlv/ma_red_distr/{fname}.npy', np.array([{\n",
    "    'mn_tau_rs': mn_tau_rs,\n",
    "    'mn_rate_as': mn_rate_as,\n",
    "    'r2_test_mn_all': r2_test_mn_all\n",
    "}]))"
   ]
  },
  {
   "cell_type": "code",
   "execution_count": 8,
   "id": "840c64e6",
   "metadata": {},
   "outputs": [
    {
     "data": {
      "image/png": "[encoded data removed]",
      "text/plain": [
       "<Figure size 864x288 with 3 Axes>"
      ]
     },
     "metadata": {
      "needs_background": "light"
     },
     "output_type": "display_data"
    }
   ],
   "source": [
    "rslts = np.load(f'data/simple/mlv/ma_red_distr/0D_100_nrn_unif_sel_sweep_mean_tau_r_tau_a.npy', allow_pickle=True)[0]\n",
    "fig, axs = plt.subplots(1, 3, figsize=(12, 4), tight_layout=True)\n",
    "for ax, targ in zip(axs, TARGS):\n",
    "    ax.matshow(rslts['r2_test_mn_all'][targ], zorder=0)\n",
    "    \n",
    "    idx_best = np.unravel_index(\n",
    "        rslts['r2_test_mn_all'][targ].flatten().argmax(),\n",
    "        rslts['r2_test_mn_all'][targ].shape)\n",
    "    \n",
    "    max_r2 = rslts['r2_test_mn_all'][targ][idx_best[0], idx_best[1]]\n",
    "    \n",
    "    ax.scatter(idx_best[1], idx_best[0], c='k', marker='x', zorder=1)\n",
    "    \n",
    "    set_plot(\n",
    "        ax,\n",
    "        x_ticks=np.arange(len(rslts['mn_rate_as'])),\n",
    "        y_ticks=np.arange(len(rslts['mn_tau_rs'])),\n",
    "        y_tick_labels=rslts['mn_tau_rs'],\n",
    "        x_label='~<tau_a> (s)',\n",
    "        y_label='<tau_r> (s)',\n",
    "        title=f'{targ}\\nMax R2 = {max_r2:.4f}',\n",
    "        font_size=12\n",
    "    )\n",
    "    \n",
    "    ax.set_xticklabels(1/np.array(rslts['mn_rate_as']), rotation=90, fontsize=12)\n",
    "    ax.xaxis.tick_bottom()"
   ]
  }
 ],
 "metadata": {
  "kernelspec": {
   "display_name": "Python 3",
   "language": "python",
   "name": "python3"
  },
  "language_info": {
   "codemirror_mode": {
    "name": "ipython",
    "version": 3
   },
   "file_extension": ".py",
   "mimetype": "text/x-python",
   "name": "python",
   "nbconvert_exporter": "python",
   "pygments_lexer": "ipython3",
   "version": "3.7.10"
  }
 },
 "nbformat": 4,
 "nbformat_minor": 5
}

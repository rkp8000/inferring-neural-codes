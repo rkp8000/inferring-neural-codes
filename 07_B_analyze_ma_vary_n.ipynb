{
 "cells": [
  {
   "cell_type": "markdown",
   "id": "913faec4",
   "metadata": {},
   "source": [
    "Create surrogate neural population responses during natural behavior trials using reduced populations with parameters chosen based on theoretical considerations."
   ]
  },
  {
   "cell_type": "code",
   "execution_count": 1,
   "id": "55457fab",
   "metadata": {},
   "outputs": [],
   "source": [
    "%matplotlib inline\n",
    "import matplotlib.gridspec as gridspec\n",
    "import matplotlib.pyplot as plt\n",
    "import numpy as np\n",
    "import os\n",
    "from scipy import signal, stats\n",
    "import sys\n",
    "import warnings; warnings.filterwarnings(\"ignore\")\n",
    "\n",
    "from aux import get_seg\n",
    "from disp import set_plot\n",
    "from my_torch import skl_fit_ridge\n",
    "from my_stats import nanpearsonr\n",
    "\n",
    "from record_0_main import smlt_ma\n",
    "\n",
    "cc = np.concatenate\n",
    "\n",
    "FPS = 30.03  # sampling rate of behavioral data\n",
    "DT = 1/FPS\n",
    "\n",
    "STRAINS = ['NM91', 'ZH23']\n",
    "STRAIN_KEY = '_'.join(STRAINS).lower()\n",
    "\n",
    "PTRAIN = .8\n",
    "NSPLIT = 30\n",
    "\n",
    "TARG_BHV = 'MTN'\n",
    "TWDWS = [.03, 1, 60]\n",
    "TARGS = [f'{TARG_BHV}_MN_{twdw}' for twdw in TWDWS]\n",
    "\n",
    "ALPHA = 10"
   ]
  },
  {
   "cell_type": "code",
   "execution_count": 2,
   "id": "79557ebd",
   "metadata": {},
   "outputs": [],
   "source": [
    "LOAD_DIR = f'data/simple/mlv/ma_vary_n'\n",
    "FPFX = 'ma_slow_int_fast_adapt_n'"
   ]
  },
  {
   "cell_type": "code",
   "execution_count": 3,
   "id": "314f34f1",
   "metadata": {},
   "outputs": [],
   "source": [
    "fnames = [fname for fname in os.listdir(LOAD_DIR) if fname.startswith(FPFX)]"
   ]
  },
  {
   "cell_type": "code",
   "execution_count": 10,
   "id": "fe547da5",
   "metadata": {},
   "outputs": [],
   "source": [
    "ns = np.array([int(fname[len(FPFX)+1:-4]) for fname in fnames])\n",
    "\n",
    "fnames = np.array(fnames)[np.argsort(ns)]\n",
    "ns = np.sort(ns)\n",
    "\n",
    "r2_test_mns = {targ: [] for targ in TARGS}\n",
    "r2_test_sds = {targ: [] for targ in TARGS}\n",
    "r2_test_maxs = {targ: [] for targ in TARGS}\n",
    "\n",
    "for fname in fnames:\n",
    "    \n",
    "    data = np.load(os.path.join(LOAD_DIR, fname), allow_pickle=True)[0]\n",
    "    r2_trains = data['R2_TRAINS']\n",
    "    r2_tests = data['R2_TESTS']\n",
    "    \n",
    "    for targ in TARGS:\n",
    "        r2_test_mns[targ].append(np.mean(r2_tests[targ]))\n",
    "        r2_test_sds[targ].append(np.std(r2_tests[targ]))\n",
    "        r2_test_maxs[targ].append(np.max(r2_tests[targ]))"
   ]
  },
  {
   "cell_type": "code",
   "execution_count": 17,
   "id": "f2284170",
   "metadata": {},
   "outputs": [
    {
     "data": {
      "image/png": "[encoded data removed]",
      "text/plain": [
       "<Figure size 450x162 with 3 Axes>"
      ]
     },
     "metadata": {
      "needs_background": "light"
     },
     "output_type": "display_data"
    }
   ],
   "source": [
    "fig, axs = plt.subplots(1, 3, figsize=(6.25, 2.25), tight_layout=True)\n",
    "for targ, ax in zip(TARGS, axs):\n",
    "    mns = 100*np.array(r2_test_mns[targ])\n",
    "    sds = 100*np.array(r2_test_sds[targ])\n",
    "    ax.errorbar(ns[ns <= 50], mns[ns <= 50], c='k', lw=2)\n",
    "    ax.fill_between(ns[ns <= 50], np.array(mns-sds)[ns <= 50], np.array(mns+sds)[ns <= 50], color='gray', alpha=.5)\n",
    "    \n",
    "    ax.set_ylim(bottom=0)\n",
    "    \n",
    "for ax in axs:\n",
    "    set_plot(ax, x_label='Number of neurons', y_label='% walking var. expl.', font_size=12)\n",
    "    \n",
    "fig.savefig('ms/2_fast_adapt_slow_int_walk_var_vs_n.svg')"
   ]
  },
  {
   "cell_type": "code",
   "execution_count": null,
   "id": "339b6b6b-19de-40e9-a61b-75d0eccc467b",
   "metadata": {},
   "outputs": [],
   "source": []
  }
 ],
 "metadata": {
  "kernelspec": {
   "display_name": "Python 3 (ipykernel)",
   "language": "python",
   "name": "python3"
  },
  "language_info": {
   "codemirror_mode": {
    "name": "ipython",
    "version": 3
   },
   "file_extension": ".py",
   "mimetype": "text/x-python",
   "name": "python",
   "nbconvert_exporter": "python",
   "pygments_lexer": "ipython3",
   "version": "3.9.13"
  }
 },
 "nbformat": 4,
 "nbformat_minor": 5
}

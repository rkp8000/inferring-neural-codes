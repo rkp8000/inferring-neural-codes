{
 "cells": [
  {
   "cell_type": "markdown",
   "id": "danish-behavior",
   "metadata": {},
   "source": [
    "Create surrogate neural population responses during natural behavior trials using theory-inspired neural populations."
   ]
  },
  {
   "cell_type": "code",
   "execution_count": null,
   "id": "stuck-spending",
   "metadata": {},
   "outputs": [],
   "source": [
    "%matplotlib inline\n",
    "import matplotlib.gridspec as gridspec\n",
    "import matplotlib.pyplot as plt\n",
    "import numpy as np\n",
    "import os\n",
    "import pandas as pd\n",
    "from scipy import signal, stats\n",
    "from sklearn import linear_model\n",
    "import sys\n",
    "import warnings; warnings.filterwarnings(\"ignore\")\n",
    "\n",
    "from aux import get_seg\n",
    "from disp import set_font_size\n",
    "from my_stats import nanpearsonr\n",
    "\n",
    "cc = np.concatenate\n",
    "\n",
    "FPS = 30.03  # sampling rate of behavioral data\n",
    "DT = 1/FPS"
   ]
  },
  {
   "cell_type": "markdown",
   "id": "mobile-mumbai",
   "metadata": {},
   "source": [
    "Load behavioral data from Coen et al 2014"
   ]
  },
  {
   "cell_type": "code",
   "execution_count": null,
   "id": "built-stability",
   "metadata": {},
   "outputs": [],
   "source": [
    "df_behav = pd.read_csv('data/simple/c_song_f_behav.csv')\n",
    "df_behav"
   ]
  },
  {
   "cell_type": "code",
   "execution_count": null,
   "id": "sapphire-ferry",
   "metadata": {},
   "outputs": [],
   "source": [
    "# split big df into dfs for individual trials\n",
    "n_tr = np.max(df_behav.ID) + 1\n",
    "dfs_tr = [df_behav[df_behav.ID == i] for i in range(n_tr)]\n",
    "\n",
    "tr_lens = np.array([len(df_tr) for df_tr in dfs_tr])\n",
    "tr_lens_cum = cc([[0], np.cumsum(tr_lens)])\n",
    "\n",
    "n_t_total = np.sum(tr_lens)\n",
    "assert n_t_total == tr_lens_cum[-1]\n",
    "df_behav = None"
   ]
  },
  {
   "cell_type": "markdown",
   "id": "wrong-nowhere",
   "metadata": {},
   "source": [
    "# Simulation function"
   ]
  },
  {
   "cell_type": "code",
   "execution_count": null,
   "id": "worldwide-scotland",
   "metadata": {},
   "outputs": [],
   "source": [
    "# define smln & obj function\n",
    "def smlt(i_s, i_p, tau_r, tau_a, x_s, x_p):\n",
    "    \"\"\"Simulate response to song inputs.\"\"\"\n",
    "    t = np.arange(len(i_s))*DT\n",
    "    r = np.nan*np.zeros(len(t))\n",
    "    \n",
    "    r[0] = 0\n",
    "    a_s, a_p = 0, 0\n",
    "    \n",
    "    for ct, t_ in enumerate(t[1:], 1):\n",
    "        a_s += ((DT/tau_a) * (-a_s + x_s*i_s[ct]))\n",
    "        a_p += ((DT/tau_a) * (-a_p + x_p*i_p[ct]))\n",
    "        r[ct] = r[ct-1] + (DT/tau_r) * (-r[ct-1] + (x_s - a_s)*i_s[ct] + (x_p - a_p)*i_p[ct])\n",
    "    \n",
    "    return r"
   ]
  },
  {
   "cell_type": "markdown",
   "id": "acute-galaxy",
   "metadata": {},
   "source": [
    "# Baseline dynamical model params"
   ]
  },
  {
   "cell_type": "code",
   "execution_count": null,
   "id": "retained-adams",
   "metadata": {},
   "outputs": [],
   "source": [
    "# neural response fits from Baker data\n",
    "df_dyn_param = pd.read_csv('data/simple/neur/baker_dyn_fit_param.csv')\n",
    "df_dyn_param"
   ]
  }
 ],
 "metadata": {
  "kernelspec": {
   "display_name": "Python 3",
   "language": "python",
   "name": "python3"
  },
  "language_info": {
   "codemirror_mode": {
    "name": "ipython",
    "version": 3
   },
   "file_extension": ".py",
   "mimetype": "text/x-python",
   "name": "python",
   "nbconvert_exporter": "python",
   "pygments_lexer": "ipython3",
   "version": "3.6.13"
  }
 },
 "nbformat": 4,
 "nbformat_minor": 5
}

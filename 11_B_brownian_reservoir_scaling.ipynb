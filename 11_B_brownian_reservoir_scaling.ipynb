{
 "cells": [
  {
   "cell_type": "markdown",
   "id": "6020e30b",
   "metadata": {},
   "source": [
    "# Demonstrate scaling property of brownian reservoir"
   ]
  },
  {
   "cell_type": "code",
   "execution_count": 1,
   "id": "f4bd7d61",
   "metadata": {},
   "outputs": [],
   "source": [
    "%matplotlib inline\n",
    "import matplotlib.gridspec as gridspec\n",
    "import matplotlib.pyplot as plt\n",
    "import numpy as np\n",
    "import os\n",
    "import pandas as pd\n",
    "from scipy import signal, stats\n",
    "from sklearn import decomposition, linear_model\n",
    "import sys\n",
    "import warnings; warnings.filterwarnings(\"ignore\")\n",
    "\n",
    "from aux import get_seg, rand_string\n",
    "from disp import set_plot, plot_b, colors\n",
    "from record_0_main import smlt_ma, smlt_lnma\n",
    "from my_stats import nanpearsonr\n",
    "\n",
    "cc = np.concatenate\n",
    "\n",
    "FPS = 30.03  # sampling rate of behavioral data\n",
    "DT = 1/FPS"
   ]
  },
  {
   "cell_type": "markdown",
   "id": "a8a3f3d2",
   "metadata": {
    "tags": []
   },
   "source": [
    "# Load natural song snippets"
   ]
  },
  {
   "cell_type": "code",
   "execution_count": 2,
   "id": "94f53794",
   "metadata": {},
   "outputs": [],
   "source": [
    "STRAINS = ['NM91', 'ZH23']\n",
    "FSTRAIN = 'data/simple/strains.csv'\n",
    "\n",
    "MSTRAINS = [(pd.read_csv(FSTRAIN)['STRAIN'] == strain) for strain in STRAINS]\n",
    "MSTRAIN = np.any(MSTRAINS, axis=0)\n",
    "ISTRAIN = MSTRAIN.nonzero()[0]\n",
    "\n",
    "NTR = MSTRAIN.sum()"
   ]
  },
  {
   "cell_type": "code",
   "execution_count": 3,
   "id": "cb643db9",
   "metadata": {},
   "outputs": [],
   "source": [
    "# load natural songs\n",
    "df_song = pd.read_csv('data/simple/c_song_f_behav.csv')[['ID', 'T', 'Q', 'S', 'P' ,'F']]\n",
    "sngs_full = []\n",
    "for itr in ISTRAIN:\n",
    "    df_tr = df_song[df_song['ID'] == itr]\n",
    "    sng_full = np.zeros(len(df_tr), dtype=int)\n",
    "    sng_full[df_tr['S'] == 1] = 1\n",
    "    sng_full[(df_tr['P'] == 1) | (df_tr['F'] == 1)] = 2\n",
    "    sngs_full.append(sng_full)"
   ]
  },
  {
   "cell_type": "code",
   "execution_count": 4,
   "id": "ebc22323",
   "metadata": {},
   "outputs": [],
   "source": [
    "N = 20\n",
    "tau_r = np.random.uniform(120, 120, N)\n",
    "tau_a = np.random.uniform(.1, 2, N)\n",
    "x_s = np.random.uniform(0, 1, N)\n",
    "x_p = np.random.uniform(0, 1, N)\n",
    "\n",
    "params_0 = {'TAU_R': tau_r, 'TAU_A': tau_a, 'X_S': x_s, 'X_P': x_p}\n",
    "params_1 = {'TAU_R': np.random.uniform(20, 120, N), 'TAU_A': tau_a, 'X_S': x_s, 'X_P': x_p}"
   ]
  },
  {
   "cell_type": "code",
   "execution_count": 5,
   "id": "0b0e270d",
   "metadata": {},
   "outputs": [
    {
     "name": "stdout",
     "output_type": "stream",
     "text": [
      "T_SNP 320: 54 snippets\n",
      "Lengths:\n",
      "['324.21', '376.89', '370.40', '375.46', '574.59', '1602.16', '443.79', '607.13', '733.97', '1786.58', '322.48', '420.28', '1514.05', '505.83', '1732.73', '575.29', '609.92', '542.29', '348.65', '1771.50', '340.16', '881.42', '338.99', '463.17', '1038.26', '1772.66', '734.37', '402.26', '374.36', '858.18', '705.89', '502.50', '903.50', '748.45', '1773.49', '546.92', '372.23', '589.31', '496.04', '1076.49', '1259.11', '447.89', '602.60', '434.20', '1318.58', '613.42', '677.99', '1795.74', '355.48', '931.10', '468.63', '1793.67', '468.27', '1003.20']\n"
     ]
    }
   ],
   "source": [
    "# get snippets\n",
    "T_SNP = 320  # min snippet length to fetch\n",
    "NT_SNP = int(round(T_SNP*FPS))\n",
    "\n",
    "snps = []\n",
    "\n",
    "sys.stdout.write(f'T_SNP {T_SNP}: ')\n",
    "\n",
    "t_snp = np.arange(NT_SNP)*DT\n",
    "\n",
    "for csng, sng_full in enumerate(sngs_full):\n",
    "\n",
    "    segs, bds = get_seg(sng_full > 0, min_gap=NT_SNP)\n",
    "    segs = [sng_full[lb:ub] for lb, ub in bds if (ub-lb >= NT_SNP)]\n",
    "    snps.extend(segs)\n",
    "\n",
    "nsnp = len(snps)\n",
    "\n",
    "sys.stdout.write(f'{nsnp} snippets\\n')\n",
    "\n",
    "print('Lengths:')\n",
    "print([f'{len(snp)*DT:.2f}' for snp in snps])"
   ]
  },
  {
   "cell_type": "code",
   "execution_count": 6,
   "id": "ca279161",
   "metadata": {},
   "outputs": [
    {
     "name": "stdout",
     "output_type": "stream",
     "text": [
      "......................................................"
     ]
    }
   ],
   "source": [
    "rs_ma_all_0 = []\n",
    "rs_lnma_all_0 = []\n",
    "\n",
    "rs_ma_all_1 = []\n",
    "rs_lnma_all_1 = []\n",
    "\n",
    "for snp in snps:\n",
    "    sys.stdout.write('.')\n",
    "\n",
    "    i_s = (snp == 1).astype(float)\n",
    "    i_p = (snp == 2).astype(float)\n",
    "\n",
    "    t_snp = np.arange(len(snp))*DT\n",
    "\n",
    "    rs_ma_0 = smlt_ma(i_s, i_p, params_0, DT)\n",
    "    rs_ma_all_0.append(rs_ma_0)\n",
    "    \n",
    "    rs_lnma_0 = smlt_lnma(i_s, i_p, params_0, DT)\n",
    "    rs_lnma_all_0.append(rs_lnma_0)\n",
    "    \n",
    "    rs_ma_1 = smlt_ma(i_s, i_p, params_1, DT)\n",
    "    rs_ma_all_1.append(rs_ma_1)\n",
    "    \n",
    "    rs_lnma_1 = smlt_lnma(i_s, i_p, params_1, DT)\n",
    "    rs_lnma_all_1.append(rs_lnma_1)"
   ]
  },
  {
   "cell_type": "markdown",
   "id": "28cfaa15",
   "metadata": {},
   "source": [
    "## Stats -- scaling"
   ]
  },
  {
   "cell_type": "code",
   "execution_count": 7,
   "id": "8a27dcde",
   "metadata": {},
   "outputs": [],
   "source": [
    "ALPHA = 1e-15\n",
    "T_YS = [1.25, 2.5, 5, 10, 20, 40, 80, 160, 320, 640, 1280, 2560]  # song duration and sine wave half period\n",
    "\n",
    "err_mas_0 = np.nan*np.zeros((len(T_YS), len(snps)))\n",
    "err_lnmas_0 = np.nan*np.zeros((len(T_YS), len(snps)))\n",
    "\n",
    "err_mas_1 = np.nan*np.zeros((len(T_YS), len(snps)))\n",
    "err_lnmas_1 = np.nan*np.zeros((len(T_YS), len(snps)))\n",
    "\n",
    "for cy, T_Y in enumerate(T_YS):\n",
    "\n",
    "    # get snps longer than T_Y\n",
    "    isnps = np.nonzero([len(snp) >= (T_Y/2*FPS) for snp in snps])[0]\n",
    "\n",
    "    for isnp in isnps:\n",
    "        snp = snps[isnp]\n",
    "        \n",
    "        t = np.arange(len(snp))*DT\n",
    "        mt = (t <= (T_Y/2))  # mask\n",
    "        y = np.sin(2*np.pi*t[mt]/T_Y)\n",
    "        \n",
    "        rs_ma_0 = rs_ma_all_0[isnp]\n",
    "        rs_lnma_0 = rs_lnma_all_0[isnp]\n",
    "        \n",
    "        # fit MA model\n",
    "        y_hat = linear_model.Ridge(alpha=ALPHA).fit(rs_ma_0[mt, :], y).predict(rs_ma_0[mt, :])\n",
    "        err_mas_0[cy, isnp] = np.sqrt(np.mean((y-y_hat)**2))\n",
    "\n",
    "        # fit LNMA model\n",
    "        y_hat = linear_model.Ridge(alpha=ALPHA).fit(rs_lnma_0[mt, :], y).predict(rs_lnma_0[mt, :])\n",
    "        err_lnmas_0[cy, isnp] = np.sqrt(np.mean((y-y_hat)**2))\n",
    "        \n",
    "        # heterogeneous tau_r pop\n",
    "        rs_ma_1 = rs_ma_all_1[isnp]\n",
    "        rs_lnma_1 = rs_lnma_all_1[isnp]\n",
    "        \n",
    "        # fit MA model\n",
    "        y_hat = linear_model.Ridge(alpha=ALPHA).fit(rs_ma_1[mt, :], y).predict(rs_ma_1[mt, :])\n",
    "        err_mas_1[cy, isnp] = np.sqrt(np.mean((y-y_hat)**2))\n",
    "\n",
    "        # fit LNMA model\n",
    "        y_hat = linear_model.Ridge(alpha=ALPHA).fit(rs_lnma_1[mt, :], y).predict(rs_lnma_1[mt, :])\n",
    "        err_lnmas_1[cy, isnp] = np.sqrt(np.mean((y-y_hat)**2))"
   ]
  },
  {
   "cell_type": "code",
   "execution_count": 8,
   "id": "9055c243",
   "metadata": {},
   "outputs": [
    {
     "data": {
      "image/png": "[encoded data removed]",
      "text/plain": [
       "<Figure size 198x180 with 1 Axes>"
      ]
     },
     "metadata": {
      "needs_background": "light"
     },
     "output_type": "display_data"
    }
   ],
   "source": [
    "fig, ax = plt.subplots(1, 1, figsize=(2.75, 2.5), tight_layout=True)\n",
    "ax.errorbar(T_YS, np.nanmean(err_mas_0, 1), yerr=np.nanstd(err_mas_0, 1), c='k')\n",
    "ax.errorbar(T_YS, np.nanmean(err_lnmas_0, 1), yerr=np.nanstd(err_lnmas_0, 1), c='m')\n",
    "\n",
    "ax.errorbar(T_YS, np.nanmean(err_mas_1, 1), yerr=np.nanstd(err_mas_1, 1), c='k', ls='--')\n",
    "ax.errorbar(T_YS, np.nanmean(err_lnmas_1, 1), yerr=np.nanstd(err_lnmas_1, 1), c='m', ls='--')\n",
    "\n",
    "ax.set_xscale('log')\n",
    "set_plot(ax, x_ticks=[1, 10, 100, 1000], y_lim=(-.05, .325), x_label='Target duration (s)', y_label='RMS error')\n",
    "\n",
    "fig.savefig('ms/4_res_comp_ma_vs_ln_scaling_het_tau_r.svg')"
   ]
  },
  {
   "cell_type": "code",
   "execution_count": null,
   "id": "d9caf2ca",
   "metadata": {},
   "outputs": [],
   "source": []
  }
 ],
 "metadata": {
  "kernelspec": {
   "display_name": "Python 3",
   "language": "python",
   "name": "python3"
  },
  "language_info": {
   "codemirror_mode": {
    "name": "ipython",
    "version": 3
   },
   "file_extension": ".py",
   "mimetype": "text/x-python",
   "name": "python",
   "nbconvert_exporter": "python",
   "pygments_lexer": "ipython3",
   "version": "3.7.10"
  }
 },
 "nbformat": 4,
 "nbformat_minor": 5
}

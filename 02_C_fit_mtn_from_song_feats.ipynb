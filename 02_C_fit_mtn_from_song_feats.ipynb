{
 "cells": [
  {
   "cell_type": "markdown",
   "id": "6f0df107",
   "metadata": {},
   "source": [
    "# Predict female behav vars from hand-picked song features"
   ]
  },
  {
   "cell_type": "code",
   "execution_count": 1,
   "id": "ebbe8574",
   "metadata": {},
   "outputs": [],
   "source": [
    "%matplotlib inline\n",
    "import matplotlib.pyplot as plt\n",
    "import numpy as np\n",
    "import pandas as pd\n",
    "from scipy import stats\n",
    "import sys\n",
    "\n",
    "from disp import set_plot\n",
    "from my_torch import skl_fit_lin_single\n",
    "\n",
    "cc = np.concatenate\n",
    "\n",
    "\n",
    "TARG_BHV = 'MTN'\n",
    "TWDWS = [.03, 1, 60]\n",
    "TARGS = [f'{TARG_BHV}_MN_{twdw}' for twdw in TWDWS]\n",
    "\n",
    "PFX_BHV = f'data/simple/behav_xtd/behav_xtd'\n",
    "\n",
    "SONG_HEURS = [\n",
    "    'N_S_ONSETS',\n",
    "    'N_P_ONSETS',\n",
    "    'N_B_ONSETS',\n",
    "    'S_TOTAL',\n",
    "    'P_TOTAL',\n",
    "    'B_TOTAL',\n",
    "    # duration/ratio vars are undefined at many timepoints, which significantly changes the dataset used for fitting\n",
    "#     'MN_S_DUR',\n",
    "#     'MN_P_DUR',  \n",
    "#     'MN_B_DUR',\n",
    "#     'SP_RATIO',\n",
    "]\n",
    "WDWS_HEUR = [1, 10, 30, 60, 120, 1800]\n",
    "\n",
    "PTRAIN = .8\n",
    "NSPLIT = 30\n",
    "\n",
    "MASK_PFX = 'data/simple/masks/mask'\n",
    "# MASK_PFX = None\n",
    "\n",
    "if MASK_PFX:\n",
    "    FSAVE_SFX = f'{TARG_BHV.lower()}_masked'\n",
    "else:\n",
    "    FSAVE_SFX = f'{TARG_BHV.lower()}'"
   ]
  },
  {
   "cell_type": "code",
   "execution_count": 2,
   "id": "c2ab38b2",
   "metadata": {},
   "outputs": [],
   "source": [
    "STRAINS = ['NM91', 'ZH23']\n",
    "# STRAINS = ['CM07', 'CSTul', 'N30', 'ZW109']\n",
    "# STRAINS = ['NM91', 'ZH23', 'CM07', 'CSTul', 'N30', 'ZW109']\n",
    "# STRAINS = ['WTG']\n",
    "STRAIN_KEY = '_'.join(STRAINS).lower()\n",
    "\n",
    "FSTRAIN = 'data/simple/strains.csv'\n",
    "MSTRAINS = [(pd.read_csv(FSTRAIN)['STRAIN'] == strain) for strain in STRAINS]\n",
    "MSTRAIN = np.any(MSTRAINS, axis=0)\n",
    "ISTRAIN = MSTRAIN.nonzero()[0]\n",
    "\n",
    "NTR = len(ISTRAIN)\n",
    "NTRAIN = int(round(PTRAIN*NTR))"
   ]
  },
  {
   "cell_type": "code",
   "execution_count": 3,
   "id": "420ab18a",
   "metadata": {},
   "outputs": [],
   "source": [
    "PFX_NRL = f'data/simple/mlv/heuristic/heuristics/heuristics'\n",
    "\n",
    "COLS_USE = ['T'] + sum([[f'{kheur}_{wdw}' for wdw in WDWS_HEUR] for kheur in SONG_HEURS], [])\n",
    "\n",
    "FSAVE = f'data/simple/mlv/heuristic/heuristics_single_{STRAIN_KEY}_{FSAVE_SFX}.npy'"
   ]
  },
  {
   "cell_type": "code",
   "execution_count": null,
   "id": "12da7d42",
   "metadata": {},
   "outputs": [],
   "source": [
    "# fit model\n",
    "rslt = skl_fit_lin_single(\n",
    "    pfxs=[PFX_NRL, PFX_BHV],\n",
    "    cols_x=COLS_USE,\n",
    "    targs=TARGS,\n",
    "    itr_all=ISTRAIN,\n",
    "    ntrain=NTRAIN,\n",
    "    nsplit=NSPLIT,\n",
    "    mask_pfx=MASK_PFX,\n",
    "    verbose=True)\n",
    "\n",
    "# save results\n",
    "save_data = {\n",
    "    'r2_train': rslt.r2_train,\n",
    "    'r2_test': rslt.r2_test,\n",
    "\n",
    "    'w': rslt.w,\n",
    "    'bias': rslt.bias,\n",
    "\n",
    "    'targs': TARGS,\n",
    "    'heurs': COLS_USE,\n",
    "\n",
    "    'ntr': NTR,\n",
    "    'ntrain': NTRAIN,\n",
    "    'nsplit': NSPLIT\n",
    "}\n",
    "\n",
    "np.save(FSAVE, np.array([save_data]))"
   ]
  },
  {
   "cell_type": "code",
   "execution_count": 4,
   "id": "ce036485",
   "metadata": {},
   "outputs": [
    {
     "data": {
      "image/png": "[encoded data removed]",
      "text/plain": [
       "<Figure size 864x216 with 3 Axes>"
      ]
     },
     "metadata": {
      "needs_background": "light"
     },
     "output_type": "display_data"
    }
   ],
   "source": [
    "data = np.load(FSAVE, allow_pickle=True)[0]\n",
    "\n",
    "fig, axs = plt.subplots(1, 3, figsize=(12, 3), tight_layout=True)\n",
    "\n",
    "for ax, targ, in zip(axs, TARGS):\n",
    "\n",
    "    r2_train = data['r2_train'][targ].mean(axis=0)  # avg over splits\n",
    "    r2_test = data['r2_test'][targ].mean(axis=0)  \n",
    "    r2_test_max = np.max(r2_test)\n",
    "\n",
    "    ax.scatter(r2_train, np.zeros(len(r2_train)), c='r', marker='x', s=100)\n",
    "    ax.scatter(r2_test, np.ones(len(r2_test)), c='orange', marker='x', s=100)\n",
    "\n",
    "    ax.axvline(0, color='gray', ls='--')\n",
    "\n",
    "    set_plot(\n",
    "        ax, x_lim=(-.05, .15), y_lim=(-1, 2), y_ticks=[0, 1], \n",
    "        y_tick_labels=['Training', 'Test'], x_label=r'$R^2$', title=f'{targ}, max r2: {r2_test_max:.3f}', font_size=16)"
   ]
  },
  {
   "cell_type": "code",
   "execution_count": null,
   "id": "34350e79",
   "metadata": {},
   "outputs": [],
   "source": []
  }
 ],
 "metadata": {
  "kernelspec": {
   "display_name": "Python 3",
   "language": "python",
   "name": "python3"
  },
  "language_info": {
   "codemirror_mode": {
    "name": "ipython",
    "version": 3
   },
   "file_extension": ".py",
   "mimetype": "text/x-python",
   "name": "python",
   "nbconvert_exporter": "python",
   "pygments_lexer": "ipython3",
   "version": "3.7.10"
  }
 },
 "nbformat": 4,
 "nbformat_minor": 5
}

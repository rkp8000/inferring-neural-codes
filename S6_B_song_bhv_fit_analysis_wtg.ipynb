{
 "cells": [
  {
   "cell_type": "markdown",
   "metadata": {},
   "source": [
    "# Plot strain-specific model fits and song statistics"
   ]
  },
  {
   "cell_type": "code",
   "execution_count": 1,
   "metadata": {},
   "outputs": [],
   "source": [
    "%matplotlib inline\n",
    "import matplotlib.pyplot as plt\n",
    "import numpy as np\n",
    "import pandas as pd\n",
    "import sys\n",
    "\n",
    "from aux import get_seg\n",
    "from disp import set_plot\n",
    "\n",
    "cc = np.concatenate\n",
    "\n",
    "FPS = 30.03\n",
    "DT = 1/FPS\n",
    "\n",
    "COMBOS = [('NM91', 'ZH23'), ('CM07', 'CSTul'), ('N30', 'ZW109'), ('WTG',)]\n",
    "\n",
    "KEYS = ['_'.join(COMBO).lower() for COMBO in COMBOS]\n",
    "REG_KEY = 'ridge_alpha_10'\n",
    "\n",
    "FSTRAIN = 'data/simple/strains.csv'\n",
    "MCOMBOS = []\n",
    "for COMBO in COMBOS:\n",
    "    temp = [(pd.read_csv(FSTRAIN)['STRAIN'] == strain) for strain in COMBO]\n",
    "    MCOMBOS.append(np.any(temp, axis=0))\n",
    "ICOMBOS = [MCOMBO.nonzero()[0] for MCOMBO in MCOMBOS]"
   ]
  },
  {
   "cell_type": "code",
   "execution_count": 3,
   "metadata": {},
   "outputs": [
    {
     "ename": "NameError",
     "evalue": "name 'df_behav' is not defined",
     "output_type": "error",
     "traceback": [
      "\u001b[0;31m---------------------------------------------------------------------------\u001b[0m",
      "\u001b[0;31mNameError\u001b[0m                                 Traceback (most recent call last)",
      "\u001b[0;32m<ipython-input-3-30d5f9fcd538>\u001b[0m in \u001b[0;36m<module>\u001b[0;34m\u001b[0m\n\u001b[1;32m      1\u001b[0m \u001b[0mdf_behav_c\u001b[0m \u001b[0;34m=\u001b[0m \u001b[0mpd\u001b[0m\u001b[0;34m.\u001b[0m\u001b[0mread_csv\u001b[0m\u001b[0;34m(\u001b[0m\u001b[0;34m'data/simple/c_song_f_behav.csv'\u001b[0m\u001b[0;34m)\u001b[0m\u001b[0;34m\u001b[0m\u001b[0;34m\u001b[0m\u001b[0m\n\u001b[1;32m      2\u001b[0m \u001b[0;34m\u001b[0m\u001b[0m\n\u001b[0;32m----> 3\u001b[0;31m \u001b[0mn_tr\u001b[0m \u001b[0;34m=\u001b[0m \u001b[0mnp\u001b[0m\u001b[0;34m.\u001b[0m\u001b[0mmax\u001b[0m\u001b[0;34m(\u001b[0m\u001b[0mdf_behav\u001b[0m\u001b[0;34m.\u001b[0m\u001b[0mID\u001b[0m\u001b[0;34m)\u001b[0m \u001b[0;34m+\u001b[0m \u001b[0;36m1\u001b[0m\u001b[0;34m\u001b[0m\u001b[0;34m\u001b[0m\u001b[0m\n\u001b[0m\u001b[1;32m      4\u001b[0m \u001b[0;34m\u001b[0m\u001b[0m\n\u001b[1;32m      5\u001b[0m \u001b[0mdf_behav_\u001b[0m\u001b[0;34m\u001b[0m\u001b[0;34m\u001b[0m\u001b[0m\n",
      "\u001b[0;31mNameError\u001b[0m: name 'df_behav' is not defined"
     ]
    }
   ],
   "source": [
    "df_behav_c = pd.read_csv('data/simple/c_song_f_behav.csv')\n",
    "\n",
    "n_tr = np.max(df_behav.ID) + 1\n",
    "\n",
    "df_behav_"
   ]
  },
  {
   "cell_type": "markdown",
   "metadata": {},
   "source": [
    "# Frac trials singing and singing in each mode over time"
   ]
  },
  {
   "cell_type": "code",
   "execution_count": null,
   "metadata": {},
   "outputs": [],
   "source": [
    "from scipy.ndimage import gaussian_filter1d as smooth\n",
    "\n",
    "for ICOMBO, COMBO in zip(ICOMBOS, COMBOS):\n",
    "    dfs_tr = [df_behav[df_behav.ID == i] for i in ICOMBO]\n",
    "    tr_lens = [len(df_tr) for df_tr in dfs_tr]\n",
    "    \n",
    "    SMOOTH = int(round(10/DT))\n",
    "\n",
    "    songs = np.nan * np.ones((len(dfs_tr), np.max(tr_lens)))\n",
    "    for ctr, df_tr in enumerate(dfs_tr):\n",
    "        song = np.zeros(len(df_tr), dtype=int)\n",
    "        song[np.array(df_tr['S'], dtype=bool)] = 1\n",
    "        song[np.array(df_tr['P'] | df_tr['F'], dtype=bool)] = 2\n",
    "        songs[ctr, :len(df_tr)] = song\n",
    "\n",
    "    frac_ongoing = np.mean(~np.isnan(songs), axis=0)\n",
    "\n",
    "    fig, axs = plt.subplots(1, 2, figsize=(14, 4), tight_layout=True)\n",
    "    axs[0].plot(DT*np.arange(songs.shape[1]), frac_ongoing, lw=2)\n",
    "\n",
    "    frac_singing = smooth(np.mean(songs > 0, axis=0)/frac_ongoing, SMOOTH)\n",
    "\n",
    "    axs[0].plot(DT*np.arange(songs.shape[1]), frac_singing, lw=2, c='k')\n",
    "    axs[0].set_ylim(0, 1.1)\n",
    "    axs[0].set_xlabel('Time (s)')\n",
    "    # axs[0].set_ylabel('Fraction trials still going')\n",
    "    axs[0].legend(['Frac trials still going', 'Frac singing'])\n",
    "\n",
    "    frac_sine = smooth(np.mean(songs == 1, axis=0)/frac_ongoing, SMOOTH)\n",
    "    frac_pulse = smooth(np.mean(songs == 2, axis=0)/frac_ongoing, SMOOTH)\n",
    "\n",
    "    axs[1].plot(DT*np.arange(songs.shape[1]), frac_sine, lw=2, c='b')\n",
    "    axs[1].plot(DT*np.arange(songs.shape[1]), frac_pulse, lw=2, c='r')\n",
    "    axs[1].set_ylim(0, 1.1)\n",
    "\n",
    "    axs[1].set_xlabel('Time (s)')\n",
    "    axs[1].legend(['Sine', 'Pulse'])\n",
    "\n",
    "    for ax in axs:\n",
    "        ax.grid()\n",
    "        set_plot(ax, title=f'{COMBO}', font_size=14)"
   ]
  },
  {
   "cell_type": "markdown",
   "metadata": {},
   "source": [
    "# Avg female movement speed over time"
   ]
  },
  {
   "cell_type": "code",
   "execution_count": 4,
   "metadata": {},
   "outputs": [
    {
     "ename": "NameError",
     "evalue": "name 'df_behav' is not defined",
     "output_type": "error",
     "traceback": [
      "\u001b[0;31m---------------------------------------------------------------------------\u001b[0m",
      "\u001b[0;31mNameError\u001b[0m                                 Traceback (most recent call last)",
      "\u001b[0;32m<ipython-input-4-7d031104d83a>\u001b[0m in \u001b[0;36m<module>\u001b[0;34m\u001b[0m\n\u001b[1;32m      2\u001b[0m \u001b[0;34m\u001b[0m\u001b[0m\n\u001b[1;32m      3\u001b[0m \u001b[0;32mfor\u001b[0m \u001b[0mICOMBO\u001b[0m\u001b[0;34m,\u001b[0m \u001b[0mCOMBO\u001b[0m \u001b[0;32min\u001b[0m \u001b[0mzip\u001b[0m\u001b[0;34m(\u001b[0m\u001b[0mICOMBOS\u001b[0m\u001b[0;34m,\u001b[0m \u001b[0mCOMBOS\u001b[0m\u001b[0;34m)\u001b[0m\u001b[0;34m:\u001b[0m\u001b[0;34m\u001b[0m\u001b[0;34m\u001b[0m\u001b[0m\n\u001b[0;32m----> 4\u001b[0;31m     \u001b[0mdfs_tr\u001b[0m \u001b[0;34m=\u001b[0m \u001b[0;34m[\u001b[0m\u001b[0mdf_behav\u001b[0m\u001b[0;34m[\u001b[0m\u001b[0mdf_behav\u001b[0m\u001b[0;34m.\u001b[0m\u001b[0mID\u001b[0m \u001b[0;34m==\u001b[0m \u001b[0mi\u001b[0m\u001b[0;34m]\u001b[0m \u001b[0;32mfor\u001b[0m \u001b[0mi\u001b[0m \u001b[0;32min\u001b[0m \u001b[0mICOMBO\u001b[0m\u001b[0;34m]\u001b[0m\u001b[0;34m\u001b[0m\u001b[0;34m\u001b[0m\u001b[0m\n\u001b[0m\u001b[1;32m      5\u001b[0m     \u001b[0mtr_lens\u001b[0m \u001b[0;34m=\u001b[0m \u001b[0;34m[\u001b[0m\u001b[0mlen\u001b[0m\u001b[0;34m(\u001b[0m\u001b[0mdf_tr\u001b[0m\u001b[0;34m)\u001b[0m \u001b[0;32mfor\u001b[0m \u001b[0mdf_tr\u001b[0m \u001b[0;32min\u001b[0m \u001b[0mdfs_tr\u001b[0m\u001b[0;34m]\u001b[0m\u001b[0;34m\u001b[0m\u001b[0;34m\u001b[0m\u001b[0m\n\u001b[1;32m      6\u001b[0m     \u001b[0mSMOOTH\u001b[0m \u001b[0;34m=\u001b[0m \u001b[0mint\u001b[0m\u001b[0;34m(\u001b[0m\u001b[0mround\u001b[0m\u001b[0;34m(\u001b[0m\u001b[0;36m10\u001b[0m\u001b[0;34m/\u001b[0m\u001b[0mDT\u001b[0m\u001b[0;34m)\u001b[0m\u001b[0;34m)\u001b[0m\u001b[0;34m\u001b[0m\u001b[0;34m\u001b[0m\u001b[0m\n",
      "\u001b[0;32m<ipython-input-4-7d031104d83a>\u001b[0m in \u001b[0;36m<listcomp>\u001b[0;34m(.0)\u001b[0m\n\u001b[1;32m      2\u001b[0m \u001b[0;34m\u001b[0m\u001b[0m\n\u001b[1;32m      3\u001b[0m \u001b[0;32mfor\u001b[0m \u001b[0mICOMBO\u001b[0m\u001b[0;34m,\u001b[0m \u001b[0mCOMBO\u001b[0m \u001b[0;32min\u001b[0m \u001b[0mzip\u001b[0m\u001b[0;34m(\u001b[0m\u001b[0mICOMBOS\u001b[0m\u001b[0;34m,\u001b[0m \u001b[0mCOMBOS\u001b[0m\u001b[0;34m)\u001b[0m\u001b[0;34m:\u001b[0m\u001b[0;34m\u001b[0m\u001b[0;34m\u001b[0m\u001b[0m\n\u001b[0;32m----> 4\u001b[0;31m     \u001b[0mdfs_tr\u001b[0m \u001b[0;34m=\u001b[0m \u001b[0;34m[\u001b[0m\u001b[0mdf_behav\u001b[0m\u001b[0;34m[\u001b[0m\u001b[0mdf_behav\u001b[0m\u001b[0;34m.\u001b[0m\u001b[0mID\u001b[0m \u001b[0;34m==\u001b[0m \u001b[0mi\u001b[0m\u001b[0;34m]\u001b[0m \u001b[0;32mfor\u001b[0m \u001b[0mi\u001b[0m \u001b[0;32min\u001b[0m \u001b[0mICOMBO\u001b[0m\u001b[0;34m]\u001b[0m\u001b[0;34m\u001b[0m\u001b[0;34m\u001b[0m\u001b[0m\n\u001b[0m\u001b[1;32m      5\u001b[0m     \u001b[0mtr_lens\u001b[0m \u001b[0;34m=\u001b[0m \u001b[0;34m[\u001b[0m\u001b[0mlen\u001b[0m\u001b[0;34m(\u001b[0m\u001b[0mdf_tr\u001b[0m\u001b[0;34m)\u001b[0m \u001b[0;32mfor\u001b[0m \u001b[0mdf_tr\u001b[0m \u001b[0;32min\u001b[0m \u001b[0mdfs_tr\u001b[0m\u001b[0;34m]\u001b[0m\u001b[0;34m\u001b[0m\u001b[0;34m\u001b[0m\u001b[0m\n\u001b[1;32m      6\u001b[0m     \u001b[0mSMOOTH\u001b[0m \u001b[0;34m=\u001b[0m \u001b[0mint\u001b[0m\u001b[0;34m(\u001b[0m\u001b[0mround\u001b[0m\u001b[0;34m(\u001b[0m\u001b[0;36m10\u001b[0m\u001b[0;34m/\u001b[0m\u001b[0mDT\u001b[0m\u001b[0;34m)\u001b[0m\u001b[0;34m)\u001b[0m\u001b[0;34m\u001b[0m\u001b[0;34m\u001b[0m\u001b[0m\n",
      "\u001b[0;31mNameError\u001b[0m: name 'df_behav' is not defined"
     ]
    }
   ],
   "source": [
    "from scipy.ndimage import gaussian_filter1d as smooth\n",
    "\n",
    "for ICOMBO, COMBO in zip(ICOMBOS, COMBOS):\n",
    "    dfs_tr = [df_behav[df_behav.ID == i] for i in ICOMBO]\n",
    "    tr_lens = [len(df_tr) for df_tr in dfs_tr]\n",
    "    SMOOTH = int(round(10/DT))\n",
    "\n",
    "    mtns = np.nan * np.ones((len(dfs_tr), np.max(tr_lens)))\n",
    "    for ctr, df_tr in enumerate(dfs_tr):\n",
    "        mtn = np.array(np.sqrt(df_tr['FFV']**2 + df_tr['FLS']**2))\n",
    "        mtns[ctr, :len(df_tr)] = mtn \n",
    "\n",
    "    # normalize motion\n",
    "    # for ctr in range(len(mtns)):\n",
    "    #     mtns[ctr, :] = mtns[ctr, :] / np.nanmean(mtns[ctr, :])\n",
    "\n",
    "    frac_ongoing = np.mean(~np.isnan(songs), axis=0)\n",
    "\n",
    "    mtn_mean = smooth(np.nanmean(mtns, axis=0), SMOOTH)\n",
    "    mtn_mean /= mtn_mean.max()\n",
    "\n",
    "    fig, ax = plt.subplots(1, 1, figsize=(7, 4), tight_layout=True)\n",
    "    ax.plot(DT*np.arange(songs.shape[1]), frac_ongoing, lw=2)\n",
    "    ax.plot(DT*np.arange(songs.shape[1]), mtn_mean, lw=2, c='k')\n",
    "    ax.set_xlabel('Time (s)')\n",
    "    ax.legend(['Frac trials still going', 'Avg female MTN'])\n",
    "\n",
    "    ax.grid()\n",
    "    set_plot(ax, y_lim=(0, 1.05), title=f'{COMBO}', font_size=14)"
   ]
  }
 ],
 "metadata": {
  "kernelspec": {
   "display_name": "Python 3",
   "language": "python",
   "name": "python3"
  },
  "language_info": {
   "codemirror_mode": {
    "name": "ipython",
    "version": 3
   },
   "file_extension": ".py",
   "mimetype": "text/x-python",
   "name": "python",
   "nbconvert_exporter": "python",
   "pygments_lexer": "ipython3",
   "version": "3.7.10"
  }
 },
 "nbformat": 4,
 "nbformat_minor": 4
}

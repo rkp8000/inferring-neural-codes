{
 "cells": [
  {
   "cell_type": "markdown",
   "id": "8c1cf62e",
   "metadata": {},
   "source": [
    "# Create files with additionally processed female behavioral variables"
   ]
  },
  {
   "cell_type": "code",
   "execution_count": 1,
   "id": "f28142a9",
   "metadata": {},
   "outputs": [],
   "source": [
    "%matplotlib inline\n",
    "import matplotlib.pyplot as plt\n",
    "import numpy as np\n",
    "import pandas as pd\n",
    "import os\n",
    "from scipy import signal\n",
    "import sys\n",
    "\n",
    "from disp import plot_b, set_plot\n",
    "\n",
    "NTR = 276\n",
    "FPS = 30.03\n",
    "DT = 1/FPS\n",
    "SONG_FILE = 'data/simple/c_song_f_behav.csv'\n",
    "SAVE_DIR = 'data/simple/behav_xtd_song'\n",
    "\n",
    "if not os.path.exists(SAVE_DIR):\n",
    "    os.makedirs(SAVE_DIR)"
   ]
  },
  {
   "cell_type": "code",
   "execution_count": 2,
   "id": "0456e5f0",
   "metadata": {},
   "outputs": [],
   "source": [
    "df_load = pd.read_csv(SONG_FILE)\n",
    "df_trs = [df_load[df_load['ID'] == ctr] for ctr in range(NTR)]"
   ]
  },
  {
   "cell_type": "code",
   "execution_count": 3,
   "id": "9865f090",
   "metadata": {},
   "outputs": [
    {
     "name": "stdout",
     "output_type": "stream",
     "text": [
      "...................................................................................................................................................................................................................................................................................."
     ]
    }
   ],
   "source": [
    "for ctr, df_tr in enumerate(df_trs):\n",
    "    sys.stdout.write('.')\n",
    "    tr_data = {}\n",
    "    \n",
    "    columns = ['ID', 'FRAME', 'T'] + ['S', 'S_1', 'S_2', 'P', 'P_1', 'P_2', 'S_10', 'S_30', 'S_150', 'P_10', 'P_30', 'P_150']\n",
    "    tr_data['ID'] = df_tr['ID']\n",
    "    tr_data['FRAME'] = df_tr['FRAME']\n",
    "    tr_data['T'] = df_tr['T']\n",
    "    \n",
    "    s = np.array(df_tr['S']).astype(bool)\n",
    "    p = np.array(df_tr['P'] | df_tr['F']).astype(bool)\n",
    "    \n",
    "    s_1 = np.zeros(len(s), dtype=bool)\n",
    "    s_1[:-1] = s[1:]\n",
    "    \n",
    "    p_1 = np.zeros(len(p), dtype=bool)\n",
    "    p_1[:-1] = p[1:]\n",
    "    \n",
    "    s_2 = np.zeros(len(s), dtype=bool)\n",
    "    s_2[:-2] = s[2:]\n",
    "    \n",
    "    p_2 = np.zeros(len(p), dtype=bool)\n",
    "    p_2[:-2] = p[2:]\n",
    "    \n",
    "    s_10 = np.zeros(len(s), dtype=bool)\n",
    "    s_10[:-10] = s[10:]\n",
    "    \n",
    "    p_10 = np.zeros(len(p), dtype=bool)\n",
    "    p_10[:-10] = p[10:]\n",
    "    \n",
    "    s_30 = np.zeros(len(s), dtype=bool)\n",
    "    s_30[:-30] = s[30:]\n",
    "    \n",
    "    p_30 = np.zeros(len(p), dtype=bool)\n",
    "    p_30[:-30] = p[30:]\n",
    "    \n",
    "    s_150 = np.zeros(len(s), dtype=bool)\n",
    "    s_150[:-150] = s[150:]\n",
    "    \n",
    "    p_150 = np.zeros(len(p), dtype=bool)\n",
    "    p_150[:-150] = p[150:]\n",
    "    \n",
    "    tr_data['S'] = s\n",
    "    tr_data['P'] = p\n",
    "    \n",
    "    tr_data['S_1'] = s_1\n",
    "    tr_data['P_1'] = p_1\n",
    "    \n",
    "    tr_data['S_2'] = s_2\n",
    "    tr_data['P_2'] = p_2\n",
    "    \n",
    "    tr_data['S_10'] = s_10\n",
    "    tr_data['P_10'] = p_10\n",
    "    \n",
    "    tr_data['S_30'] = s_30\n",
    "    tr_data['P_30'] = p_30\n",
    "    \n",
    "    tr_data['S_150'] = s_150\n",
    "    tr_data['P_150'] = p_150\n",
    "    \n",
    "    df_xtd = pd.DataFrame(columns=columns, data=tr_data)\n",
    "    \n",
    "    df_xtd.to_csv(os.path.join(SAVE_DIR, f'behav_xtd_song_tr_{ctr}.csv'), index=False)"
   ]
  },
  {
   "cell_type": "code",
   "execution_count": null,
   "id": "65466aba-cc71-4b7e-9eff-ab15939d7c95",
   "metadata": {},
   "outputs": [],
   "source": []
  }
 ],
 "metadata": {
  "kernelspec": {
   "display_name": "Python 3 (ipykernel)",
   "language": "python",
   "name": "python3"
  },
  "language_info": {
   "codemirror_mode": {
    "name": "ipython",
    "version": 3
   },
   "file_extension": ".py",
   "mimetype": "text/x-python",
   "name": "python",
   "nbconvert_exporter": "python",
   "pygments_lexer": "ipython3",
   "version": "3.9.15"
  }
 },
 "nbformat": 4,
 "nbformat_minor": 5
}

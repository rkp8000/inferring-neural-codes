{
 "cells": [
  {
   "cell_type": "markdown",
   "id": "1daf0555",
   "metadata": {},
   "source": [
    "# Predict female behavior from inferred single neuron activity"
   ]
  },
  {
   "cell_type": "code",
   "execution_count": 1,
   "id": "b8c1352f",
   "metadata": {},
   "outputs": [],
   "source": [
    "%matplotlib inline\n",
    "import matplotlib.gridspec as gridspec\n",
    "import matplotlib.pyplot as plt\n",
    "import numpy as np\n",
    "import pandas as pd\n",
    "from scipy import stats\n",
    "from sklearn import linear_model\n",
    "import sys\n",
    "\n",
    "from disp import set_plot\n",
    "from my_torch import skl_fit_lin_single\n",
    "\n",
    "cc = np.concatenate\n",
    "\n",
    "STRAINS = ['NM91', 'ZH23']\n",
    "PTRAIN = .8\n",
    "NSPLIT = 30\n",
    "\n",
    "# NRL_MDL = 'lin'  # linear neural model\n",
    "# NRL_MDL = 'ln'  # lin-nonlinear neural model\n",
    "NRL_MDL = 'dyn'  # dynamical neural model\n",
    "\n",
    "TARGS = ['FFV_MN_60', 'FFV']\n",
    "\n",
    "FIT_LIN = skl_fit_lin_single"
   ]
  },
  {
   "cell_type": "code",
   "execution_count": 2,
   "id": "a2a59842",
   "metadata": {},
   "outputs": [],
   "source": [
    "FSTRAIN = 'data/simple/strains.csv'\n",
    "FBAKER_FIT_PARAM = f'data/simple/neur/baker_{NRL_MDL}_fit_param.csv'\n",
    "\n",
    "FPFX_NEUR_BHV = f'data/simple/mlv/neur_basic/baker_{NRL_MDL}/mlv_baker_{NRL_MDL}'\n",
    "FPFX_BHV_XTD = f'data/simple/behav_xtd/behav_xtd'\n",
    "\n",
    "FSAVE = f'data/simple/mlv/neur_basic/baker_single_{NRL_MDL}_{\"_\".join(STRAINS).lower()}_{TARGS[0].lower()}.npy'\n",
    "\n",
    "DFBAKER_FIT_PARAM = pd.read_csv(FBAKER_FIT_PARAM)\n",
    "R_COLS_USE = [f'R_{ir}' for ir in DFBAKER_FIT_PARAM.EXPT_ID]\n",
    "\n",
    "MSTRAINS = [(pd.read_csv(FSTRAIN)['STRAIN'] == strain) for strain in STRAINS]\n",
    "MSTRAIN = np.any(MSTRAINS, axis=0)\n",
    "ISTRAIN = MSTRAIN.nonzero()[0]\n",
    "\n",
    "NTR = MSTRAIN.sum()\n",
    "NTRAIN = int(round(PTRAIN*NTR))"
   ]
  },
  {
   "cell_type": "code",
   "execution_count": null,
   "id": "6700c306",
   "metadata": {},
   "outputs": [],
   "source": [
    "r2s_train = {targ: np.nan * np.zeros((NSPLIT, len(R_COLS_USE))) for targ in TARGS}\n",
    "r2s_test = {targ: np.nan * np.zeros((NSPLIT, len(R_COLS_USE))) for targ in TARGS}\n",
    "\n",
    "for csplit in range(NSPLIT):\n",
    "    print(f'Split {csplit}')\n",
    "    irnd = np.random.permutation(NTR)\n",
    "    idxs_train = ISTRAIN[irnd[:NTRAIN]]\n",
    "    idxs_test = ISTRAIN[irnd[NTRAIN:]]\n",
    "    \n",
    "    rslt = skl_fit_lin_single([FPFX_NEUR_BHV, FPFX_BHV_XTD], R_COLS_USE, TARGS, idxs_train, idxs_test, progress=True)\n",
    "    \n",
    "    for targ in TARGS:\n",
    "        r2s_train[targ][csplit, :] = rslt.r2_train[targ]\n",
    "        r2s_test[targ][csplit, :] = rslt.r2_test[targ]\n",
    "    \n",
    "    sys.stdout.write('\\n')\n",
    "\n",
    "# save r2, weights, and example predictions\n",
    "save_data = {\n",
    "    'r2s_train': r2s_train,\n",
    "    'r2s_test': r2s_test,\n",
    "    'ntr': NTR,\n",
    "    'nsplit': NSPLIT,\n",
    "}\n",
    "\n",
    "np.save(FSAVE, np.array([save_data]))"
   ]
  },
  {
   "cell_type": "code",
   "execution_count": 4,
   "id": "f80b5107",
   "metadata": {},
   "outputs": [
    {
     "name": "stdout",
     "output_type": "stream",
     "text": [
      "Max train R2: 0.1371356095320157\n",
      "Max test R2: 0.09468472194160676\n",
      "Max train R2: 0.02108059750680356\n",
      "Max test R2: 0.01762382631612818\n"
     ]
    },
    {
     "data": {
      "image/png": "[encoded data removed]",
      "text/plain": [
       "<Figure size 720x288 with 2 Axes>"
      ]
     },
     "metadata": {
      "needs_background": "light"
     },
     "output_type": "display_data"
    }
   ],
   "source": [
    "data = np.load(FSAVE, allow_pickle=True)[0]\n",
    "\n",
    "fig, axs = plt.subplots(1, 2, figsize=(10, 4), tight_layout=True)\n",
    "\n",
    "for targ, ax in zip(TARGS, axs):\n",
    "    r2_train_means = data['r2s_train'][targ].mean(axis=0)\n",
    "    r2_test_means = data['r2s_test'][targ].mean(axis=0)\n",
    "\n",
    "    ax.hist(np.transpose([r2_train_means, r2_test_means]), bins=30)\n",
    "    ax.scatter(r2_train_means, -4*np.ones(len(r2_train_means)), s=10)\n",
    "    ax.scatter(r2_test_means, -8*np.ones(len(r2_test_means)), s=10)\n",
    "    ax.set_title(targ)\n",
    "    ax.legend(['Train', 'Test'])\n",
    "\n",
    "    set_plot(ax, x_label='<R2>', y_label='# responses', font_size=14)\n",
    "\n",
    "    print('Max train R2:', np.nanmax(r2_train_means))\n",
    "    print('Max test R2:', np.nanmax(r2_test_means))"
   ]
  },
  {
   "cell_type": "markdown",
   "id": "262c823e",
   "metadata": {},
   "source": [
    "# Predict smoothed female velocity from trial timestamp"
   ]
  },
  {
   "cell_type": "code",
   "execution_count": null,
   "id": "ae9bad8c",
   "metadata": {},
   "outputs": [],
   "source": [
    "%reset -f\n",
    "%matplotlib inline\n",
    "import matplotlib.gridspec as gridspec\n",
    "import matplotlib.pyplot as plt\n",
    "import numpy as np\n",
    "import pandas as pd\n",
    "from scipy import stats\n",
    "from sklearn import linear_model\n",
    "import sys\n",
    "\n",
    "from disp import set_plot\n",
    "from my_torch import skl_fit_lin\n",
    "\n",
    "cc = np.concatenate\n",
    "\n",
    "STRAINS = ['NM91', 'ZH23']\n",
    "PTRAIN = .8\n",
    "NSPLIT = 30\n",
    "\n",
    "# NRL_MDL = 'lin'  # linear neural model\n",
    "# NRL_MDL = 'ln'  # linear-nonlinear model\n",
    "NRL_MDL = 'dyn'  # dynamical neural model\n",
    "\n",
    "TARGS = ['FFV_MN_60', 'FFV']\n",
    "\n",
    "FIT_LIN = skl_fit_lin\n",
    "FIT_KWARGS = {}"
   ]
  },
  {
   "cell_type": "code",
   "execution_count": null,
   "id": "ecc077e9",
   "metadata": {},
   "outputs": [],
   "source": [
    "FSTRAIN = 'data/simple/strains.csv'\n",
    "\n",
    "FPFX_NEUR_BHV = f'data/simple/mlv/neur_basic/baker_{NRL_MDL}/mlv_baker_{NRL_MDL}'\n",
    "FPFX_BHV_XTD = f'data/simple/behav_xtd/behav_xtd'\n",
    "\n",
    "FSAVE = f'data/simple/mlv/neur_basic/{\"_\".join(STRAINS).lower()}_{TARGS[0].lower()}_from_time.npy'\n",
    "\n",
    "MSTRAINS = [(pd.read_csv(FSTRAIN)['STRAIN'] == strain) for strain in STRAINS]\n",
    "MSTRAIN = np.any(MSTRAINS, axis=0)\n",
    "ISTRAIN = MSTRAIN.nonzero()[0]\n",
    "\n",
    "NTR = MSTRAIN.sum()\n",
    "NTRAIN = int(round(PTRAIN*NTR))"
   ]
  },
  {
   "cell_type": "code",
   "execution_count": null,
   "id": "c9eff907",
   "metadata": {},
   "outputs": [],
   "source": [
    "# fit regression models\n",
    "rslts = []\n",
    "for csplit in range(NSPLIT):\n",
    "    print(f'Split {csplit}')\n",
    "    irnd = np.random.permutation(NTR)\n",
    "    idxs_train = ISTRAIN[irnd[:NTRAIN]]\n",
    "    idxs_test = ISTRAIN[irnd[NTRAIN:]]\n",
    "    if csplit < 2:\n",
    "        rslt = FIT_LIN([FPFX_NEUR_BHV, FPFX_BHV_XTD], ['T'], TARGS, idxs_train, idxs_test, return_y=True, **FIT_KWARGS)\n",
    "    else:\n",
    "        rslt = FIT_LIN([FPFX_NEUR_BHV, FPFX_BHV_XTD], ['T'], TARGS, idxs_train, idxs_test, return_y=False, **FIT_KWARGS)\n",
    "    rslts.append(rslt)\n",
    "    \n",
    "# save r2, weights, and example predictions\n",
    "save_data = {\n",
    "    'r2_train': {targ: np.array([rslt.r2_train[targ] for rslt in rslts]) for targ in TARGS},\n",
    "    'r2_test': {targ: np.array([rslt.r2_test[targ] for rslt in rslts]) for targ in TARGS},\n",
    "    'w': {targ: np.array([rslt.w[targ] for rslt in rslts]) for targ in TARGS},\n",
    "    'ys_train': {targ: [rslt.ys_train[targ] for rslt in rslts[:2]] for targ in TARGS},\n",
    "    'ys_test': {targ: [rslt.ys_test[targ] for rslt in rslts[:2]] for targ in TARGS},\n",
    "    'y_hats_train': {targ: [rslt.y_hats_train[targ] for rslt in rslts[:2]] for targ in TARGS},\n",
    "    'y_hats_test': {targ: [rslt.y_hats_test[targ] for rslt in rslts[:2]] for targ in TARGS},\n",
    "    'targs': TARGS,\n",
    "    'fit_fn': FIT_LIN.__name__,\n",
    "    'fit_kwargs': FIT_KWARGS,\n",
    "    'ntr': NTR,\n",
    "    'nsplit': NSPLIT,\n",
    "}\n",
    "\n",
    "np.save(FSAVE, np.array([save_data]))"
   ]
  },
  {
   "cell_type": "code",
   "execution_count": null,
   "id": "38eb9868",
   "metadata": {},
   "outputs": [],
   "source": [
    "TRAIN_IDX_PLOT = 0\n",
    "TEST_IDX_PLOT = 0\n",
    "\n",
    "data = np.load(FSAVE, allow_pickle=True)[0]\n",
    "\n",
    "for targ in TARGS:\n",
    "    gs = gridspec.GridSpec(3, 3)\n",
    "\n",
    "    fig = plt.figure(figsize=(12, 10), tight_layout=True)\n",
    "    axs = [fig.add_subplot(gs[0, 0]), fig.add_subplot(gs[0, 1:]), fig.add_subplot(gs[1, :]), fig.add_subplot(gs[2, :])]\n",
    "\n",
    "    axs[0].hist(np.transpose([data['r2_train'][targ], data['r2_test'][targ]]), bins=30)\n",
    "    axs[0].legend(['Train', 'Test'])\n",
    "    set_plot(axs[0], x_label='R2', y_label='# splits', font_size=14)\n",
    "\n",
    "    axs[1].bar(np.arange(data['w'][targ].shape[1]), np.mean(data['w'][targ], axis=0))\n",
    "    set_plot(axs[1], x_label='Response ID', y_label='Weight', font_size=14)\n",
    "\n",
    "    axs[2].plot(np.arange(len(data['ys_train'][targ][0][TRAIN_IDX_PLOT])), data['ys_train'][targ][0][TRAIN_IDX_PLOT], c='k', lw=2)\n",
    "    axs[2].plot(np.arange(len(data['y_hats_train'][targ][0][TRAIN_IDX_PLOT])), data['y_hats_train'][targ][0][TRAIN_IDX_PLOT], c='r', lw=2)\n",
    "    axs[2].legend(['True', 'Predicted'])\n",
    "    set_plot(axs[2], y_lim=(-.5, 1), x_label='Timestep', y_label='FFV', title='Training data', font_size=14)\n",
    "\n",
    "    axs[3].plot(np.arange(len(data['ys_test'][targ][0][TEST_IDX_PLOT]))/30.03, data['ys_test'][targ][0][TEST_IDX_PLOT], c='orange', lw=2)\n",
    "    axs[3].plot(np.arange(len(data['y_hats_test'][targ][0][TEST_IDX_PLOT]))/30.03, data['y_hats_test'][targ][0][TEST_IDX_PLOT], c='k', lw=3)\n",
    "    axs[3].legend(['True', 'Predicted'], loc='upper left')\n",
    "    set_plot(axs[3], x_lim=(100, 230), y_lim=(-.5, 1), x_label='Time (s)', y_label='FFV', title='Held-out data', font_size=18)"
   ]
  }
 ],
 "metadata": {
  "kernelspec": {
   "display_name": "Python 3",
   "language": "python",
   "name": "python3"
  },
  "language_info": {
   "codemirror_mode": {
    "name": "ipython",
    "version": 3
   },
   "file_extension": ".py",
   "mimetype": "text/x-python",
   "name": "python",
   "nbconvert_exporter": "python",
   "pygments_lexer": "ipython3",
   "version": "3.7.10"
  }
 },
 "nbformat": 4,
 "nbformat_minor": 5
}

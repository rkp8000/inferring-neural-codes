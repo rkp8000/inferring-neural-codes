{
 "cells": [
  {
   "cell_type": "markdown",
   "id": "db4831ea",
   "metadata": {},
   "source": [
    "Fit simple models predicting female behavior from surrogate neural activity."
   ]
  },
  {
   "cell_type": "code",
   "execution_count": 1,
   "id": "4758cfe5",
   "metadata": {},
   "outputs": [],
   "source": [
    "%matplotlib inline\n",
    "import matplotlib.gridspec as gridspec\n",
    "import matplotlib.pyplot as plt\n",
    "import numpy as np\n",
    "import pandas as pd\n",
    "from scipy import stats\n",
    "from sklearn import linear_model\n",
    "import sys\n",
    "\n",
    "from disp import set_plot\n",
    "from my_torch import skl_fit_lin_single\n",
    "\n",
    "cc = np.concatenate\n",
    "\n",
    "MAX_TR = 276\n",
    "NTR = 50\n",
    "NTRAIN = int(round(.8*NTR))\n",
    "NSPLIT = 30\n",
    "\n",
    "STRAINS = ['NM91', 'ZH23']"
   ]
  },
  {
   "cell_type": "code",
   "execution_count": 10,
   "id": "2fc2a93a",
   "metadata": {},
   "outputs": [],
   "source": [
    "# NRL_MDL = 'lin'  # linear neural model\n",
    "# NRL_MDL = 'ln'  # lin-nonlinear neural model\n",
    "NRL_MDL = 'dyn'  # dynamical neural model\n",
    "\n",
    "TARGS = ['FFV_MN_60', 'FFV']\n",
    "\n",
    "DF_BAKER_FIT_PARAM = pd.read_csv(f'data/simple/neur/baker_{NRL_MDL}_fit_param.csv') \n",
    "\n",
    "PFX_BHV_0 = f'data/simple/mlv/neur_basic/baker_{NRL_MDL}/mlv_c_baker_{NRL_MDL}'\n",
    "PFX_BHV_1 = f'data/simple/behav_xtd/behav_xtd'\n",
    "\n",
    "SAVE_FILE = f'data/simple/mlv/neur_basic/baker_single_{NRL_MDL}_{TARGS[0].lower()}_{NTR}_tr.npy'\n",
    "\n",
    "DF_BAKER_FIT_PARAM"
   ]
  },
  {
   "cell_type": "code",
   "execution_count": null,
   "id": "c2ef4cd2",
   "metadata": {},
   "outputs": [],
   "source": [
    "R_COLS_ALL = [f'R_{ir}' for ir in DF_BAKER_FIT_PARAM.EXPT_ID]\n",
    "\n",
    "r2s_train = np.nan * np.zeros((NSPLIT, len(R_COLS_ALL)))\n",
    "r2s_test = np.nan * np.zeros((NSPLIT, len(R_COLS_ALL)))\n",
    "\n",
    "for csplit in range(NSPLIT):\n",
    "    sys.stdout.write(f'Split {csplit}')\n",
    "    np.random.seed(csplit)\n",
    "    rnd_tr_idxs = np.random.permutation(MAX_TR)\n",
    "    idxs_train = rnd_tr_idxs[:NTRAIN]\n",
    "    idxs_test = rnd_tr_idxs[NTRAIN:NTR]\n",
    "    rgr = skl_fit_lin_single(PFX_BEHAV, R_COLS_ALL, TARG, idxs_train, idxs_test, progress=True)\n",
    "    r2s_train[csplit, :] = rgr.r2_train\n",
    "    r2s_test[csplit, :] = rgr.r2_test\n",
    "    sys.stdout.write('\\n')"
   ]
  },
  {
   "cell_type": "code",
   "execution_count": null,
   "id": "d7100e52",
   "metadata": {},
   "outputs": [],
   "source": [
    "# save r2, weights, and example predictions\n",
    "save_data = {\n",
    "    'r2s_train': r2s_train,\n",
    "    'r2s_test': r2s_test,\n",
    "    'ntr': NTR,\n",
    "    'nsplit': NSPLIT,\n",
    "}\n",
    "\n",
    "np.save(SAVE_FILE, np.array([save_data]))"
   ]
  },
  {
   "cell_type": "code",
   "execution_count": 11,
   "id": "31f07c05",
   "metadata": {},
   "outputs": [
    {
     "name": "stdout",
     "output_type": "stream",
     "text": [
      "Max train R2: 0.017076491375305296\n",
      "Max test R2: 0.012012819039995652\n"
     ]
    },
    {
     "data": {
      "image/png": "[encoded data removed]",
      "text/plain": [
       "<Figure size 504x288 with 1 Axes>"
      ]
     },
     "metadata": {
      "needs_background": "light"
     },
     "output_type": "display_data"
    }
   ],
   "source": [
    "data = np.load(SAVE_FILE, allow_pickle=True)[0]\n",
    "r2_train_means = data['r2s_train'].mean(axis=0)\n",
    "r2_test_means = data['r2s_test'].mean(axis=0)\n",
    "\n",
    "\n",
    "fig, ax = plt.subplots(1, 1, figsize=(7, 4), tight_layout=True)\n",
    "ax.hist(np.transpose([r2_train_means, r2_test_means]), bins=30)\n",
    "ax.scatter(r2_train_means, -4*np.ones(len(r2_train_means)), s=10)\n",
    "ax.scatter(r2_test_means, -8*np.ones(len(r2_test_means)), s=10)\n",
    "ax.legend(['Train', 'Test'])\n",
    "\n",
    "set_plot(ax, x_label='<R2>', y_label='# responses', font_size=14)\n",
    "\n",
    "print('Max train R2:', np.nanmax(r2_train_means))\n",
    "print('Max test R2:', np.nanmax(r2_test_means))"
   ]
  }
 ],
 "metadata": {
  "kernelspec": {
   "display_name": "Python 3",
   "language": "python",
   "name": "python3"
  },
  "language_info": {
   "codemirror_mode": {
    "name": "ipython",
    "version": 3
   },
   "file_extension": ".py",
   "mimetype": "text/x-python",
   "name": "python",
   "nbconvert_exporter": "python",
   "pygments_lexer": "ipython3",
   "version": "3.7.10"
  }
 },
 "nbformat": 4,
 "nbformat_minor": 5
}

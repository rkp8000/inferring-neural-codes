{
 "cells": [
  {
   "cell_type": "markdown",
   "id": "81927755",
   "metadata": {},
   "source": [
    "# Predict female behavior from inferred single neuron activity"
   ]
  },
  {
   "cell_type": "code",
   "execution_count": 1,
   "id": "99611f8e",
   "metadata": {},
   "outputs": [],
   "source": [
    "%matplotlib inline\n",
    "import matplotlib.gridspec as gridspec\n",
    "import matplotlib.pyplot as plt\n",
    "import numpy as np\n",
    "import pandas as pd\n",
    "from scipy import stats\n",
    "from sklearn import linear_model\n",
    "import sys\n",
    "\n",
    "from disp import set_plot\n",
    "from my_torch import skl_fit_lin_single\n",
    "\n",
    "cc = np.concatenate\n",
    "\n",
    "STRAINS = ['NM91', 'ZH23']\n",
    "PTRAIN = .8\n",
    "NSPLIT = 30\n",
    "\n",
    "# NRL_MDL = 'lin'  # linear neural model\n",
    "# NRL_MDL = 'ln'  # lin-nonlinear neural model\n",
    "NRL_MDL = 'dyn'  # dynamical neural model\n",
    "\n",
    "TARGS = ['FFV_MN_60', 'FFV']\n",
    "\n",
    "FIT_LIN = skl_fit_lin_single"
   ]
  },
  {
   "cell_type": "code",
   "execution_count": 2,
   "id": "252c5bce",
   "metadata": {},
   "outputs": [],
   "source": [
    "FSTRAIN = 'data/simple/strains.csv'\n",
    "FBAKER_FIT_PARAM = f'data/simple/neur/baker_{NRL_MDL}_fit_param.csv'\n",
    "\n",
    "FPFX_NEUR_BHV = f'data/simple/mlv/neur_basic/baker_{NRL_MDL}/mlv_baker_{NRL_MDL}'\n",
    "FPFX_BHV_XTD = f'data/simple/behav_xtd/behav_xtd'\n",
    "\n",
    "FSAVE = f'data/simple/mlv/neur_basic/baker_{NRL_MDL}_{\"_\".join(STRAINS).lower()}_{TARGS[0].lower()}.npy'\n",
    "\n",
    "DFBAKER_FIT_PARAM = pd.read_csv(FBAKER_FIT_PARAM)\n",
    "R_COLS_USE = [f'R_{ir}' for ir in DFBAKER_FIT_PARAM.EXPT_ID]\n",
    "\n",
    "MSTRAINS = [(pd.read_csv(FSTRAIN)['STRAIN'] == strain) for strain in STRAINS]\n",
    "MSTRAIN = np.any(MSTRAINS, axis=0)\n",
    "ISTRAIN = MSTRAIN.nonzero()[0]\n",
    "\n",
    "NTR = MSTRAIN.sum()\n",
    "NTRAIN = int(round(PTRAIN*NTR))"
   ]
  },
  {
   "cell_type": "code",
   "execution_count": 7,
   "id": "f76ce4c7",
   "metadata": {},
   "outputs": [
    {
     "name": "stdout",
     "output_type": "stream",
     "text": [
      "Split 0Fitting...\n",
      "..\n",
      "Split 1Fitting...\n",
      "..\n",
      "Split 2Fitting...\n",
      "..\n"
     ]
    }
   ],
   "source": [
    "r2s_train = {targ: np.nan * np.zeros((NSPLIT, len(R_COLS_USE))) for targ in TARGS}\n",
    "r2s_test = {targ: np.nan * np.zeros((NSPLIT, len(R_COLS_USE))) for targ in TARGS}\n",
    "\n",
    "for csplit in range(NSPLIT):\n",
    "    sys.stdout.write(f'Split {csplit}')\n",
    "    irnd = np.random.permutation(NTR)\n",
    "    idxs_train = ISTRAIN[irnd[:NTRAIN]]\n",
    "    idxs_test = ISTRAIN[irnd[NTRAIN:]]\n",
    "    \n",
    "    rslt = skl_fit_lin_single([FPFX_NEUR_BHV, FPFX_BHV_XTD], R_COLS_USE, TARGS, idxs_train, idxs_test, progress=True)\n",
    "    \n",
    "    for targ in TARGS:\n",
    "        r2s_train[targ][csplit, :] = rslt.r2_train[targ]\n",
    "        r2s_test[targ][csplit, :] = rslt.r2_test[targ]\n",
    "    \n",
    "    sys.stdout.write('\\n')\n",
    "\n",
    "# save r2, weights, and example predictions\n",
    "save_data = {\n",
    "    'r2s_train': r2s_train,\n",
    "    'r2s_test': r2s_test,\n",
    "    'ntr': NTR,\n",
    "    'nsplit': NSPLIT,\n",
    "}\n",
    "\n",
    "np.save(FSAVE, np.array([save_data]))"
   ]
  },
  {
   "cell_type": "code",
   "execution_count": 8,
   "id": "be02719e",
   "metadata": {},
   "outputs": [
    {
     "name": "stdout",
     "output_type": "stream",
     "text": [
      "Max train R2: 0.21311315355736113\n",
      "Max test R2: -2.5490384230418046\n",
      "Max train R2: 0.013272320048386224\n",
      "Max test R2: -0.06808948603942107\n"
     ]
    },
    {
     "data": {
      "image/png": "[encoded data removed]",
      "text/plain": [
       "<Figure size 720x288 with 2 Axes>"
      ]
     },
     "metadata": {
      "needs_background": "light"
     },
     "output_type": "display_data"
    }
   ],
   "source": [
    "data = np.load(FSAVE, allow_pickle=True)[0]\n",
    "\n",
    "fig, axs = plt.subplots(1, 2, figsize=(10, 4), tight_layout=True)\n",
    "\n",
    "for targ, ax in zip(TARGS, axs):\n",
    "    r2_train_means = data['r2s_train'][targ].mean(axis=0)\n",
    "    r2_test_means = data['r2s_test'][targ].mean(axis=0)\n",
    "\n",
    "    ax.hist(np.transpose([r2_train_means, r2_test_means]), bins=30)\n",
    "    ax.scatter(r2_train_means, -4*np.ones(len(r2_train_means)), s=10)\n",
    "    ax.scatter(r2_test_means, -8*np.ones(len(r2_test_means)), s=10)\n",
    "    ax.set_title(targ)\n",
    "    ax.legend(['Train', 'Test'])\n",
    "\n",
    "    set_plot(ax, x_label='<R2>', y_label='# responses', font_size=14)\n",
    "\n",
    "    print('Max train R2:', np.nanmax(r2_train_means))\n",
    "    print('Max test R2:', np.nanmax(r2_test_means))"
   ]
  }
 ],
 "metadata": {
  "kernelspec": {
   "display_name": "Python 3",
   "language": "python",
   "name": "python3"
  },
  "language_info": {
   "codemirror_mode": {
    "name": "ipython",
    "version": 3
   },
   "file_extension": ".py",
   "mimetype": "text/x-python",
   "name": "python",
   "nbconvert_exporter": "python",
   "pygments_lexer": "ipython3",
   "version": "3.7.10"
  }
 },
 "nbformat": 4,
 "nbformat_minor": 5
}

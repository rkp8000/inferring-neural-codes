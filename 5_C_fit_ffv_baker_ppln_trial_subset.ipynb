{
 "cells": [
  {
   "cell_type": "markdown",
   "id": "e2eebe5c",
   "metadata": {},
   "source": [
    "# Sweep over number of training trials used to fit neural->behavior predictions"
   ]
  },
  {
   "cell_type": "markdown",
   "id": "55b96a36",
   "metadata": {},
   "source": [
    "## Vanilla linear regression"
   ]
  },
  {
   "cell_type": "code",
   "execution_count": 1,
   "id": "492e3953",
   "metadata": {},
   "outputs": [],
   "source": [
    "%matplotlib inline\n",
    "import matplotlib.gridspec as gridspec\n",
    "import matplotlib.pyplot as plt\n",
    "import numpy as np\n",
    "import pandas as pd\n",
    "from scipy import stats\n",
    "from sklearn import linear_model\n",
    "import sys\n",
    "\n",
    "from disp import set_plot\n",
    "from my_torch import skl_fit_lin\n",
    "\n",
    "cc = np.concatenate\n",
    "\n",
    "MAX_TR = 276\n",
    "NTR = [10, 20, 30, 40, 50, 75, 100, 150, 276]\n",
    "NSPLIT = 30\n",
    "\n",
    "FIT_LIN = skl_fit_lin\n",
    "FIT_KWARGS = {}"
   ]
  },
  {
   "cell_type": "code",
   "execution_count": 2,
   "id": "c71b65c1",
   "metadata": {},
   "outputs": [],
   "source": [
    "# NRL_MDL = 'lin'  # linear neural model\n",
    "# NRL_MDL = 'ln'  # linear-nonlinear model\n",
    "NRL_MDL = 'dyn'  # dynamical neural model\n",
    "\n",
    "DF_BAKER_FIT_PARAM = pd.read_csv(f'data/simple/neur/baker_{NRL_MDL}_fit_param.csv') \n",
    "\n",
    "ROI_SET, R_COLS_USE = 'all', [f'R_{ir}' for ir in DF_BAKER_FIT_PARAM.EXPT_ID]\n",
    "\n",
    "TARG = 'FFV'\n",
    "\n",
    "PFX_BHV_0 = f'data/simple/mlv/neur_basic/baker_{NRL_MDL}/mlv_baker_{NRL_MDL}'\n",
    "PFX_BHV_1 = f'data/simple/behav_xtd/behav_xtd'"
   ]
  },
  {
   "cell_type": "raw",
   "id": "30a9330e",
   "metadata": {},
   "source": [
    "for ntr in NTR:\n",
    "    print(f'Training on {int(round(.8*ntr))} trials...')\n",
    "    save_file = f'data/simple/mlv_c/neur_basic/c_baker_{NRL_MDL}_all_{TARG.lower()}_{ntr}_tr.npy'\n",
    "    \n",
    "    ntrain = int(round(.8*ntr))\n",
    "\n",
    "    # fit regression models\n",
    "    rslts = []\n",
    "    for csplit in range(NSPLIT):\n",
    "        print(f'Split {csplit}')\n",
    "        rnd_tr_idxs = np.random.permutation(MAX_TR)[:ntr]\n",
    "        idxs_train = rnd_tr_idxs[:ntrain]\n",
    "        idxs_test = rnd_tr_idxs[ntrain:ntr]\n",
    "        rslt = FIT_LIN([PFX_BHV_0, PFX_BHV_1], R_COLS_USE, [TARG], idxs_train, idxs_test, verbose=False, **FIT_KWARGS)\n",
    "        rslts.append(rslt)\n",
    "\n",
    "    # save r2, weights, and example predictions\n",
    "    save_data = {\n",
    "        'r2_train': np.array([rslt.r2_train['FFV'] for rslt in rslts]),\n",
    "        'r2_test': np.array([rslt.r2_test['FFV'] for rslt in rslts]),\n",
    "        'w': np.array([rslt.w['FFV'] for rslt in rslts]),\n",
    "        'ntr': ntr,\n",
    "        'nsplit': NSPLIT,\n",
    "        'nr': len(R_COLS_USE)\n",
    "    }\n",
    "\n",
    "    np.save(save_file, np.array([save_data]))"
   ]
  },
  {
   "cell_type": "code",
   "execution_count": 3,
   "id": "409c722e",
   "metadata": {},
   "outputs": [
    {
     "data": {
      "text/plain": [
       "(0.0, 0.1)"
      ]
     },
     "execution_count": 3,
     "metadata": {},
     "output_type": "execute_result"
    },
    {
     "data": {
      "image/png": "[encoded data removed]",
      "text/plain": [
       "<Figure size 504x288 with 1 Axes>"
      ]
     },
     "metadata": {
      "needs_background": "light"
     },
     "output_type": "display_data"
    }
   ],
   "source": [
    "r2_mns = []\n",
    "r2_sds = []\n",
    "r2_sems = []\n",
    "\n",
    "for ntr in NTR:\n",
    "    save_file = f'data/simple/mlv/neur_basic/baker_{NRL_MDL}_{TARG.lower()}_{ntr}_tr.npy'\n",
    "    save_data = np.load(save_file, allow_pickle=True)[0]\n",
    "    r2_test = save_data['r2_test']\n",
    "    nsplit = save_data['nsplit']\n",
    "    \n",
    "    r2_mns.append(r2_test.mean())\n",
    "    r2_sds.append(r2_test.std())\n",
    "    r2_sems.append(r2_test.std()/np.sqrt(nsplit))\n",
    "    \n",
    "r2_mns = np.array(r2_mns)\n",
    "r2_sds = np.array(r2_sds)\n",
    "r2_sems = np.array(r2_sems)\n",
    "\n",
    "fig, ax = plt.subplots(1, 1, figsize=(7, 4), tight_layout=True)\n",
    "ax.errorbar(NTR, r2_mns, yerr=r2_sds, lw=2, c='k')\n",
    "ax.fill_between(NTR, r2_mns-r2_sems, r2_mns+r2_sems, lw=2, color='gray', alpha=.2)\n",
    "\n",
    "set_plot(ax, x_label='# training trials', y_label='R2 (test)', font_size=14)\n",
    "ax.set_ylim(0, .1)"
   ]
  }
 ],
 "metadata": {
  "kernelspec": {
   "display_name": "Python 3",
   "language": "python",
   "name": "python3"
  },
  "language_info": {
   "codemirror_mode": {
    "name": "ipython",
    "version": 3
   },
   "file_extension": ".py",
   "mimetype": "text/x-python",
   "name": "python",
   "nbconvert_exporter": "python",
   "pygments_lexer": "ipython3",
   "version": "3.7.10"
  }
 },
 "nbformat": 4,
 "nbformat_minor": 5
}

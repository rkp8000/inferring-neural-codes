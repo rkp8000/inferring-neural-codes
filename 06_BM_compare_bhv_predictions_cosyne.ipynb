{
 "cells": [
  {
   "cell_type": "markdown",
   "id": "d958df04",
   "metadata": {},
   "source": [
    "Comparisons of locomotion predictions of different mechanistic latent variable models."
   ]
  },
  {
   "cell_type": "code",
   "execution_count": 1,
   "id": "68b614e2",
   "metadata": {},
   "outputs": [],
   "source": [
    "%matplotlib inline\n",
    "import matplotlib.pyplot as plt\n",
    "import numpy as np\n",
    "\n",
    "from disp import set_plot\n",
    "\n",
    "\n",
    "STRAIN_KEY = '_'.join(['NM91', 'ZH23']).lower()\n",
    "REG_KEY = 'ridge_alpha_10'\n",
    "\n",
    "TARG_BHV = 'MTN'\n",
    "TWDWS = [.03, 1, 60]\n",
    "TARGS = [f'{TARG_BHV}_MN_{twdw}' for twdw in TWDWS]"
   ]
  },
  {
   "cell_type": "markdown",
   "id": "c035fa53",
   "metadata": {},
   "source": [
    "# Basic comparison of single vs population fits using different neural models."
   ]
  },
  {
   "cell_type": "code",
   "execution_count": 2,
   "id": "492fd80d",
   "metadata": {},
   "outputs": [],
   "source": [
    "NRL_MDLS = [\n",
    "#     'lin',  # linear neural model\n",
    "#     'lin2e',  # linear neural model (two-exp fit)\n",
    "#     'linr',  # linear neural model (fit w ridge regr)\n",
    "    'linma',\n",
    "#     'ln',  # linear-nonlinear model\n",
    "    'lnma',  # linear-nonlinear model (two-exp fit)\n",
    "#     'lnr',  # linear-nonlinear model (fit w ridge regr)\n",
    "    'ma',  # mult-adapt neural model\n",
    "#     'masoff',  # mult-adapt neural model with sine offset responses\n",
    "]\n",
    "\n",
    "LABELS = {\n",
    "    'linma': 'Lin.',\n",
    "    'lnma': 'LN',\n",
    "    'ma': 'MA',\n",
    "    'MTN': 'Motion',\n",
    "}"
   ]
  },
  {
   "cell_type": "code",
   "execution_count": 3,
   "id": "46d036fb",
   "metadata": {},
   "outputs": [
    {
     "ename": "FileNotFoundError",
     "evalue": "[Errno 2] No such file or directory: 'data/simple/mlv/heuristic/time_nm91_zh23_mtn_ignore_pre_song.npy'",
     "output_type": "error",
     "traceback": [
      "\u001b[0;31m---------------------------------------------------------------------------\u001b[0m",
      "\u001b[0;31mFileNotFoundError\u001b[0m                         Traceback (most recent call last)",
      "Input \u001b[0;32mIn [3]\u001b[0m, in \u001b[0;36m<cell line: 2>\u001b[0;34m()\u001b[0m\n\u001b[1;32m      1\u001b[0m \u001b[38;5;66;03m# heuristic predictors\u001b[39;00m\n\u001b[0;32m----> 2\u001b[0m time_rslt \u001b[38;5;241m=\u001b[39m \u001b[43mnp\u001b[49m\u001b[38;5;241;43m.\u001b[39;49m\u001b[43mload\u001b[49m\u001b[43m(\u001b[49m\u001b[38;5;124;43mf\u001b[39;49m\u001b[38;5;124;43m'\u001b[39;49m\u001b[38;5;124;43mdata/simple/mlv/heuristic/time_\u001b[39;49m\u001b[38;5;132;43;01m{\u001b[39;49;00m\u001b[43mSTRAIN_KEY\u001b[49m\u001b[38;5;132;43;01m}\u001b[39;49;00m\u001b[38;5;124;43m_\u001b[39;49m\u001b[38;5;132;43;01m{\u001b[39;49;00m\u001b[43mTARG_BHV\u001b[49m\u001b[38;5;241;43m.\u001b[39;49m\u001b[43mlower\u001b[49m\u001b[43m(\u001b[49m\u001b[43m)\u001b[49m\u001b[38;5;132;43;01m}\u001b[39;49;00m\u001b[38;5;124;43m_ignore_pre_song.npy\u001b[39;49m\u001b[38;5;124;43m'\u001b[39;49m\u001b[43m,\u001b[49m\u001b[43m \u001b[49m\u001b[43mallow_pickle\u001b[49m\u001b[38;5;241;43m=\u001b[39;49m\u001b[38;5;28;43;01mTrue\u001b[39;49;00m\u001b[43m)\u001b[49m[\u001b[38;5;241m0\u001b[39m]\n\u001b[1;32m      4\u001b[0m \u001b[38;5;66;03m# linear fits\u001b[39;00m\n\u001b[1;32m      5\u001b[0m lin_rslt \u001b[38;5;241m=\u001b[39m np\u001b[38;5;241m.\u001b[39mload(\u001b[38;5;124mf\u001b[39m\u001b[38;5;124m'\u001b[39m\u001b[38;5;124mdata/simple/mlv/lin_filter/rc_lin_\u001b[39m\u001b[38;5;132;01m{\u001b[39;00mSTRAIN_KEY\u001b[38;5;132;01m}\u001b[39;00m\u001b[38;5;124m_\u001b[39m\u001b[38;5;132;01m{\u001b[39;00mTARG_BHV\u001b[38;5;241m.\u001b[39mlower()\u001b[38;5;132;01m}\u001b[39;00m\u001b[38;5;124m_\u001b[39m\u001b[38;5;132;01m{\u001b[39;00mREG_KEY\u001b[38;5;132;01m}\u001b[39;00m\u001b[38;5;124m_ignore_pre_song.npy\u001b[39m\u001b[38;5;124m'\u001b[39m, allow_pickle\u001b[38;5;241m=\u001b[39m\u001b[38;5;28;01mTrue\u001b[39;00m)[\u001b[38;5;241m0\u001b[39m]\n",
      "File \u001b[0;32m~/miniconda3/envs/sci/lib/python3.9/site-packages/numpy/lib/npyio.py:407\u001b[0m, in \u001b[0;36mload\u001b[0;34m(file, mmap_mode, allow_pickle, fix_imports, encoding)\u001b[0m\n\u001b[1;32m    405\u001b[0m     own_fid \u001b[38;5;241m=\u001b[39m \u001b[38;5;28;01mFalse\u001b[39;00m\n\u001b[1;32m    406\u001b[0m \u001b[38;5;28;01melse\u001b[39;00m:\n\u001b[0;32m--> 407\u001b[0m     fid \u001b[38;5;241m=\u001b[39m stack\u001b[38;5;241m.\u001b[39menter_context(\u001b[38;5;28;43mopen\u001b[39;49m\u001b[43m(\u001b[49m\u001b[43mos_fspath\u001b[49m\u001b[43m(\u001b[49m\u001b[43mfile\u001b[49m\u001b[43m)\u001b[49m\u001b[43m,\u001b[49m\u001b[43m \u001b[49m\u001b[38;5;124;43m\"\u001b[39;49m\u001b[38;5;124;43mrb\u001b[39;49m\u001b[38;5;124;43m\"\u001b[39;49m\u001b[43m)\u001b[49m)\n\u001b[1;32m    408\u001b[0m     own_fid \u001b[38;5;241m=\u001b[39m \u001b[38;5;28;01mTrue\u001b[39;00m\n\u001b[1;32m    410\u001b[0m \u001b[38;5;66;03m# Code to distinguish from NumPy binary files and pickles.\u001b[39;00m\n",
      "\u001b[0;31mFileNotFoundError\u001b[0m: [Errno 2] No such file or directory: 'data/simple/mlv/heuristic/time_nm91_zh23_mtn_ignore_pre_song.npy'"
     ]
    }
   ],
   "source": [
    "# heuristic predictors\n",
    "time_rslt = np.load(f'data/simple/mlv/heuristic/time_{STRAIN_KEY}_{TARG_BHV.lower()}_ignore_pre_song.npy', allow_pickle=True)[0]\n",
    "\n",
    "# linear fits\n",
    "lin_rslt = np.load(f'data/simple/mlv/lin_filter/rc_lin_{STRAIN_KEY}_{TARG_BHV.lower()}_{REG_KEY}_ignore_pre_song.npy', allow_pickle=True)[0]\n",
    "\n",
    "# single-neuorn fits\n",
    "single_rslts = [\n",
    "    np.load(f'data/simple/mlv/neur_basic/baker_{nrl_mdl}_single_{STRAIN_KEY}_{TARG_BHV.lower()}_ignore_pre_song.npy', allow_pickle=True)[0]\n",
    "    for nrl_mdl in NRL_MDLS\n",
    "]\n",
    "\n",
    "# ppln fits\n",
    "ppln_rslts = [\n",
    "    np.load(f'data/simple/mlv/neur_basic/baker_{nrl_mdl}_{STRAIN_KEY}_{TARG_BHV.lower()}_{REG_KEY}_masked.npy', allow_pickle=True)[0]\n",
    "    for nrl_mdl in NRL_MDLS\n",
    "]\n",
    "\n",
    "# shuffled MA fit\n",
    "shfl_rslt = np.load(f'data/simple/mlv/ma_shfl/baker_ma_{STRAIN_KEY}_{TARG_BHV.lower()}_{REG_KEY}.npy', allow_pickle=True)[0]"
   ]
  },
  {
   "cell_type": "code",
   "execution_count": null,
   "id": "b30e31ef",
   "metadata": {},
   "outputs": [],
   "source": [
    "fig, axs = plt.subplots(1, 3, figsize=(11, 4.5), tight_layout=True)\n",
    "                \n",
    "for ax, twdw in zip(axs, TWDWS):\n",
    "    labels = []\n",
    "    r2_mns = []\n",
    "    r2_sems = []\n",
    "    \n",
    "    targ = f'{TARG_BHV}_MN_{twdw}'\n",
    "    \n",
    "    # heuristics\n",
    "    labels.append('Timestamp')\n",
    "    r2_mns.append(time_rslt['r2_test'][targ].mean())\n",
    "    r2_sems.append(time_rslt['r2_test'][targ].std() / np.sqrt(time_rslt['nsplit']))\n",
    "    \n",
    "    # linear fits\n",
    "    labels.append('Lin. filter')\n",
    "    r2_mns.append(lin_rslt['r2_test'][targ].mean())\n",
    "    r2_sems.append(lin_rslt['r2_test'][targ].std() / np.sqrt(lin_rslt['nsplit']))\n",
    "    \n",
    "    # single neuron results\n",
    "    for nrl_mdl, single_rslt in zip(NRL_MDLS, single_rslts):\n",
    "        r2_maxs = single_rslt['r2_test'][targ].max(axis=1)\n",
    "        labels.append(f'{LABELS[nrl_mdl]} (single)')\n",
    "        r2_mns.append(r2_maxs.mean())\n",
    "        r2_sems.append(r2_maxs.std() / np.sqrt(len(r2_maxs)))\n",
    "        \n",
    "    # ppln results\n",
    "    for nrl_mdl, ppln_rslt in zip(NRL_MDLS, ppln_rslts):\n",
    "        labels.append(f'{LABELS[nrl_mdl]} (pop)')\n",
    "        r2_mns.append(ppln_rslt['r2_test'][targ].mean())\n",
    "        r2_sems.append(ppln_rslt['r2_test'][targ].std() / np.sqrt(ppln_rslt['nsplit']))\n",
    "        \n",
    "    # shuffled MA fit\n",
    "    labels.append('MA (shuffled)')\n",
    "    r2_mns.append(shfl_rslt['r2_test'][targ].mean())\n",
    "    r2_sems.append(shfl_rslt['r2_test'][targ].std() / np.sqrt(shfl_rslt['nshfl']))\n",
    "        \n",
    "    r2_mns = np.array(r2_mns)\n",
    "    r2_sems = np.array(r2_sems)\n",
    "    \n",
    "    ax.barh(-np.arange(len(r2_mns)), 100*r2_mns, xerr=100*r2_sems)\n",
    "    ax.set_xlim(left=0)\n",
    "    ax.set_yticks(-np.arange(len(labels)))\n",
    "    ax.set_yticklabels(labels)\n",
    "    set_plot(ax, x_label='Walking Speed Var. Expl. (%)', font_size=14)\n",
    "    \n",
    "fig.savefig('cosyne_2023/1d.svg')"
   ]
  },
  {
   "cell_type": "markdown",
   "id": "b841a744",
   "metadata": {},
   "source": [
    "# Behavioral predictions from perturbed surrogate population recordings"
   ]
  },
  {
   "cell_type": "code",
   "execution_count": null,
   "id": "242481ef",
   "metadata": {},
   "outputs": [],
   "source": [
    "KBHVS_FOLDERS_KEYS = [\n",
    "    ('ma', 'neur_basic', 'Full MA pop.'),\n",
    "    (None, None, None),\n",
    "    ('ma_no_sel', 'ma_alt', 'No selectivity'),\n",
    "    ('ma_pure_sel', 'ma_alt', 'Pure selectivity'),\n",
    "#     ('ma_sine_sel', 'ma_alt', 'Sine selective'),\n",
    "#     ('ma_pulse_sel', 'ma_alt', 'Pulse selective'),\n",
    "    (None, None, None),\n",
    "    ('ma_no_adapt', 'ma_alt', 'No adapt.'),\n",
    "    ('ma_stim_inv_adapt', 'ma_alt', 'Stim-inv. adapt.'),\n",
    "    (None, None, None),\n",
    "    ('ma_fast_r_fast_a', 'ma_alt', r'$\\tau_r$ fast, $\\tau_a$ fast'),\n",
    "    ('ma_fast_r_med_a', 'ma_alt', r'$\\tau_r$ fast, $\\tau_a$ med.'),\n",
    "    ('ma_fast_r_slow_a', 'ma_alt', r'$\\tau_r$ fast, $\\tau_a$ slow'),\n",
    "    (None, None, None),\n",
    "    ('ma_med_r_fast_a', 'ma_alt', r'$\\tau_r$ med, $\\tau_a$ fast'),\n",
    "    ('ma_med_r_med_a', 'ma_alt', r'$\\tau_r$ med, $\\tau_a$ med'),\n",
    "    ('ma_med_r_slow_a', 'ma_alt', r'$\\tau_r$ med, $\\tau_a$ slow'),\n",
    "    (None, None, None),\n",
    "    ('ma_slow_r_fast_a', 'ma_alt', r'$\\tau_r$ slow, $\\tau_a$ fast'),\n",
    "    ('ma_slow_r_med_a', 'ma_alt', r'$\\tau_r$ slow, $\\tau_a$ med'),\n",
    "    ('ma_slow_r_slow_a', 'ma_alt', r'$\\tau_r$ slow, $\\tau_a$ slow'),\n",
    "# #     ('ma_fast_r_fast_a', 'ma_alt', r'Fast $\\tau_r$, fast $\\tau_a$'),\n",
    "#     ('ma_fast_r_fast_a', 'ma_alt', r'$.1 < \\tau_a < 2$'),\n",
    "#     ('ma_fast_r_med_a', 'ma_alt', r'$2 < \\tau_a < 20$'),\n",
    "#     ('ma_fast_r_slow_a', 'ma_alt', r'$20 < \\tau_a < 120$'),\n",
    "#     (None, None, None),\n",
    "#     ('ma_med_r_fast_a', 'ma_alt', r'$.1 < \\tau_a < 2$'),\n",
    "#     ('ma_med_r_med_a', 'ma_alt', r'$2 < \\tau_a < 20$'),\n",
    "#     ('ma_med_r_slow_a', 'ma_alt', r'$20 < \\tau_a < 120$'),\n",
    "#     (None, None, None),\n",
    "#     ('ma_slow_r_fast_a', 'ma_alt', r'$.1 < \\tau_a < 2$'),\n",
    "#     ('ma_slow_r_med_a', 'ma_alt', r'$2 < \\tau_a < 20$'),\n",
    "#     ('ma_slow_r_slow_a', 'ma_alt', r'$20 < \\tau_a < 120$'),\n",
    "]\n",
    "\n",
    "rslts_1 = []\n",
    "rslts_60 = []\n",
    "\n",
    "for kbhv, folder, key in KBHVS_FOLDERS_KEYS:\n",
    "    if folder is not None:\n",
    "        fit_data = np.load(f'data/simple/mlv/{folder}/baker_{kbhv}_nm91_zh23_mtn_ridge_alpha_10.npy', allow_pickle=True)[0]\n",
    "\n",
    "        nsplit = len(fit_data['r2_test']['MTN_MN_60'])\n",
    "\n",
    "        r2_1 = fit_data['r2_test']['MTN_MN_1'].mean()\n",
    "        err_1 = fit_data['r2_test']['MTN_MN_1'].std()/np.sqrt(nsplit)\n",
    "        \n",
    "        r2_60 = fit_data['r2_test']['MTN_MN_60'].mean()\n",
    "        err_60 = fit_data['r2_test']['MTN_MN_60'].std()/np.sqrt(nsplit)\n",
    "    else:\n",
    "        r2_1 = np.nan\n",
    "        err_1 = np.nan\n",
    "        r2_60 = np.nan\n",
    "        err_60 = np.nan\n",
    "    \n",
    "    rslts_1.append((key, r2_1, err_1))\n",
    "    rslts_60.append((key, r2_60, err_60))"
   ]
  },
  {
   "cell_type": "code",
   "execution_count": 4,
   "id": "eedf58cc",
   "metadata": {},
   "outputs": [
    {
     "ename": "NameError",
     "evalue": "name 'rslts_1' is not defined",
     "output_type": "error",
     "traceback": [
      "\u001b[0;31m---------------------------------------------------------------------------\u001b[0m",
      "\u001b[0;31mNameError\u001b[0m                                 Traceback (most recent call last)",
      "Input \u001b[0;32mIn [4]\u001b[0m, in \u001b[0;36m<cell line: 3>\u001b[0;34m()\u001b[0m\n\u001b[1;32m      1\u001b[0m fig, ax \u001b[38;5;241m=\u001b[39m plt\u001b[38;5;241m.\u001b[39msubplots(\u001b[38;5;241m1\u001b[39m, \u001b[38;5;241m1\u001b[39m, figsize\u001b[38;5;241m=\u001b[39m(\u001b[38;5;241m4.5\u001b[39m, \u001b[38;5;241m4.5\u001b[39m), tight_layout\u001b[38;5;241m=\u001b[39m\u001b[38;5;28;01mTrue\u001b[39;00m, sharey\u001b[38;5;241m=\u001b[39m\u001b[38;5;28;01mTrue\u001b[39;00m)\n\u001b[0;32m----> 3\u001b[0m max_r2 \u001b[38;5;241m=\u001b[39m \u001b[43mrslts_1\u001b[49m[\u001b[38;5;241m0\u001b[39m][\u001b[38;5;241m1\u001b[39m]\n\u001b[1;32m      4\u001b[0m \u001b[38;5;28;01mfor\u001b[39;00m crslt, (key, r2, err) \u001b[38;5;129;01min\u001b[39;00m \u001b[38;5;28menumerate\u001b[39m(rslts_1):\n\u001b[1;32m      5\u001b[0m     ax\u001b[38;5;241m.\u001b[39mbarh([\u001b[38;5;241m-\u001b[39mcrslt], [r2\u001b[38;5;241m/\u001b[39mmax_r2], xerr\u001b[38;5;241m=\u001b[39m[err\u001b[38;5;241m/\u001b[39mmax_r2], height\u001b[38;5;241m=\u001b[39m\u001b[38;5;241m.7\u001b[39m, color\u001b[38;5;241m=\u001b[39m\u001b[38;5;124m'\u001b[39m\u001b[38;5;124mk\u001b[39m\u001b[38;5;124m'\u001b[39m)\n",
      "\u001b[0;31mNameError\u001b[0m: name 'rslts_1' is not defined"
     ]
    },
    {
     "data": {
      "image/png": "[encoded data removed]",
      "text/plain": [
       "<Figure size 324x324 with 1 Axes>"
      ]
     },
     "metadata": {
      "needs_background": "light"
     },
     "output_type": "display_data"
    }
   ],
   "source": [
    "fig, ax = plt.subplots(1, 1, figsize=(4.5, 4.5), tight_layout=True, sharey=True)\n",
    "\n",
    "max_r2 = rslts_1[0][1]\n",
    "for crslt, (key, r2, err) in enumerate(rslts_1):\n",
    "    ax.barh([-crslt], [r2/max_r2], xerr=[err/max_r2], height=.7, color='k')\n",
    "\n",
    "ax.axvline(1, color='gray', ls='--', lw=.5)\n",
    "\n",
    "ax.set_yticks(-np.arange(len(rslts)))\n",
    "ax.set_yticklabels([rslt[0] for rslt in rslts_1])\n",
    "\n",
    "set_plot(ax, x_label='Rel. variance explained', font_size=14)\n",
    "\n",
    "fig.savefig('cosyne_2023/2a.svg')"
   ]
  },
  {
   "cell_type": "code",
   "execution_count": null,
   "id": "8a3451ed",
   "metadata": {},
   "outputs": [],
   "source": []
  }
 ],
 "metadata": {
  "kernelspec": {
   "display_name": "Python 3 (ipykernel)",
   "language": "python",
   "name": "python3"
  },
  "language_info": {
   "codemirror_mode": {
    "name": "ipython",
    "version": 3
   },
   "file_extension": ".py",
   "mimetype": "text/x-python",
   "name": "python",
   "nbconvert_exporter": "python",
   "pygments_lexer": "ipython3",
   "version": "3.9.13"
  }
 },
 "nbformat": 4,
 "nbformat_minor": 5
}

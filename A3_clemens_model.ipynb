{
 "cells": [
  {
   "cell_type": "markdown",
   "id": "208c606c",
   "metadata": {},
   "source": [
    "Full paper + supplemental: [clemens2015connecting](https://ars.els-cdn.com/content/image/1-s2.0-S0896627315007084-mmc7.pdf)"
   ]
  },
  {
   "cell_type": "markdown",
   "id": "eadae77f",
   "metadata": {},
   "source": [
    "# Encoder models\n",
    "\n",
    "Song --> neural activity. Note: naturalistic song converted to pulse amplitude of 1 mm/s, sine amplitude of .25 mm/s"
   ]
  },
  {
   "cell_type": "markdown",
   "id": "050f3152",
   "metadata": {},
   "source": [
    "## Linear-nonlinear (LN)\n",
    "\n",
    "$$\\hat{r}(t) = N(g(t)) = N\\left(\\int d\\tau F(\\tau)s(\\tau-t) \\right)$$"
   ]
  },
  {
   "cell_type": "markdown",
   "id": "ff98418e",
   "metadata": {},
   "source": [
    "2048 ms filter duration, 16 raised cosine bumps\n",
    "\n",
    "$N$ represented via smooth splines"
   ]
  },
  {
   "cell_type": "markdown",
   "id": "6d5e1ef1",
   "metadata": {},
   "source": [
    "## adaptive LN"
   ]
  },
  {
   "cell_type": "markdown",
   "id": "d75e6761",
   "metadata": {},
   "source": [
    "$$d(t; v, \\tau) = d(t-1) + s(t-1)[1-d(t-1)]v - \\frac{d(t-1)}{\\tau}$$"
   ]
  },
  {
   "cell_type": "markdown",
   "id": "9845f291",
   "metadata": {},
   "source": [
    "$$d(t) = \\sum_{v, \\tau} w(v, \\tau)d(t; v, \\tau)$$"
   ]
  },
  {
   "cell_type": "markdown",
   "id": "07c8fe32",
   "metadata": {},
   "source": [
    "$$\\tau \\in \\{32, 64, 128, 256, 512, 1024, 2048 ms\\}$$"
   ]
  },
  {
   "cell_type": "markdown",
   "id": "6aca7918",
   "metadata": {},
   "source": [
    "Depressed/adapted stimulus:\n",
    "\n",
    "$$s_d(t) = s(t)[1-d(t)]$$"
   ]
  },
  {
   "cell_type": "markdown",
   "id": "b75ea917",
   "metadata": {},
   "source": [
    "$$g(t) = \\int d\\tau F(\\tau)s_d(\\tau-t)$$"
   ]
  },
  {
   "cell_type": "markdown",
   "id": "1824a1f2",
   "metadata": {},
   "source": [
    "## Note: fit and validation on same trial"
   ]
  },
  {
   "cell_type": "markdown",
   "id": "e036e48c",
   "metadata": {},
   "source": [
    "Nonlinearity: piecewise linear sigmoid. 0 below activation threshold, 1 above saturation threshold, linear in between."
   ]
  },
  {
   "cell_type": "markdown",
   "id": "70fd2e9a",
   "metadata": {},
   "source": [
    "# Decoder"
   ]
  },
  {
   "cell_type": "markdown",
   "id": "4b2fd15e",
   "metadata": {},
   "source": [
    "Standard\n",
    "\n",
    "$$\\hat{m} = \\int_0^t [N(g(t))] dt$$"
   ]
  },
  {
   "cell_type": "markdown",
   "id": "de18a1c9",
   "metadata": {},
   "source": [
    "Integrate positive and negative parts separately, then ratio taken as prediction of female speed."
   ]
  },
  {
   "cell_type": "markdown",
   "id": "e0315967",
   "metadata": {},
   "source": [
    "$$q_+ = \\int_0^t [N(g(t))]_+ dt$$\n",
    "\n",
    "$$q_- = \\int_0^t [N(g(t))]_- dt$$"
   ]
  },
  {
   "cell_type": "code",
   "execution_count": null,
   "id": "ee24f6bb",
   "metadata": {},
   "outputs": [],
   "source": []
  }
 ],
 "metadata": {
  "kernelspec": {
   "display_name": "Python 3",
   "language": "python",
   "name": "python3"
  },
  "language_info": {
   "codemirror_mode": {
    "name": "ipython",
    "version": 3
   },
   "file_extension": ".py",
   "mimetype": "text/x-python",
   "name": "python",
   "nbconvert_exporter": "python",
   "pygments_lexer": "ipython3",
   "version": "3.7.10"
  }
 },
 "nbformat": 4,
 "nbformat_minor": 5
}

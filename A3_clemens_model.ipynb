{
 "cells": [
  {
   "cell_type": "markdown",
   "id": "5cc69790-5fcb-4515-87af-c6dbc69c08aa",
   "metadata": {},
   "source": [
    "Full paper + supplemental: [clemens2015connecting](https://ars.els-cdn.com/content/image/1-s2.0-S0896627315007084-mmc7.pdf)"
   ]
  },
  {
   "cell_type": "markdown",
   "id": "86709b04-cdd3-4aed-a22e-0074d01a5a02",
   "metadata": {},
   "source": [
    "# Encoder models\n",
    "\n",
    "Song --> neural activity. Note: naturalistic song converted to pulse amplitude of 1 mm/s, sine amplitude of .25 mm/s"
   ]
  },
  {
   "cell_type": "markdown",
   "id": "662dfb7c-eec4-4a16-a4c2-2180db2c54ce",
   "metadata": {},
   "source": [
    "## Linear-nonlinear (LN)\n",
    "\n",
    "$$\\hat{r}(t) = N(g(t)) = N\\left(\\int d\\tau F(\\tau)s(\\tau-t) \\right)$$"
   ]
  },
  {
   "cell_type": "markdown",
   "id": "906e828e-5e79-4dac-88fd-81f7291d0860",
   "metadata": {},
   "source": [
    "2048 ms filter duration, 16 raised cosine bumps\n",
    "\n",
    "$N$ represented via smooth splines"
   ]
  },
  {
   "cell_type": "markdown",
   "id": "692be5c5-7f8e-4b5a-8a41-68bee11d06a2",
   "metadata": {},
   "source": [
    "## adaptive LN"
   ]
  },
  {
   "cell_type": "markdown",
   "id": "1b7b174b-6503-4eec-8703-bb502a7cc3b9",
   "metadata": {},
   "source": [
    "$$d(t; v, \\tau) = d(t-1) + s(t-1)[1-d(t-1)]v - \\frac{d(t-1)}{\\tau}$$"
   ]
  },
  {
   "cell_type": "markdown",
   "id": "58d5440b-cb12-4fe6-b8f8-f5da3c6c3ea3",
   "metadata": {},
   "source": [
    "$$d(t) = \\sum_{v, \\tau} w(v, \\tau)d(t; v, \\tau)$$"
   ]
  },
  {
   "cell_type": "markdown",
   "id": "3ccf0da7-bd9e-45bb-957a-353d22646ee8",
   "metadata": {},
   "source": [
    "$$\\tau \\in \\{32, 64, 128, 256, 512, 1024, 2048 ms\\}$$"
   ]
  },
  {
   "cell_type": "markdown",
   "id": "d2606fdc-e62b-413a-a65f-4f5478bc58b8",
   "metadata": {},
   "source": [
    "Depressed/adapted stimulus:\n",
    "\n",
    "$$s_d(t) = s(t)[1-d(t)]$$"
   ]
  },
  {
   "cell_type": "markdown",
   "id": "03a2c275-5637-4380-bbc4-65b19be5ec06",
   "metadata": {},
   "source": [
    "$$g(t) = \\int d\\tau F(\\tau)s_d(\\tau-t)$$"
   ]
  },
  {
   "cell_type": "markdown",
   "id": "245ce8a7-3897-4176-975c-0d08549dc964",
   "metadata": {},
   "source": [
    "## Note: fit and validation on same trial"
   ]
  },
  {
   "cell_type": "markdown",
   "id": "5b4eec4b-ba25-466f-8812-9a32e5206692",
   "metadata": {},
   "source": [
    "Nonlinearity: piecewise linear sigmoid. 0 below activation threshold, 1 above saturation threshold, linear in between."
   ]
  },
  {
   "cell_type": "markdown",
   "id": "de91c33f-f43d-4492-b0af-073c3b30ba66",
   "metadata": {},
   "source": [
    "# Decoder"
   ]
  },
  {
   "cell_type": "markdown",
   "id": "53e9298a-a746-475e-ac05-30a51c7fbe6a",
   "metadata": {},
   "source": [
    "Standard\n",
    "\n",
    "$$\\hat{m} = \\int_0^t [N(g(t))] dt$$"
   ]
  },
  {
   "cell_type": "markdown",
   "id": "fc7a5b51-5fad-4795-9df0-995f98f8aad8",
   "metadata": {},
   "source": [
    "Integrate positive and negative parts separately, then ratio taken as prediction of female speed."
   ]
  },
  {
   "cell_type": "markdown",
   "id": "5f52307a-dd5a-4818-b370-8c66fb419d54",
   "metadata": {},
   "source": [
    "$$q_+ = \\int_0^t [N(g(t))]_+ dt$$\n",
    "\n",
    "$$q_- = \\int_0^t [N(g(t))]_- dt$$"
   ]
  },
  {
   "cell_type": "code",
   "execution_count": null,
   "id": "5085b7ce-48cd-4c11-be54-c77895bf2062",
   "metadata": {},
   "outputs": [],
   "source": []
  }
 ],
 "metadata": {
  "kernelspec": {
   "display_name": "Python 3 (ipykernel)",
   "language": "python",
   "name": "python3"
  },
  "language_info": {
   "codemirror_mode": {
    "name": "ipython",
    "version": 3
   },
   "file_extension": ".py",
   "mimetype": "text/x-python",
   "name": "python",
   "nbconvert_exporter": "python",
   "pygments_lexer": "ipython3",
   "version": "3.7.13"
  }
 },
 "nbformat": 4,
 "nbformat_minor": 5
}

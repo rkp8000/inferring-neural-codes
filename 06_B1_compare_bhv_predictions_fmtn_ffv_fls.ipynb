{
 "cells": [
  {
   "cell_type": "markdown",
   "id": "dd1e171d",
   "metadata": {},
   "source": [
    "# Compare predictions of other female locomotion variables"
   ]
  },
  {
   "cell_type": "code",
   "execution_count": 1,
   "id": "0bc956fc",
   "metadata": {},
   "outputs": [],
   "source": [
    "%matplotlib inline\n",
    "import matplotlib.pyplot as plt\n",
    "import numpy as np\n",
    "from scipy import stats\n",
    "\n",
    "from disp import set_plot\n",
    "\n",
    "\n",
    "STRAIN_KEY = '_'.join(['NM91', 'ZH23']).lower()\n",
    "REG_KEY = 'ridge_alpha_10'\n",
    "\n",
    "\n",
    "PFX_BHV = f'data/simple/behav_xtd/behav_xtd'\n",
    "\n",
    "MASKED = True"
   ]
  },
  {
   "cell_type": "code",
   "execution_count": 2,
   "id": "4e3d1a1c",
   "metadata": {},
   "outputs": [],
   "source": [
    "NNRN = 224\n",
    "NRL_MDLS = [\n",
    "    'linma',  # linear neural model w MA-derived filters\n",
    "    # 'lnma',  # lin-nonlin neural model w MA-derived filters\n",
    "    'lnma_tweaked',  # lin-nonlin neural model w double-exp filter optimized from MA fit\n",
    "    'ma',  # mult-adapt neural model\n",
    "    \n",
    "#     'lnr',  # linear-nonlinear model (fit w ridge regr)\n",
    "#     'lnr_relu',  \n",
    "#     'lnr_relu_flex',\n",
    "    \n",
    "    \n",
    "#     'linr',  # linear neural model (fit w ridge regr)\n",
    "    \n",
    "#     'ma_ind_ta',\n",
    "    \n",
    "#     'lin',  # linear neural model\n",
    "#     'ln',  # linear-nonlinear model\n",
    "]\n",
    "\n",
    "LABELS = {\n",
    "    'ma': 'MA',\n",
    "    # 'lnma': 'LN',\n",
    "#     'lnr': 'LN-R',\n",
    "#     'lnr_relu_flex': 'LN_FLEX',\n",
    "    'lnma_tweaked': 'LN',\n",
    "    \n",
    "    'linma': 'Lin',\n",
    "    \n",
    "#     'ma_ind_ta': 'MA_IND_TA',\n",
    "    \n",
    "    'MTN': 'Motion',\n",
    "}"
   ]
  },
  {
   "cell_type": "code",
   "execution_count": 3,
   "id": "960ec35f",
   "metadata": {},
   "outputs": [
    {
     "data": {
      "image/png": "[encoded data removed]",
      "text/plain": [
       "<Figure size 864x288 with 3 Axes>"
      ]
     },
     "metadata": {
      "needs_background": "light"
     },
     "output_type": "display_data"
    }
   ],
   "source": [
    "fig, axs = plt.subplots(1, 3, figsize=(12, 4), tight_layout=True)\n",
    "TARG_BHVS = ['FFV', 'FLS', 'MTN']\n",
    "TWDWS = [.03, 1, 60]\n",
    "\n",
    "for ctarg, TARG_BHV in enumerate(TARG_BHVS):\n",
    "    TARGS = [f'{TARG_BHV}_MN_{twdw}' for twdw in TWDWS]\n",
    "\n",
    "    if not MASKED:\n",
    "        # ppln fits\n",
    "        ppln_rslts = [\n",
    "            np.load(f'data/simple/mlv/neur_basic/baker_{nrl_mdl}_{STRAIN_KEY}_{TARG_BHV.lower()}_{REG_KEY}.npy', allow_pickle=True)[0]\n",
    "            for nrl_mdl in NRL_MDLS\n",
    "        ]\n",
    "    else:\n",
    "        # ppln fits\n",
    "        ppln_rslts = [\n",
    "            np.load(f'data/simple/mlv/neur_basic/baker_{nrl_mdl}_{STRAIN_KEY}_{TARG_BHV.lower()}_{REG_KEY}_masked.npy', allow_pickle=True)[0]\n",
    "            for nrl_mdl in NRL_MDLS\n",
    "        ]\n",
    "\n",
    "    for ax, twdw in zip(axs, TWDWS):\n",
    "        labels = []\n",
    "        r2_mns = []\n",
    "        r2_sems = []\n",
    "\n",
    "        targ = f'{TARG_BHV}_MN_{twdw}'\n",
    "\n",
    "        # ppln results\n",
    "        for nrl_mdl, ppln_rslt in zip(NRL_MDLS, ppln_rslts):\n",
    "            labels.append(f'{LABELS[nrl_mdl]} (pop)')\n",
    "            r2_mns.append(ppln_rslt['r2_test'][targ].mean())\n",
    "            r2_sems.append(ppln_rslt['r2_test'][targ].std() / np.sqrt(ppln_rslt['nsplit']))\n",
    "\n",
    "        r2_mns = np.array(r2_mns)\n",
    "        r2_sems = np.array(r2_sems)\n",
    "\n",
    "        ax.barh(np.arange(len(r2_mns))+.25*ctarg, 100*r2_mns, xerr=100*r2_sems, height=.2)\n",
    "        # ax.set_xlim(left=0)\n",
    "\n",
    "for ax, twdw in zip(axs, TWDWS):\n",
    "    ax.set_ylim([3, -.5])\n",
    "    ax.set_yticks([0.25, 1.25, 2.25])\n",
    "    ax.legend(TARG_BHVS)\n",
    "    if ax is axs[0]:\n",
    "        ax.set_yticklabels(labels)\n",
    "    else:\n",
    "        ax.set_yticklabels([])\n",
    "\n",
    "    set_plot(ax, x_label='Behavioral Variance\\nExplained (%)', title=f'{twdw} sec forward smoothing', font_size=14)\n",
    "    \n",
    "fig.savefig('supp/8_mtn_vs_fls_vs_ffv.svg')"
   ]
  },
  {
   "cell_type": "code",
   "execution_count": null,
   "id": "db3d9999",
   "metadata": {},
   "outputs": [],
   "source": []
  }
 ],
 "metadata": {
  "kernelspec": {
   "display_name": "Python 3",
   "language": "python",
   "name": "python3"
  },
  "language_info": {
   "codemirror_mode": {
    "name": "ipython",
    "version": 3
   },
   "file_extension": ".py",
   "mimetype": "text/x-python",
   "name": "python",
   "nbconvert_exporter": "python",
   "pygments_lexer": "ipython3",
   "version": "3.7.10"
  }
 },
 "nbformat": 4,
 "nbformat_minor": 5
}

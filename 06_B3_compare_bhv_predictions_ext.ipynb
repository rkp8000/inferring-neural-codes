{
 "cells": [
  {
   "cell_type": "markdown",
   "id": "b5951b0e",
   "metadata": {},
   "source": [
    "Comparisons of locomotion predictions of different mechanistic latent variable models."
   ]
  },
  {
   "cell_type": "code",
   "execution_count": 1,
   "id": "4edf41fd",
   "metadata": {},
   "outputs": [],
   "source": [
    "%matplotlib inline\n",
    "import matplotlib.pyplot as plt\n",
    "import numpy as np\n",
    "import os\n",
    "from scipy import stats\n",
    "\n",
    "from disp import set_plot\n",
    "\n",
    "\n",
    "STRAIN_KEY = '_'.join(['NM91', 'ZH23']).lower()\n",
    "REG_KEY = 'ridge_alpha_10'\n",
    "\n",
    "TARG_BHV = 'MTN'\n",
    "TWDWS = [.03, 1, 60]\n",
    "TARGS = [f'{TARG_BHV}_MN_{twdw}' for twdw in TWDWS]\n",
    "\n",
    "PFX_BHV = f'data/simple/behav_xtd/behav_xtd'\n",
    "\n",
    "MASKED = True"
   ]
  },
  {
   "cell_type": "markdown",
   "id": "36cd8b9a",
   "metadata": {},
   "source": [
    "# Behavioral predictions from perturbed surrogate population recordings"
   ]
  },
  {
   "cell_type": "code",
   "execution_count": 5,
   "id": "5a537f0f",
   "metadata": {},
   "outputs": [],
   "source": [
    "KBHVS_FOLDERS_KEYS = [\n",
    "    ('ma', 'neur_basic', 'Full MA pop.'),\n",
    "    (None, None, None),\n",
    "    (None, None, None),\n",
    "    ('ma_med_r_fast_a', 'ma_pert', r'Med. $\\tau_{int}$, fast $\\tau_a$'),\n",
    "    ('ma_med_r_med_a', 'ma_pert', r'Med. $\\tau_{int}$, med $\\tau_a$'),\n",
    "    (None, None, None),\n",
    "    ('ma_slow_r_fast_a', 'ma_pert', r'Slow $\\tau_{int}$, fast $\\tau_a$'),\n",
    "    ('ma_slow_r_med_a', 'ma_pert', r'Slow $\\tau_{int}$, med $\\tau_a$'),\n",
    "    (None, None, None),\n",
    "    ('ma_medslow_r_fastmed_a', 'ma_pert', r'MS $\\tau_{int}$, FM $\\tau_a$'),\n",
    "]\n",
    "\n",
    "rslts_1 = []\n",
    "rslts_60 = []\n",
    "\n",
    "r2s_1 = []\n",
    "r2s_60 = []\n",
    "\n",
    "for kbhv, folder, key in KBHVS_FOLDERS_KEYS:\n",
    "    if folder is not None:\n",
    "        if not MASKED:\n",
    "            fit_data = np.load(f'data/simple/mlv/{folder}/baker_{kbhv}_nm91_zh23_mtn_ridge_alpha_10.npy', allow_pickle=True)[0]\n",
    "        else:\n",
    "            fit_data = np.load(f'data/simple/mlv/{folder}/baker_{kbhv}_nm91_zh23_mtn_ridge_alpha_10_masked.npy', allow_pickle=True)[0]\n",
    "\n",
    "        nsplit = len(fit_data['r2_test']['MTN_MN_60'])\n",
    "\n",
    "        r2_1 = fit_data['r2_test']['MTN_MN_1'].mean()\n",
    "        err_1 = fit_data['r2_test']['MTN_MN_1'].std()/np.sqrt(nsplit)\n",
    "        \n",
    "        r2_60 = fit_data['r2_test']['MTN_MN_60'].mean()\n",
    "        err_60 = fit_data['r2_test']['MTN_MN_60'].std()/np.sqrt(nsplit)\n",
    "        \n",
    "        r2s_1.append(fit_data['r2_test']['MTN_MN_1'])\n",
    "        r2s_60.append(fit_data['r2_test']['MTN_MN_60'])\n",
    "    else:\n",
    "        r2_1 = np.nan\n",
    "        err_1 = np.nan\n",
    "        r2_60 = np.nan\n",
    "        err_60 = np.nan\n",
    "    \n",
    "    rslts_1.append((key, r2_1, err_1))\n",
    "    rslts_60.append((key, r2_60, err_60))"
   ]
  },
  {
   "cell_type": "code",
   "execution_count": 6,
   "id": "d69946c7",
   "metadata": {},
   "outputs": [
    {
     "data": {
      "image/png": "[encoded data removed]",
      "text/plain": [
       "<Figure size 504x432 with 2 Axes>"
      ]
     },
     "metadata": {
      "needs_background": "light"
     },
     "output_type": "display_data"
    }
   ],
   "source": [
    "fig, axs = plt.subplots(1, 2, figsize=(7, 6), tight_layout=True, sharey=True)\n",
    "for crslts, (ax, rslts) in enumerate(zip(axs, [rslts_1, rslts_60])):\n",
    "    max_r2 = rslts[0][1]\n",
    "    \n",
    "    for crslt, (key, r2, err) in enumerate(rslts):\n",
    "        ax.barh([-crslt], [r2/max_r2], xerr=[err/max_r2], color='k')\n",
    "        \n",
    "    ax.axvline(1, color='gray', ls='--', lw=.5)\n",
    "\n",
    "    ax.set_yticks(-np.arange(len(rslts)))\n",
    "    ax.set_yticklabels([rslt[0] for rslt in rslts])\n",
    "\n",
    "    set_plot(ax, x_label='Relative var. explained', title='Locomotion prediction from\\nperturbed MA population', font_size=12)\n",
    "    \n",
    "# fig.savefig('ms/fig_2a.svg')"
   ]
  },
  {
   "cell_type": "code",
   "execution_count": 14,
   "id": "73d4e4c8-a6b2-43d1-b6ae-05af17652d8c",
   "metadata": {},
   "outputs": [
    {
     "data": {
      "text/plain": [
       "Ttest_indResult(statistic=-1.4468251796197682, pvalue=0.1533290846149662)"
      ]
     },
     "execution_count": 14,
     "metadata": {},
     "output_type": "execute_result"
    }
   ],
   "source": [
    "stats.ttest_ind(r2s_1[1], r2s_1[3])  # med_int, fast_a  vs slow_int, fast_a"
   ]
  },
  {
   "cell_type": "code",
   "execution_count": 15,
   "id": "1869b62e-c64f-4416-9744-333cba0d3b6d",
   "metadata": {},
   "outputs": [
    {
     "data": {
      "text/plain": [
       "Ttest_indResult(statistic=-2.408666185830873, pvalue=0.019208552134824537)"
      ]
     },
     "execution_count": 15,
     "metadata": {},
     "output_type": "execute_result"
    }
   ],
   "source": [
    "stats.ttest_ind(r2s_60[1], r2s_60[3])  # med_int, fast_a  vs slow_int, fast_a"
   ]
  }
 ],
 "metadata": {
  "kernelspec": {
   "display_name": "Python 3 (ipykernel)",
   "language": "python",
   "name": "python3"
  },
  "language_info": {
   "codemirror_mode": {
    "name": "ipython",
    "version": 3
   },
   "file_extension": ".py",
   "mimetype": "text/x-python",
   "name": "python",
   "nbconvert_exporter": "python",
   "pygments_lexer": "ipython3",
   "version": "3.9.13"
  }
 },
 "nbformat": 4,
 "nbformat_minor": 5
}

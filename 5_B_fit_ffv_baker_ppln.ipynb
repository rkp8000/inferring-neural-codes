{
 "cells": [
  {
   "cell_type": "markdown",
   "id": "79cba3c9",
   "metadata": {},
   "source": [
    "# Fit simple models predicting female behavior from surrogate neural activity."
   ]
  },
  {
   "cell_type": "markdown",
   "id": "fdf92bb1",
   "metadata": {},
   "source": [
    "## Vanilla linear regression"
   ]
  },
  {
   "cell_type": "code",
   "execution_count": 1,
   "id": "221d1c18",
   "metadata": {},
   "outputs": [],
   "source": [
    "%matplotlib inline\n",
    "import matplotlib.gridspec as gridspec\n",
    "import matplotlib.pyplot as plt\n",
    "import numpy as np\n",
    "import pandas as pd\n",
    "from scipy import stats\n",
    "from sklearn import linear_model\n",
    "import sys\n",
    "\n",
    "from disp import set_plot\n",
    "from my_torch import skl_fit_ridge\n",
    "\n",
    "cc = np.concatenate\n",
    "\n",
    "NTR = 276\n",
    "NTRAIN = int(round(.8*NTR))\n",
    "NSPLIT = 30\n",
    "\n",
    "FIT_LIN = skl_fit_ridge\n",
    "FIT_KWARGS = {'alpha': 10}\n",
    "\n",
    "# FIT_LIN = torch_fit_lin\n",
    "# FIT_KWARGS = {nepoch=500, print_every=10}"
   ]
  },
  {
   "cell_type": "code",
   "execution_count": 2,
   "id": "2ad31b07",
   "metadata": {},
   "outputs": [],
   "source": [
    "# NRL_MDL = 'lin'  # linear neural model\n",
    "# NRL_MDL = 'ln'  # linear-nonlinear model\n",
    "NRL_MDL = 'dyn'  # dynamical neural model\n",
    "\n",
    "DF_BAKER_FIT_PARAM = pd.read_csv(f'data/simple/neur/baker_{NRL_MDL}_fit_param.csv') \n",
    "\n",
    "ROI_SET, R_COLS_USE = 'all', [f'R_{ir}' for ir in DF_BAKER_FIT_PARAM.EXPT_ID]\n",
    "\n",
    "TARG = 'FFV'\n",
    "# TARG = 'FLS'\n",
    "# TARG = 'FRS'\n",
    "\n",
    "\n",
    "PFX_BHV = f'data/simple/mlv/neur_basic/baker_{NRL_MDL}/mlv_baker_{NRL_MDL}'\n",
    "SAVE_FILE = f'data/simple/mlv/neur_basic/baker_{NRL_MDL}_{TARG.lower()}_{NTR}_tr.npy'\n",
    "\n",
    "DF_BAKER_FIT_PARAM"
   ]
  },
  {
   "cell_type": "code",
   "execution_count": null,
   "id": "d7a5605c",
   "metadata": {},
   "outputs": [
    {
     "name": "stdout",
     "output_type": "stream",
     "text": [
      "Split 0\n",
      "Loading...\n",
      "Fitting...\n"
     ]
    }
   ],
   "source": [
    "# fit regression models\n",
    "rgrs = []\n",
    "for csplit in range(NSPLIT):\n",
    "    print(f'Split {csplit}')\n",
    "    rnd_tr_idxs = np.random.permutation(NTR)\n",
    "    idxs_train = rnd_tr_idxs[:NTRAIN]\n",
    "    idxs_test = rnd_tr_idxs[NTRAIN:]\n",
    "    rgr = FIT_LIN(PFX_BHV, R_COLS_USE, TARG, idxs_train, idxs_test, **FIT_KWARGS)\n",
    "    rgrs.append(rgr)"
   ]
  },
  {
   "cell_type": "code",
   "execution_count": null,
   "id": "fcb7e79e",
   "metadata": {},
   "outputs": [],
   "source": [
    "# save r2, weights, and example predictions\n",
    "save_data = {\n",
    "    'r2_train': np.array([rgr.r2_train for rgr in rgrs]),\n",
    "    'r2_test': np.array([rgr.r2_test for rgr in rgrs]),\n",
    "    'w': np.array([rgr.w for rgr in rgrs]),\n",
    "    'ys_train': [rgr.ys_train for rgr in rgrs[:2]],\n",
    "    'y_hats_train': [rgr.y_hats_train for rgr in rgrs[:2]],\n",
    "    'ys_test': [rgr.ys_test for rgr in rgrs[:2]],\n",
    "    'y_hats_test': [rgr.y_hats_test for rgr in rgrs[:2]],\n",
    "    'fit_fn': FIT_LIN.__name__,\n",
    "    'fit_kwargs': FIT_KWARGS,\n",
    "    'ntr': NTR,\n",
    "    'nsplit': NSPLIT,\n",
    "    'nr': len(R_COLS_USE)\n",
    "}\n",
    "\n",
    "np.save(SAVE_FILE, np.array([save_data]))"
   ]
  },
  {
   "cell_type": "code",
   "execution_count": null,
   "id": "3f267707",
   "metadata": {},
   "outputs": [],
   "source": [
    "TRAIN_IDX_PLOT = 0\n",
    "TEST_IDX_PLOT = 0\n",
    "\n",
    "data = np.load(SAVE_FILE, allow_pickle=True)[0]\n",
    "gs = gridspec.GridSpec(3, 3)\n",
    "fig = plt.figure(figsize=(12, 10), tight_layout=True)\n",
    "axs = [fig.add_subplot(gs[0, 0]), fig.add_subplot(gs[0, 1:]), fig.add_subplot(gs[1, :]), fig.add_subplot(gs[2, :])]\n",
    "\n",
    "axs[0].hist(np.transpose([data['r2_train'], data['r2_test']]), bins=30)\n",
    "axs[0].legend(['Train', 'Test'])\n",
    "set_plot(axs[0], x_label='R2', y_label='# splits', font_size=14)\n",
    "\n",
    "axs[1].bar(np.arange(data['w'].shape[1]), np.mean(data['w'], axis=0))\n",
    "set_plot(axs[1], x_label='Response ID', y_label='Weight', font_size=14)\n",
    "\n",
    "axs[2].plot(np.arange(len(data['ys_train'][0][TRAIN_IDX_PLOT])), data['ys_train'][0][TRAIN_IDX_PLOT], c='k', lw=2)\n",
    "axs[2].plot(np.arange(len(data['y_hats_train'][0][TRAIN_IDX_PLOT])), data['y_hats_train'][0][TRAIN_IDX_PLOT], c='r', lw=2)\n",
    "axs[2].legend(['True', 'Predicted'])\n",
    "set_plot(axs[2], y_lim=(-.5, 1), x_label='Timestep', y_label='FFV', title='Training data', font_size=14)\n",
    "\n",
    "axs[3].plot(np.arange(len(data['ys_test'][0][TEST_IDX_PLOT]))/30.03, data['ys_test'][0][TEST_IDX_PLOT], c='orange', lw=2)\n",
    "axs[3].plot(np.arange(len(data['y_hats_test'][0][TEST_IDX_PLOT]))/30.03, data['y_hats_test'][0][TEST_IDX_PLOT], c='k', lw=3)\n",
    "axs[3].legend(['True', 'Predicted'], loc='upper left')\n",
    "set_plot(axs[3], x_lim=(100, 230), y_lim=(-.5, 1), x_label='Time (s)', y_label='FFV', title='Held-out data', font_size=18)"
   ]
  }
 ],
 "metadata": {
  "kernelspec": {
   "display_name": "Python 3",
   "language": "python",
   "name": "python3"
  },
  "language_info": {
   "codemirror_mode": {
    "name": "ipython",
    "version": 3
   },
   "file_extension": ".py",
   "mimetype": "text/x-python",
   "name": "python",
   "nbconvert_exporter": "python",
   "pygments_lexer": "ipython3",
   "version": "3.7.10"
  }
 },
 "nbformat": 4,
 "nbformat_minor": 5
}

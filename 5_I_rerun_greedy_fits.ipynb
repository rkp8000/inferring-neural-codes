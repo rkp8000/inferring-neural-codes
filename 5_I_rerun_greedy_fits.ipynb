{
 "cells": [
  {
   "cell_type": "code",
   "execution_count": 1,
   "id": "cef4c130",
   "metadata": {},
   "outputs": [],
   "source": [
    "%matplotlib inline\n",
    "from itertools import product as cproduct\n",
    "import matplotlib.pyplot as plt\n",
    "import numpy as np\n",
    "import pandas as pd\n",
    "import sys\n",
    "\n",
    "from disp import set_plot\n",
    "\n",
    "from record import smlt_ppln_ma\n",
    "from my_torch import skl_fit_ridge\n",
    "\n",
    "cc = np.concatenate\n",
    "\n",
    "FPS = 30.03  # sampling rate of behavioral data\n",
    "DT = 1/FPS\n",
    "\n",
    "STRAINS = ['NM91', 'ZH23']\n",
    "STRAIN_KEY = '_'.join(STRAINS).lower()\n",
    "\n",
    "PTRAIN = .8\n",
    "NSPLIT = 30\n",
    "\n",
    "TARG_BHV = 'MTN'\n",
    "TWDWS = [.03, 1, 60]\n",
    "TARGS = [f'{TARG_BHV}_MN_{twdw}' for twdw in TWDWS]\n",
    "\n",
    "ALPHA = 10"
   ]
  },
  {
   "cell_type": "code",
   "execution_count": 2,
   "id": "aa460f15",
   "metadata": {},
   "outputs": [],
   "source": [
    "PFX_BHV = f'data/simple/behav_xtd/behav_xtd'\n",
    "PFX_NRL = f'data/simple/mlv/ma_red_greedy/nrl/ma_red_greedy_nrl'\n",
    "\n",
    "FSTRAIN = 'data/simple/strains.csv'\n",
    "MSTRAINS = [(pd.read_csv(FSTRAIN)['STRAIN'] == strain) for strain in STRAINS]\n",
    "MSTRAIN = np.any(MSTRAINS, axis=0)\n",
    "ISTRAIN = MSTRAIN.nonzero()[0]\n",
    "\n",
    "NTR = len(ISTRAIN)\n",
    "NTRAIN = int(round(PTRAIN*NTR))"
   ]
  },
  {
   "cell_type": "markdown",
   "id": "2f132c5a",
   "metadata": {},
   "source": [
    "Load behavioral data from Coen et al 2014"
   ]
  },
  {
   "cell_type": "code",
   "execution_count": 3,
   "id": "2eaebc60",
   "metadata": {},
   "outputs": [
    {
     "data": {
      "text/html": [
       "<div>\n",
       "<style scoped>\n",
       "    .dataframe tbody tr th:only-of-type {\n",
       "        vertical-align: middle;\n",
       "    }\n",
       "\n",
       "    .dataframe tbody tr th {\n",
       "        vertical-align: top;\n",
       "    }\n",
       "\n",
       "    .dataframe thead th {\n",
       "        text-align: right;\n",
       "    }\n",
       "</style>\n",
       "<table border=\"1\" class=\"dataframe\">\n",
       "  <thead>\n",
       "    <tr style=\"text-align: right;\">\n",
       "      <th></th>\n",
       "      <th>ID</th>\n",
       "      <th>FRAME</th>\n",
       "      <th>T</th>\n",
       "      <th>Q</th>\n",
       "      <th>S</th>\n",
       "      <th>P</th>\n",
       "      <th>F</th>\n",
       "      <th>FFV</th>\n",
       "      <th>FFA</th>\n",
       "      <th>FLS</th>\n",
       "      <th>FRS</th>\n",
       "      <th>FMFV</th>\n",
       "      <th>FMLS</th>\n",
       "    </tr>\n",
       "  </thead>\n",
       "  <tbody>\n",
       "    <tr>\n",
       "      <th>0</th>\n",
       "      <td>0</td>\n",
       "      <td>0</td>\n",
       "      <td>0.000000</td>\n",
       "      <td>1</td>\n",
       "      <td>0</td>\n",
       "      <td>0</td>\n",
       "      <td>0</td>\n",
       "      <td>0.231</td>\n",
       "      <td>0.0000</td>\n",
       "      <td>0.159</td>\n",
       "      <td>0.077</td>\n",
       "      <td>-0.058526</td>\n",
       "      <td>0.274257</td>\n",
       "    </tr>\n",
       "    <tr>\n",
       "      <th>1</th>\n",
       "      <td>0</td>\n",
       "      <td>1</td>\n",
       "      <td>0.033300</td>\n",
       "      <td>1</td>\n",
       "      <td>0</td>\n",
       "      <td>0</td>\n",
       "      <td>0</td>\n",
       "      <td>0.314</td>\n",
       "      <td>0.0385</td>\n",
       "      <td>0.025</td>\n",
       "      <td>0.044</td>\n",
       "      <td>0.100623</td>\n",
       "      <td>0.298490</td>\n",
       "    </tr>\n",
       "    <tr>\n",
       "      <th>2</th>\n",
       "      <td>0</td>\n",
       "      <td>2</td>\n",
       "      <td>0.066600</td>\n",
       "      <td>1</td>\n",
       "      <td>0</td>\n",
       "      <td>0</td>\n",
       "      <td>0</td>\n",
       "      <td>0.308</td>\n",
       "      <td>0.0025</td>\n",
       "      <td>0.029</td>\n",
       "      <td>0.011</td>\n",
       "      <td>0.147629</td>\n",
       "      <td>0.271865</td>\n",
       "    </tr>\n",
       "    <tr>\n",
       "      <th>3</th>\n",
       "      <td>0</td>\n",
       "      <td>3</td>\n",
       "      <td>0.099900</td>\n",
       "      <td>1</td>\n",
       "      <td>0</td>\n",
       "      <td>0</td>\n",
       "      <td>0</td>\n",
       "      <td>0.319</td>\n",
       "      <td>0.0020</td>\n",
       "      <td>0.016</td>\n",
       "      <td>0.016</td>\n",
       "      <td>0.091174</td>\n",
       "      <td>0.306112</td>\n",
       "    </tr>\n",
       "    <tr>\n",
       "      <th>4</th>\n",
       "      <td>0</td>\n",
       "      <td>4</td>\n",
       "      <td>0.133200</td>\n",
       "      <td>1</td>\n",
       "      <td>0</td>\n",
       "      <td>0</td>\n",
       "      <td>0</td>\n",
       "      <td>0.312</td>\n",
       "      <td>-0.0315</td>\n",
       "      <td>0.030</td>\n",
       "      <td>0.002</td>\n",
       "      <td>0.065871</td>\n",
       "      <td>0.306439</td>\n",
       "    </tr>\n",
       "    <tr>\n",
       "      <th>...</th>\n",
       "      <td>...</td>\n",
       "      <td>...</td>\n",
       "      <td>...</td>\n",
       "      <td>...</td>\n",
       "      <td>...</td>\n",
       "      <td>...</td>\n",
       "      <td>...</td>\n",
       "      <td>...</td>\n",
       "      <td>...</td>\n",
       "      <td>...</td>\n",
       "      <td>...</td>\n",
       "      <td>...</td>\n",
       "      <td>...</td>\n",
       "    </tr>\n",
       "    <tr>\n",
       "      <th>4978565</th>\n",
       "      <td>275</td>\n",
       "      <td>27100</td>\n",
       "      <td>902.430902</td>\n",
       "      <td>1</td>\n",
       "      <td>0</td>\n",
       "      <td>0</td>\n",
       "      <td>0</td>\n",
       "      <td>0.217</td>\n",
       "      <td>0.0280</td>\n",
       "      <td>0.029</td>\n",
       "      <td>0.058</td>\n",
       "      <td>-0.171418</td>\n",
       "      <td>0.136184</td>\n",
       "    </tr>\n",
       "    <tr>\n",
       "      <th>4978566</th>\n",
       "      <td>275</td>\n",
       "      <td>27101</td>\n",
       "      <td>902.464202</td>\n",
       "      <td>1</td>\n",
       "      <td>0</td>\n",
       "      <td>0</td>\n",
       "      <td>0</td>\n",
       "      <td>0.210</td>\n",
       "      <td>-0.1045</td>\n",
       "      <td>0.138</td>\n",
       "      <td>0.322</td>\n",
       "      <td>0.032522</td>\n",
       "      <td>0.249171</td>\n",
       "    </tr>\n",
       "    <tr>\n",
       "      <th>4978567</th>\n",
       "      <td>275</td>\n",
       "      <td>27102</td>\n",
       "      <td>902.497502</td>\n",
       "      <td>1</td>\n",
       "      <td>0</td>\n",
       "      <td>0</td>\n",
       "      <td>0</td>\n",
       "      <td>0.008</td>\n",
       "      <td>-0.0910</td>\n",
       "      <td>0.034</td>\n",
       "      <td>0.260</td>\n",
       "      <td>0.033202</td>\n",
       "      <td>0.010844</td>\n",
       "    </tr>\n",
       "    <tr>\n",
       "      <th>4978568</th>\n",
       "      <td>275</td>\n",
       "      <td>27103</td>\n",
       "      <td>902.530803</td>\n",
       "      <td>1</td>\n",
       "      <td>0</td>\n",
       "      <td>0</td>\n",
       "      <td>0</td>\n",
       "      <td>0.028</td>\n",
       "      <td>0.0695</td>\n",
       "      <td>0.010</td>\n",
       "      <td>0.090</td>\n",
       "      <td>0.012059</td>\n",
       "      <td>0.027177</td>\n",
       "    </tr>\n",
       "    <tr>\n",
       "      <th>4978569</th>\n",
       "      <td>275</td>\n",
       "      <td>27104</td>\n",
       "      <td>902.564103</td>\n",
       "      <td>1</td>\n",
       "      <td>0</td>\n",
       "      <td>0</td>\n",
       "      <td>0</td>\n",
       "      <td>0.147</td>\n",
       "      <td>0.0000</td>\n",
       "      <td>0.065</td>\n",
       "      <td>0.001</td>\n",
       "      <td>0.089547</td>\n",
       "      <td>0.133474</td>\n",
       "    </tr>\n",
       "  </tbody>\n",
       "</table>\n",
       "<p>4978570 rows × 13 columns</p>\n",
       "</div>"
      ],
      "text/plain": [
       "          ID  FRAME           T  Q  S  P  F    FFV     FFA    FLS    FRS  \\\n",
       "0          0      0    0.000000  1  0  0  0  0.231  0.0000  0.159  0.077   \n",
       "1          0      1    0.033300  1  0  0  0  0.314  0.0385  0.025  0.044   \n",
       "2          0      2    0.066600  1  0  0  0  0.308  0.0025  0.029  0.011   \n",
       "3          0      3    0.099900  1  0  0  0  0.319  0.0020  0.016  0.016   \n",
       "4          0      4    0.133200  1  0  0  0  0.312 -0.0315  0.030  0.002   \n",
       "...      ...    ...         ... .. .. .. ..    ...     ...    ...    ...   \n",
       "4978565  275  27100  902.430902  1  0  0  0  0.217  0.0280  0.029  0.058   \n",
       "4978566  275  27101  902.464202  1  0  0  0  0.210 -0.1045  0.138  0.322   \n",
       "4978567  275  27102  902.497502  1  0  0  0  0.008 -0.0910  0.034  0.260   \n",
       "4978568  275  27103  902.530803  1  0  0  0  0.028  0.0695  0.010  0.090   \n",
       "4978569  275  27104  902.564103  1  0  0  0  0.147  0.0000  0.065  0.001   \n",
       "\n",
       "             FMFV      FMLS  \n",
       "0       -0.058526  0.274257  \n",
       "1        0.100623  0.298490  \n",
       "2        0.147629  0.271865  \n",
       "3        0.091174  0.306112  \n",
       "4        0.065871  0.306439  \n",
       "...           ...       ...  \n",
       "4978565 -0.171418  0.136184  \n",
       "4978566  0.032522  0.249171  \n",
       "4978567  0.033202  0.010844  \n",
       "4978568  0.012059  0.027177  \n",
       "4978569  0.089547  0.133474  \n",
       "\n",
       "[4978570 rows x 13 columns]"
      ]
     },
     "execution_count": 3,
     "metadata": {},
     "output_type": "execute_result"
    }
   ],
   "source": [
    "df_behav = pd.read_csv('data/simple/c_song_f_behav.csv')\n",
    "df_behav"
   ]
  },
  {
   "cell_type": "code",
   "execution_count": 4,
   "id": "c5d84448",
   "metadata": {},
   "outputs": [],
   "source": [
    "# split big df into dfs for individual trials\n",
    "n_tr = np.max(df_behav.ID) + 1\n",
    "dfs_tr = [df_behav[df_behav.ID == i] for i in ISTRAIN]\n",
    "\n",
    "df_behav = None"
   ]
  },
  {
   "cell_type": "markdown",
   "id": "330bf05c",
   "metadata": {},
   "source": [
    "## Define complete neural population"
   ]
  },
  {
   "cell_type": "code",
   "execution_count": 5,
   "id": "3459fbde",
   "metadata": {},
   "outputs": [],
   "source": [
    "TAU_R = np.array([.1, .5, 1, 2, 5, 10, 30, 60, 120])\n",
    "TAU_A = np.array([.1, .5, 1, 2, 5, 10, 30, 60, np.inf])\n",
    "X_S = np.array([0, .5, 1])\n",
    "\n",
    "tau_r_tau_a_x_s = np.array(list(cproduct(TAU_R, TAU_A, X_S)))\n",
    "\n",
    "tau_rs = tau_r_tau_a_x_s[:, 0]\n",
    "tau_as = tau_r_tau_a_x_s[:, 1]\n",
    "x_ss = tau_r_tau_a_x_s[:, 2]\n",
    "x_ps = 1 - x_ss  # pulse selectivity\n",
    "\n",
    "n = len(tau_rs)\n",
    "r_cols = [f'R_{cr}' for cr in range(n)]"
   ]
  },
  {
   "cell_type": "markdown",
   "id": "a33aa4ce",
   "metadata": {},
   "source": [
    "## Plot variance explained vs # neurons for each target"
   ]
  },
  {
   "cell_type": "code",
   "execution_count": 6,
   "id": "c0483285",
   "metadata": {},
   "outputs": [
    {
     "data": {
      "image/png": "[encoded data removed]",
      "text/plain": [
       "<Figure size 1080x288 with 3 Axes>"
      ]
     },
     "metadata": {
      "needs_background": "light"
     },
     "output_type": "display_data"
    }
   ],
   "source": [
    "load_data = np.load('data/simple/mlv/ma_red_greedy/ma_red_greedy_max_50.npy', allow_pickle=True)[0]\n",
    "\n",
    "r2_train_greedy = load_data['r2_train_greedy']\n",
    "r2_test_greedy = load_data['r2_test_greedy']\n",
    "\n",
    "fig, axs = plt.subplots(1, 3, figsize=(15, 4), tight_layout=True)\n",
    "for ax, targ in zip(axs, TARGS):\n",
    "    ax.plot(np.arange(len(r2_train_greedy[targ]) + 1), cc([[0], r2_train_greedy[targ]]), lw=2)\n",
    "    ax.plot(np.arange(len(r2_test_greedy[targ]) + 1), cc([[0], r2_test_greedy[targ]]), lw=2)\n",
    "    if ax is axs[0]:\n",
    "        ax.legend(['Train', 'Test'])\n",
    "    set_plot(ax, x_label='# neurons', y_label='R2', title=targ, font_size=14)\n",
    "    \n",
    "    ax.grid()"
   ]
  },
  {
   "cell_type": "code",
   "execution_count": 7,
   "id": "3e94ed45",
   "metadata": {},
   "outputs": [
    {
     "name": "stdout",
     "output_type": "stream",
     "text": [
      "\n",
      "MTN_MN_0.03\n",
      "Neuron 1 (R2 = 0.03101): 236: TAU_R = 120.0, TAU_A = 30.0, X_S = 1.00, X_P = 0.00\n",
      "Neuron 2 (R2 = 0.06866): 135: TAU_R = 10.0, TAU_A = 0.1, X_S = 0.00, X_P = 1.00\n",
      "Neuron 3 (R2 = 0.07404): 242: TAU_R = 120.0, TAU_A = inf, X_S = 1.00, X_P = 0.00\n",
      "Neuron 4 (R2 = 0.07533): 16: TAU_R = 0.1, TAU_A = 10.0, X_S = 0.50, X_P = 0.50\n",
      "Neuron 5 (R2 = 0.07651): 183: TAU_R = 30.0, TAU_A = 60.0, X_S = 0.00, X_P = 1.00\n",
      "Neuron 6 (R2 = 0.08386): 165: TAU_R = 30.0, TAU_A = 0.5, X_S = 0.00, X_P = 1.00\n",
      "Neuron 7 (R2 = 0.08708): 159: TAU_R = 10.0, TAU_A = inf, X_S = 0.00, X_P = 1.00\n",
      "Neuron 8 (R2 = 0.09061): 197: TAU_R = 60.0, TAU_A = 1.0, X_S = 1.00, X_P = 0.00\n",
      "Neuron 9 (R2 = 0.09184): 162: TAU_R = 30.0, TAU_A = 0.1, X_S = 0.00, X_P = 1.00\n",
      "Neuron 10 (R2 = 0.09254): 137: TAU_R = 10.0, TAU_A = 0.1, X_S = 1.00, X_P = 0.00\n",
      "Neuron 11 (R2 = 0.09335): 25: TAU_R = 0.1, TAU_A = inf, X_S = 0.50, X_P = 0.50\n",
      "Neuron 12 (R2 = 0.09394): 177: TAU_R = 30.0, TAU_A = 10.0, X_S = 0.00, X_P = 1.00\n",
      "Neuron 13 (R2 = 0.09442): 162: TAU_R = 30.0, TAU_A = 0.1, X_S = 0.00, X_P = 1.00\n",
      "Neuron 14 (R2 = 0.09496): 84: TAU_R = 2.0, TAU_A = 0.5, X_S = 0.00, X_P = 1.00\n",
      "Neuron 15 (R2 = 0.09531): 22: TAU_R = 0.1, TAU_A = 60.0, X_S = 0.50, X_P = 0.50\n",
      "Neuron 16 (R2 = 0.09557): 162: TAU_R = 30.0, TAU_A = 0.1, X_S = 0.00, X_P = 1.00\n",
      "Neuron 17 (R2 = 0.09572): 210: TAU_R = 60.0, TAU_A = 60.0, X_S = 0.00, X_P = 1.00\n",
      "Neuron 18 (R2 = 0.09656): 216: TAU_R = 120.0, TAU_A = 0.1, X_S = 0.00, X_P = 1.00\n",
      "Neuron 19 (R2 = 0.09696): 186: TAU_R = 30.0, TAU_A = inf, X_S = 0.00, X_P = 1.00\n",
      "Neuron 20 (R2 = 0.09729): 189: TAU_R = 60.0, TAU_A = 0.1, X_S = 0.00, X_P = 1.00\n",
      "Neuron 21 (R2 = 0.09748): 189: TAU_R = 60.0, TAU_A = 0.1, X_S = 0.00, X_P = 1.00\n",
      "Neuron 22 (R2 = 0.09765): 210: TAU_R = 60.0, TAU_A = 60.0, X_S = 0.00, X_P = 1.00\n",
      "Neuron 23 (R2 = 0.09778): 137: TAU_R = 10.0, TAU_A = 0.1, X_S = 1.00, X_P = 0.00\n",
      "Neuron 24 (R2 = 0.09792): 20: TAU_R = 0.1, TAU_A = 30.0, X_S = 1.00, X_P = 0.00\n",
      "Neuron 25 (R2 = 0.09817): 0: TAU_R = 0.1, TAU_A = 0.1, X_S = 0.00, X_P = 1.00\n",
      "Neuron 26 (R2 = 0.09830): 189: TAU_R = 60.0, TAU_A = 0.1, X_S = 0.00, X_P = 1.00\n",
      "Neuron 27 (R2 = 0.09841): 24: TAU_R = 0.1, TAU_A = inf, X_S = 0.00, X_P = 1.00\n",
      "Neuron 28 (R2 = 0.09851): 197: TAU_R = 60.0, TAU_A = 1.0, X_S = 1.00, X_P = 0.00\n",
      "Neuron 29 (R2 = 0.09859): 189: TAU_R = 60.0, TAU_A = 0.1, X_S = 0.00, X_P = 1.00\n",
      "Neuron 30 (R2 = 0.09865): 38: TAU_R = 0.5, TAU_A = 2.0, X_S = 1.00, X_P = 0.00\n",
      "Neuron 31 (R2 = 0.09872): 62: TAU_R = 1.0, TAU_A = 1.0, X_S = 1.00, X_P = 0.00\n",
      "Neuron 32 (R2 = 0.09877): 210: TAU_R = 60.0, TAU_A = 60.0, X_S = 0.00, X_P = 1.00\n",
      "Neuron 33 (R2 = 0.09883): 137: TAU_R = 10.0, TAU_A = 0.1, X_S = 1.00, X_P = 0.00\n",
      "Neuron 34 (R2 = 0.09888): 189: TAU_R = 60.0, TAU_A = 0.1, X_S = 0.00, X_P = 1.00\n",
      "Neuron 35 (R2 = 0.09893): 27: TAU_R = 0.5, TAU_A = 0.1, X_S = 0.00, X_P = 1.00\n",
      "Neuron 36 (R2 = 0.09898): 120: TAU_R = 5.0, TAU_A = 5.0, X_S = 0.00, X_P = 1.00\n",
      "Neuron 37 (R2 = 0.09902): 45: TAU_R = 0.5, TAU_A = 30.0, X_S = 0.00, X_P = 1.00\n",
      "\n",
      "MTN_MN_1\n",
      "Neuron 1 (R2 = 0.06695): 236: TAU_R = 120.0, TAU_A = 30.0, X_S = 1.00, X_P = 0.00\n",
      "Neuron 2 (R2 = 0.14845): 135: TAU_R = 10.0, TAU_A = 0.1, X_S = 0.00, X_P = 1.00\n",
      "Neuron 3 (R2 = 0.15979): 242: TAU_R = 120.0, TAU_A = inf, X_S = 1.00, X_P = 0.00\n",
      "Neuron 4 (R2 = 0.16340): 156: TAU_R = 10.0, TAU_A = 60.0, X_S = 0.00, X_P = 1.00\n",
      "Neuron 5 (R2 = 0.17011): 138: TAU_R = 10.0, TAU_A = 0.5, X_S = 0.00, X_P = 1.00\n",
      "Neuron 6 (R2 = 0.17302): 132: TAU_R = 5.0, TAU_A = inf, X_S = 0.00, X_P = 1.00\n",
      "Neuron 7 (R2 = 0.17874): 197: TAU_R = 60.0, TAU_A = 1.0, X_S = 1.00, X_P = 0.00\n",
      "Neuron 8 (R2 = 0.18295): 205: TAU_R = 60.0, TAU_A = 10.0, X_S = 0.50, X_P = 0.50\n",
      "Neuron 9 (R2 = 0.19061): 189: TAU_R = 60.0, TAU_A = 0.1, X_S = 0.00, X_P = 1.00\n",
      "Neuron 10 (R2 = 0.19507): 210: TAU_R = 60.0, TAU_A = 60.0, X_S = 0.00, X_P = 1.00\n",
      "Neuron 11 (R2 = 0.20011): 192: TAU_R = 60.0, TAU_A = 0.5, X_S = 0.00, X_P = 1.00\n",
      "Neuron 12 (R2 = 0.20264): 126: TAU_R = 5.0, TAU_A = 30.0, X_S = 0.00, X_P = 1.00\n",
      "Neuron 13 (R2 = 0.20527): 137: TAU_R = 10.0, TAU_A = 0.1, X_S = 1.00, X_P = 0.00\n",
      "Neuron 14 (R2 = 0.20674): 189: TAU_R = 60.0, TAU_A = 0.1, X_S = 0.00, X_P = 1.00\n",
      "Neuron 15 (R2 = 0.20749): 210: TAU_R = 60.0, TAU_A = 60.0, X_S = 0.00, X_P = 1.00\n",
      "Neuron 16 (R2 = 0.20812): 189: TAU_R = 60.0, TAU_A = 0.1, X_S = 0.00, X_P = 1.00\n",
      "Neuron 17 (R2 = 0.20863): 186: TAU_R = 30.0, TAU_A = inf, X_S = 0.00, X_P = 1.00\n",
      "Neuron 18 (R2 = 0.20903): 216: TAU_R = 120.0, TAU_A = 0.1, X_S = 0.00, X_P = 1.00\n",
      "Neuron 19 (R2 = 0.20936): 210: TAU_R = 60.0, TAU_A = 60.0, X_S = 0.00, X_P = 1.00\n",
      "Neuron 20 (R2 = 0.20970): 111: TAU_R = 5.0, TAU_A = 0.5, X_S = 0.00, X_P = 1.00\n",
      "Neuron 21 (R2 = 0.21012): 10: TAU_R = 0.1, TAU_A = 2.0, X_S = 0.50, X_P = 0.50\n",
      "Neuron 22 (R2 = 0.21041): 137: TAU_R = 10.0, TAU_A = 0.1, X_S = 1.00, X_P = 0.00\n",
      "Neuron 23 (R2 = 0.21070): 189: TAU_R = 60.0, TAU_A = 0.1, X_S = 0.00, X_P = 1.00\n",
      "Neuron 24 (R2 = 0.21093): 58: TAU_R = 1.0, TAU_A = 0.5, X_S = 0.50, X_P = 0.50\n",
      "Neuron 25 (R2 = 0.21110): 189: TAU_R = 60.0, TAU_A = 0.1, X_S = 0.00, X_P = 1.00\n",
      "Neuron 26 (R2 = 0.21126): 210: TAU_R = 60.0, TAU_A = 60.0, X_S = 0.00, X_P = 1.00\n",
      "Neuron 27 (R2 = 0.21138): 129: TAU_R = 5.0, TAU_A = 60.0, X_S = 0.00, X_P = 1.00\n",
      "Neuron 28 (R2 = 0.21150): 197: TAU_R = 60.0, TAU_A = 1.0, X_S = 1.00, X_P = 0.00\n",
      "Neuron 29 (R2 = 0.21163): 137: TAU_R = 10.0, TAU_A = 0.1, X_S = 1.00, X_P = 0.00\n",
      "Neuron 30 (R2 = 0.21174): 25: TAU_R = 0.1, TAU_A = inf, X_S = 0.50, X_P = 0.50\n",
      "Neuron 31 (R2 = 0.21269): 22: TAU_R = 0.1, TAU_A = 60.0, X_S = 0.50, X_P = 0.50\n",
      "Neuron 32 (R2 = 0.21280): 189: TAU_R = 60.0, TAU_A = 0.1, X_S = 0.00, X_P = 1.00\n",
      "Neuron 33 (R2 = 0.21290): 0: TAU_R = 0.1, TAU_A = 0.1, X_S = 0.00, X_P = 1.00\n",
      "Neuron 34 (R2 = 0.21298): 210: TAU_R = 60.0, TAU_A = 60.0, X_S = 0.00, X_P = 1.00\n",
      "Neuron 35 (R2 = 0.21306): 216: TAU_R = 120.0, TAU_A = 0.1, X_S = 0.00, X_P = 1.00\n",
      "Neuron 36 (R2 = 0.21312): 137: TAU_R = 10.0, TAU_A = 0.1, X_S = 1.00, X_P = 0.00\n",
      "Neuron 37 (R2 = 0.21318): 210: TAU_R = 60.0, TAU_A = 60.0, X_S = 0.00, X_P = 1.00\n",
      "\n",
      "MTN_MN_60\n",
      "Neuron 1 (R2 = 0.11090): 236: TAU_R = 120.0, TAU_A = 30.0, X_S = 1.00, X_P = 0.00\n",
      "Neuron 2 (R2 = 0.19032): 162: TAU_R = 30.0, TAU_A = 0.1, X_S = 0.00, X_P = 1.00\n",
      "Neuron 3 (R2 = 0.22785): 183: TAU_R = 30.0, TAU_A = 60.0, X_S = 0.00, X_P = 1.00\n",
      "Neuron 4 (R2 = 0.25942): 165: TAU_R = 30.0, TAU_A = 0.5, X_S = 0.00, X_P = 1.00\n",
      "Neuron 5 (R2 = 0.27516): 215: TAU_R = 60.0, TAU_A = inf, X_S = 1.00, X_P = 0.00\n",
      "Neuron 6 (R2 = 0.27895): 159: TAU_R = 10.0, TAU_A = inf, X_S = 0.00, X_P = 1.00\n",
      "Neuron 7 (R2 = 0.28269): 189: TAU_R = 60.0, TAU_A = 0.1, X_S = 0.00, X_P = 1.00\n",
      "Neuron 8 (R2 = 0.28475): 93: TAU_R = 2.0, TAU_A = 5.0, X_S = 0.00, X_P = 1.00\n",
      "Neuron 9 (R2 = 0.28582): 197: TAU_R = 60.0, TAU_A = 1.0, X_S = 1.00, X_P = 0.00\n",
      "Neuron 10 (R2 = 0.28840): 110: TAU_R = 5.0, TAU_A = 0.1, X_S = 1.00, X_P = 0.00\n",
      "Neuron 11 (R2 = 0.28960): 177: TAU_R = 30.0, TAU_A = 10.0, X_S = 0.00, X_P = 1.00\n",
      "Neuron 12 (R2 = 0.29097): 189: TAU_R = 60.0, TAU_A = 0.1, X_S = 0.00, X_P = 1.00\n",
      "Neuron 13 (R2 = 0.29155): 82: TAU_R = 2.0, TAU_A = 0.1, X_S = 0.50, X_P = 0.50\n",
      "Neuron 14 (R2 = 0.29212): 189: TAU_R = 60.0, TAU_A = 0.1, X_S = 0.00, X_P = 1.00\n",
      "Neuron 15 (R2 = 0.29266): 21: TAU_R = 0.1, TAU_A = 60.0, X_S = 0.00, X_P = 1.00\n",
      "Neuron 16 (R2 = 0.29327): 210: TAU_R = 60.0, TAU_A = 60.0, X_S = 0.00, X_P = 1.00\n",
      "Neuron 17 (R2 = 0.29665): 219: TAU_R = 120.0, TAU_A = 0.5, X_S = 0.00, X_P = 1.00\n",
      "Neuron 18 (R2 = 0.29859): 238: TAU_R = 120.0, TAU_A = 60.0, X_S = 0.50, X_P = 0.50\n",
      "Neuron 19 (R2 = 0.29917): 137: TAU_R = 10.0, TAU_A = 0.1, X_S = 1.00, X_P = 0.00\n",
      "Neuron 20 (R2 = 0.29963): 219: TAU_R = 120.0, TAU_A = 0.5, X_S = 0.00, X_P = 1.00\n",
      "Neuron 21 (R2 = 0.30074): 232: TAU_R = 120.0, TAU_A = 10.0, X_S = 0.50, X_P = 0.50\n",
      "Neuron 22 (R2 = 0.30121): 219: TAU_R = 120.0, TAU_A = 0.5, X_S = 0.00, X_P = 1.00\n",
      "Neuron 23 (R2 = 0.30154): 206: TAU_R = 60.0, TAU_A = 10.0, X_S = 1.00, X_P = 0.00\n",
      "Neuron 24 (R2 = 0.30223): 175: TAU_R = 30.0, TAU_A = 5.0, X_S = 0.50, X_P = 0.50\n",
      "Neuron 25 (R2 = 0.30261): 219: TAU_R = 120.0, TAU_A = 0.5, X_S = 0.00, X_P = 1.00\n",
      "Neuron 26 (R2 = 0.30297): 238: TAU_R = 120.0, TAU_A = 60.0, X_S = 0.50, X_P = 0.50\n",
      "Neuron 27 (R2 = 0.30327): 209: TAU_R = 60.0, TAU_A = 30.0, X_S = 1.00, X_P = 0.00\n",
      "Neuron 28 (R2 = 0.30357): 238: TAU_R = 120.0, TAU_A = 60.0, X_S = 0.50, X_P = 0.50\n",
      "Neuron 29 (R2 = 0.30383): 175: TAU_R = 30.0, TAU_A = 5.0, X_S = 0.50, X_P = 0.50\n",
      "Neuron 30 (R2 = 0.30408): 219: TAU_R = 120.0, TAU_A = 0.5, X_S = 0.00, X_P = 1.00\n",
      "Neuron 31 (R2 = 0.30425): 219: TAU_R = 120.0, TAU_A = 0.5, X_S = 0.00, X_P = 1.00\n",
      "Neuron 32 (R2 = 0.30441): 162: TAU_R = 30.0, TAU_A = 0.1, X_S = 0.00, X_P = 1.00\n",
      "Neuron 33 (R2 = 0.30457): 238: TAU_R = 120.0, TAU_A = 60.0, X_S = 0.50, X_P = 0.50\n",
      "Neuron 34 (R2 = 0.30470): 219: TAU_R = 120.0, TAU_A = 0.5, X_S = 0.00, X_P = 1.00\n",
      "Neuron 35 (R2 = 0.30482): 175: TAU_R = 30.0, TAU_A = 5.0, X_S = 0.50, X_P = 0.50\n",
      "Neuron 36 (R2 = 0.30491): 219: TAU_R = 120.0, TAU_A = 0.5, X_S = 0.00, X_P = 1.00\n",
      "Neuron 37 (R2 = 0.30501): 81: TAU_R = 2.0, TAU_A = 0.1, X_S = 0.00, X_P = 1.00\n"
     ]
    }
   ],
   "source": [
    "# print out neural params\n",
    "nrns_greedy = load_data['nrns_greedy']\n",
    "for targ in TARGS:\n",
    "    print('')\n",
    "    print(targ)\n",
    "    for cnrn, nrn in enumerate(nrns_greedy[targ]):\n",
    "        r2 = r2_test_greedy[targ][cnrn]\n",
    "        print(f'Neuron {cnrn+1} (R2 = {r2:.5f}): {nrn}: TAU_R = {tau_rs[nrn]:.1f}, TAU_A = {tau_as[nrn]:.1f}, X_S = {x_ss[nrn]:.2f}, X_P = {x_ps[nrn]:.2f}')"
   ]
  },
  {
   "cell_type": "code",
   "execution_count": 8,
   "id": "1c7a9a39",
   "metadata": {},
   "outputs": [
    {
     "name": "stdout",
     "output_type": "stream",
     "text": [
      "\n",
      "MTN_MN_0.03\n",
      "Loading...\n",
      "\n",
      "Split 0\n",
      "Split 1\n",
      "Split 2\n",
      "Split 3\n",
      "Split 4\n",
      "Split 5\n",
      "Split 6\n",
      "Split 7\n",
      "Split 8\n",
      "Split 9\n",
      "Split 10\n",
      "Split 11\n",
      "Split 12\n",
      "Split 13\n",
      "Split 14\n",
      "Split 15\n",
      "Split 16\n",
      "Split 17\n",
      "Split 18\n",
      "Split 19\n",
      "Split 20\n",
      "Split 21\n",
      "Split 22\n",
      "Split 23\n",
      "Split 24\n",
      "Split 25\n",
      "Split 26\n",
      "Split 27\n",
      "Split 28\n",
      "Split 29\n",
      "MTN_MN_1\n",
      "Loading...\n",
      "\n",
      "Split 0\n",
      "Split 1\n",
      "Split 2\n",
      "Split 3\n",
      "Split 4\n",
      "Split 5\n",
      "Split 6\n",
      "Split 7\n",
      "Split 8\n",
      "Split 9\n",
      "Split 10\n",
      "Split 11\n",
      "Split 12\n",
      "Split 13\n",
      "Split 14\n",
      "Split 15\n",
      "Split 16\n",
      "Split 17\n",
      "Split 18\n",
      "Split 19\n",
      "Split 20\n",
      "Split 21\n",
      "Split 22\n",
      "Split 23\n",
      "Split 24\n",
      "Split 25\n",
      "Split 26\n",
      "Split 27\n",
      "Split 28\n",
      "Split 29\n",
      "MTN_MN_60\n",
      "Loading...\n",
      "\n",
      "Split 0\n",
      "Split 1\n",
      "Split 2\n",
      "Split 3\n",
      "Split 4\n",
      "Split 5\n",
      "Split 6\n",
      "Split 7\n",
      "Split 8\n",
      "Split 9\n",
      "Split 10\n",
      "Split 11\n",
      "Split 12\n",
      "Split 13\n",
      "Split 14\n",
      "Split 15\n",
      "Split 16\n",
      "Split 17\n",
      "Split 18\n",
      "Split 19\n",
      "Split 20\n",
      "Split 21\n",
      "Split 22\n",
      "Split 23\n",
      "Split 24\n",
      "Split 25\n",
      "Split 26\n",
      "Split 27\n",
      "Split 28\n",
      "Split 29"
     ]
    }
   ],
   "source": [
    "# rerun fits using best neurons\n",
    "nrns_greedy = load_data['nrns_greedy']\n",
    "r2_trains = {}\n",
    "r2_tests = {}\n",
    "ws = {}\n",
    "\n",
    "for targ in TARGS:\n",
    "    print('')\n",
    "    print(targ)\n",
    "    r_cols_use = [f'R_{ir}' for ir in nrns_greedy[targ]]\n",
    "    \n",
    "    rslts = skl_fit_ridge(\n",
    "        pfxs=[PFX_NRL, PFX_BHV],\n",
    "        cols_x=r_cols_use,\n",
    "        targs=[targ],\n",
    "        itr_all=ISTRAIN,\n",
    "        ntrain=NTRAIN,\n",
    "        nsplit=NSPLIT,\n",
    "        return_y=None,\n",
    "        alpha=ALPHA)\n",
    "    \n",
    "    r2_trains[targ] = np.array([rslt.r2_train[targ] for rslt in rslts])\n",
    "    r2_tests[targ] = np.array([rslt.r2_test[targ] for rslt in rslts])\n",
    "    ws[targ] = np.array([rslt.w[targ] for rslt in rslts])"
   ]
  },
  {
   "cell_type": "markdown",
   "id": "72c3483d",
   "metadata": {},
   "source": [
    "Arrange weights into a full array where NaNs mark unused weights"
   ]
  },
  {
   "cell_type": "code",
   "execution_count": 19,
   "id": "27bfef41",
   "metadata": {},
   "outputs": [
    {
     "data": {
      "image/png": "[encoded data removed]",
      "text/plain": [
       "<Figure size 864x432 with 3 Axes>"
      ]
     },
     "metadata": {
      "needs_background": "light"
     },
     "output_type": "display_data"
    }
   ],
   "source": [
    "w_mns_full = {targ: np.zeros(len(tau_rs)) for targ in TARGS}\n",
    "for ctarg, targ in enumerate(TARGS):\n",
    "    w_mns_full[targ][nrns_greedy[targ]] = ws[targ].mean(axis=0)\n",
    "    \n",
    "fig, axs = plt.subplots(3, 1, figsize=(12, 6), tight_layout=True, sharex=True, sharey=True)\n",
    "for ax, targ in zip(axs, TARGS):\n",
    "    ax.bar(np.arange(len(tau_rs)), w_mns_full[targ])\n",
    "    ax.grid()\n",
    "    set_plot(ax, x_label='Neuron', y_label='Weight', title=targ, font_size=12)"
   ]
  },
  {
   "cell_type": "code",
   "execution_count": 57,
   "id": "5a7cf73b",
   "metadata": {},
   "outputs": [
    {
     "data": {
      "image/png": "[encoded data removed]",
      "text/plain": [
       "<Figure size 864x432 with 3 Axes>"
      ]
     },
     "metadata": {
      "needs_background": "light"
     },
     "output_type": "display_data"
    }
   ],
   "source": [
    "idxs_tau_r = np.argsort(tau_rs)\n",
    "\n",
    "w_mns_full = {targ: np.zeros(len(tau_rs)) for targ in TARGS}\n",
    "for ctarg, targ in enumerate(TARGS):\n",
    "    w_mns_full[targ][nrns_greedy[targ]] = ws[targ].mean(axis=0)\n",
    "    \n",
    "fig, axs = plt.subplots(3, 1, figsize=(12, 6), tight_layout=True, sharex=True, sharey=True)\n",
    "for ax, targ in zip(axs, TARGS):\n",
    "    ax.bar(np.arange(len(tau_rs)), w_mns_full[targ][idxs_tau_r])\n",
    "    ax.grid()\n",
    "    set_plot(ax, x_label=r'Ranked $\\tau_r$', y_label='Weight', title=targ, font_size=12)"
   ]
  },
  {
   "cell_type": "code",
   "execution_count": 50,
   "id": "eb15d737",
   "metadata": {},
   "outputs": [
    {
     "data": {
      "image/png": "[encoded data removed]",
      "text/plain": [
       "<Figure size 864x432 with 3 Axes>"
      ]
     },
     "metadata": {
      "needs_background": "light"
     },
     "output_type": "display_data"
    }
   ],
   "source": [
    "idxs_tau_a = np.argsort(tau_as)\n",
    "\n",
    "w_mns_full = {targ: np.zeros(len(tau_rs)) for targ in TARGS}\n",
    "for ctarg, targ in enumerate(TARGS):\n",
    "    w_mns_full[targ][nrns_greedy[targ]] = ws[targ].mean(axis=0)\n",
    "    \n",
    "fig, axs = plt.subplots(3, 1, figsize=(12, 6), tight_layout=True, sharex=True, sharey=True)\n",
    "for ax, targ in zip(axs, TARGS):\n",
    "    ax.bar(np.arange(len(tau_rs)), w_mns_full[targ][idxs_tau_a])\n",
    "    ax.grid()\n",
    "    set_plot(ax, x_label=r'Ranked $\\tau_a$', y_label='Weight', title=targ, font_size=12)"
   ]
  },
  {
   "cell_type": "code",
   "execution_count": 52,
   "id": "e17393a4",
   "metadata": {},
   "outputs": [
    {
     "data": {
      "image/png": "[encoded data removed]",
      "text/plain": [
       "<Figure size 864x432 with 3 Axes>"
      ]
     },
     "metadata": {
      "needs_background": "light"
     },
     "output_type": "display_data"
    }
   ],
   "source": [
    "idxs_x_s = np.argsort(x_ss)\n",
    "\n",
    "w_mns_full = {targ: np.zeros(len(tau_rs)) for targ in TARGS}\n",
    "for ctarg, targ in enumerate(TARGS):\n",
    "    w_mns_full[targ][nrns_greedy[targ]] = ws[targ].mean(axis=0)\n",
    "    \n",
    "fig, axs = plt.subplots(3, 1, figsize=(12, 6), tight_layout=True, sharex=True, sharey=True)\n",
    "for ax, targ in zip(axs, TARGS):\n",
    "    ax.bar(np.arange(len(tau_rs)), w_mns_full[targ][idxs_x_s])\n",
    "    ax.grid()\n",
    "    set_plot(ax, x_label=r'Ranked $x_s$', y_label='Weight', title=targ, font_size=12)"
   ]
  },
  {
   "cell_type": "code",
   "execution_count": 21,
   "id": "3bd34146",
   "metadata": {},
   "outputs": [],
   "source": [
    "w_mns_normed = {targ: w_mns_full[targ]/np.linalg.norm(w_mns_full[targ]) for targ in TARGS}\n",
    "w_0 = w_mns_normed[TARGS[0]]\n",
    "w_fast = w_mns_normed[TARGS[1]]\n",
    "w_slow = w_mns_normed[TARGS[2]]"
   ]
  },
  {
   "cell_type": "code",
   "execution_count": 33,
   "id": "c26f460c",
   "metadata": {},
   "outputs": [
    {
     "name": "stdout",
     "output_type": "stream",
     "text": [
      "0.7475060495684027\n",
      "0.5547716101302851\n",
      "0.3315080007625061\n"
     ]
    }
   ],
   "source": [
    "print(w_0 @ w_fast)\n",
    "print(w_0 @ w_slow)\n",
    "print(w_fast @ w_slow)"
   ]
  },
  {
   "cell_type": "markdown",
   "id": "ce377d3c",
   "metadata": {},
   "source": [
    "## Plot weights via heatmaps"
   ]
  },
  {
   "cell_type": "code",
   "execution_count": 40,
   "id": "3965fa3c",
   "metadata": {},
   "outputs": [],
   "source": [
    "# map neuron ID onto row, col, and selectivity index\n",
    "row_col_sel_idxs = list(cproduct(range(len(TAU_R)), range(len(TAU_A)), range(len(X_S))))"
   ]
  },
  {
   "cell_type": "code",
   "execution_count": 56,
   "id": "1e635a2f",
   "metadata": {},
   "outputs": [
    {
     "data": {
      "image/png": "[encoded data removed]",
      "text/plain": [
       "<Figure size 864x288 with 3 Axes>"
      ]
     },
     "metadata": {
      "needs_background": "light"
     },
     "output_type": "display_data"
    },
    {
     "data": {
      "image/png": "[encoded data removed]",
      "text/plain": [
       "<Figure size 864x288 with 3 Axes>"
      ]
     },
     "metadata": {
      "needs_background": "light"
     },
     "output_type": "display_data"
    },
    {
     "data": {
      "image/png": "[encoded data removed]",
      "text/plain": [
       "<Figure size 864x288 with 3 Axes>"
      ]
     },
     "metadata": {
      "needs_background": "light"
     },
     "output_type": "display_data"
    }
   ],
   "source": [
    "for targ in TARGS:\n",
    "    # create pulse, mixed, and sine-selective matrices\n",
    "    w_mats = [\n",
    "        np.nan*np.zeros((len(TAU_R), len(TAU_A))),  # pulse-selective (x_s = 0)\n",
    "        np.nan*np.zeros((len(TAU_R), len(TAU_A))),  # mixed-selective (x_s = .5)\n",
    "        np.nan*np.zeros((len(TAU_R), len(TAU_A))),  # sine-selective (x_s = 1)\n",
    "    ]\n",
    "    \n",
    "    for cnrn in nrns_greedy[targ]:\n",
    "        row_idx, col_idx, sel_idx = row_col_sel_idxs[cnrn]\n",
    "        w_mats[sel_idx][row_idx, col_idx] = w_mns_full[targ][cnrn]\n",
    "    \n",
    "    fig, axs = plt.subplots(1, 3, figsize=(12, 4), tight_layout=True)\n",
    "    titles = [f'{targ}, pulse', f'{targ}, mixed', f'{targ}, sine']\n",
    "    \n",
    "    for ax, title, w_mat in zip(axs, titles, w_mats):\n",
    "        ax.matshow(w_mat, vmin=-1, vmax=1, cmap='PiYG')\n",
    "        set_plot(\n",
    "            ax,\n",
    "            x_ticks=np.arange(len(TAU_A)),\n",
    "            y_ticks=np.arange(len(TAU_R)),\n",
    "            y_tick_labels=TAU_R,\n",
    "            x_label=r'$\\tau_a$',\n",
    "            y_label=r'$\\tau_r$',\n",
    "            title=title)\n",
    "        ax.set_xticklabels(TAU_A, rotation=90)\n",
    "        ax.xaxis.tick_bottom()\n",
    "        ax.set_facecolor((.9, .9, .9))"
   ]
  }
 ],
 "metadata": {
  "kernelspec": {
   "display_name": "Python 3",
   "language": "python",
   "name": "python3"
  },
  "language_info": {
   "codemirror_mode": {
    "name": "ipython",
    "version": 3
   },
   "file_extension": ".py",
   "mimetype": "text/x-python",
   "name": "python",
   "nbconvert_exporter": "python",
   "pygments_lexer": "ipython3",
   "version": "3.7.10"
  }
 },
 "nbformat": 4,
 "nbformat_minor": 5
}

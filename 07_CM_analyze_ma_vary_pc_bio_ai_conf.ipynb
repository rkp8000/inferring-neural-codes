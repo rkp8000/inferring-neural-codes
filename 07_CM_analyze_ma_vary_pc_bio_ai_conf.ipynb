{
 "cells": [
  {
   "cell_type": "markdown",
   "id": "ae958c4e",
   "metadata": {},
   "source": [
    "# Show fmtn var explained vs num PCs kept, vs PCA explained variance ratios\n",
    "\n",
    "Result is model neural dynamics are nearly 1-dim, but need to keep several more to explain behav variance.\n",
    "\n",
    "Suggests that have much additional behav info in small variations around low-dim neural signal."
   ]
  },
  {
   "cell_type": "code",
   "execution_count": 1,
   "id": "bd46f095",
   "metadata": {},
   "outputs": [],
   "source": [
    "%matplotlib inline\n",
    "import matplotlib.gridspec as gridspec\n",
    "import matplotlib.pyplot as plt\n",
    "import numpy as np\n",
    "import os\n",
    "import pandas as pd\n",
    "from scipy import signal, stats\n",
    "from sklearn import decomposition\n",
    "import sys\n",
    "import warnings; warnings.filterwarnings(\"ignore\")\n",
    "\n",
    "from aux import get_seg\n",
    "from disp import set_plot, set_color\n",
    "from my_torch import skl_fit_ridge\n",
    "from my_stats import nanpearsonr\n",
    "\n",
    "from record_0_main import smlt_ma\n",
    "\n",
    "cc = np.concatenate\n",
    "\n",
    "FPS = 30.03  # sampling rate of behavioral data\n",
    "DT = 1/FPS\n",
    "\n",
    "STRAINS = ['NM91', 'ZH23']\n",
    "STRAIN_KEY = '_'.join(STRAINS).lower()\n",
    "\n",
    "PTRAIN = .8\n",
    "NSPLIT = 30\n",
    "\n",
    "TARG_BHV = 'MTN'\n",
    "TWDWS = [.03, 1, 60]\n",
    "TARGS = [f'{TARG_BHV}_MN_{twdw}' for twdw in TWDWS]\n",
    "\n",
    "ALPHA = 10"
   ]
  },
  {
   "cell_type": "code",
   "execution_count": 2,
   "id": "b044da2a",
   "metadata": {},
   "outputs": [],
   "source": [
    "LOAD_DIR = f'data/simple/mlv/ma_vary_pc'\n",
    "FPFX = 'ma_slow_int_fast_adapt_npc'"
   ]
  },
  {
   "cell_type": "code",
   "execution_count": 3,
   "id": "003a18ef",
   "metadata": {},
   "outputs": [],
   "source": [
    "fnames = [fname for fname in os.listdir(LOAD_DIR) if fname.startswith(FPFX)]"
   ]
  },
  {
   "cell_type": "code",
   "execution_count": 4,
   "id": "203e4601",
   "metadata": {},
   "outputs": [],
   "source": [
    "npcs = [int(fname[len(FPFX)+1:-4]) for fname in fnames]\n",
    "\n",
    "fnames = np.array(fnames)[np.argsort(npcs)]\n",
    "npcs = np.sort(npcs)\n",
    "\n",
    "r2_test_mns = {targ: [] for targ in TARGS}\n",
    "r2_test_sds = {targ: [] for targ in TARGS}\n",
    "r2_test_maxs = {targ: [] for targ in TARGS}\n",
    "\n",
    "ws = {targ: [] for targ in TARGS}\n",
    "pcs = []\n",
    "\n",
    "for fname in fnames:\n",
    "    \n",
    "    data = np.load(os.path.join(LOAD_DIR, fname), allow_pickle=True)[0]\n",
    "    r2_trains = data['R2_TRAINS']\n",
    "    r2_tests = data['R2_TESTS']\n",
    "    \n",
    "    for targ in TARGS:\n",
    "        r2_test_mns[targ].append(np.mean(r2_tests[targ]))\n",
    "        r2_test_sds[targ].append(np.std(r2_tests[targ]))\n",
    "        r2_test_maxs[targ].append(np.max(r2_tests[targ]))\n",
    "        \n",
    "        try:\n",
    "            ws[targ].append(data['WS'][targ])\n",
    "        except:\n",
    "            pass\n",
    "        \n",
    "    try:\n",
    "        pcs.append(data['PCS'])\n",
    "    except:\n",
    "        pass"
   ]
  },
  {
   "cell_type": "markdown",
   "id": "107c48a0",
   "metadata": {},
   "source": [
    "# Compute PCs of fast-adapt, slow-integrate ppln"
   ]
  },
  {
   "cell_type": "code",
   "execution_count": 5,
   "id": "e8ad4267",
   "metadata": {},
   "outputs": [],
   "source": [
    "# SPECIFY STRAINS USED\n",
    "STRAINS = ['NM91', 'ZH23']\n",
    "STRAIN_KEY = '_'.join(STRAINS).lower()\n",
    "\n",
    "FSTRAIN = 'data/simple/strains.csv'\n",
    "MSTRAINS = [(pd.read_csv(FSTRAIN)['STRAIN'] == strain) for strain in STRAINS]\n",
    "MSTRAIN = np.any(MSTRAINS, axis=0)\n",
    "ISTRAIN = MSTRAIN.nonzero()[0]"
   ]
  },
  {
   "cell_type": "code",
   "execution_count": 6,
   "id": "e4c29d0a",
   "metadata": {},
   "outputs": [],
   "source": [
    "# record activity on the fly\n",
    "df_behav = pd.read_csv('data/simple/c_song_f_behav.csv')\n",
    "df_trs = [df_behav[df_behav.ID == i] for i in ISTRAIN]\n",
    "df_behav = None"
   ]
  },
  {
   "cell_type": "code",
   "execution_count": 7,
   "id": "d0f02d21",
   "metadata": {},
   "outputs": [],
   "source": [
    "N = 20\n",
    "\n",
    "rtau_r = [20, 60]\n",
    "rtau_a = [.1, 2]\n",
    "\n",
    "tau_rs = np.random.uniform(*rtau_r, N)\n",
    "tau_as = np.random.uniform(*rtau_a, N)\n",
    "x_ss = np.random.uniform(0, 1, N)\n",
    "x_ps = 1 - x_ss\n",
    "\n",
    "params = {'TAU_R': tau_rs, 'TAU_A': tau_as, 'X_S': x_ss, 'X_P': x_ps}"
   ]
  },
  {
   "cell_type": "code",
   "execution_count": 8,
   "id": "df8d1d83",
   "metadata": {},
   "outputs": [
    {
     "name": "stdout",
     "output_type": "stream",
     "text": [
      "......................................................................................."
     ]
    }
   ],
   "source": [
    "rs_20_mas = []\n",
    "\n",
    "for df_tr in df_trs:\n",
    "    t = np.array(df_tr['T'])\n",
    "    \n",
    "    i_s = np.array(df_tr['S']).astype(float)\n",
    "    i_p = np.array(df_tr['P'] | df_tr['F']).astype(float)\n",
    "    \n",
    "    b = np.zeros(len(t), dtype=int)\n",
    "    b[i_s == 1] = 1\n",
    "    b[i_p == 1] = 2\n",
    "\n",
    "    # simulate population response\n",
    "    rs_20_ma = smlt_ma(i_s, i_p, params, DT)\n",
    "    sys.stdout.write('.')\n",
    "    \n",
    "    rs_20_mas.append(rs_20_ma)\n",
    "    \n",
    "rs_20_ma_all = cc(rs_20_mas, axis=0)"
   ]
  },
  {
   "cell_type": "code",
   "execution_count": 9,
   "id": "1e674646",
   "metadata": {},
   "outputs": [],
   "source": [
    "pca_20 = decomposition.PCA().fit(rs_20_ma_all)\n",
    "var_exp_ma_20 = pca_20.explained_variance_ratio_"
   ]
  },
  {
   "cell_type": "code",
   "execution_count": 13,
   "id": "80603b74",
   "metadata": {},
   "outputs": [
    {
     "data": {
      "image/png": "[encoded data removed]",
      "text/plain": [
       "<Figure size 468x270 with 6 Axes>"
      ]
     },
     "metadata": {
      "needs_background": "light"
     },
     "output_type": "display_data"
    }
   ],
   "source": [
    "fig, axs = plt.subplots(2, 3, figsize=(6.5, 3.75), tight_layout=True)\n",
    "for targ, ax_col in zip(TARGS, axs.T):\n",
    "    mns = 100*np.array(r2_test_mns[targ])\n",
    "    sds = 100*np.array(r2_test_sds[targ])\n",
    "    ax_col[0].scatter(cc([[0], npcs+1]), cc([[0], mns]), c='darkorange', s=10)\n",
    "    # ax_col[0].fill_between(cc([[0], npcs+1]), cc([[0], mns-sds]), cc([[0], mns+sds]), color='bisque')\n",
    "    \n",
    "    ax_col[1].scatter(cc([[0], npcs+1]), 100*cc([[0], var_exp_ma_20.cumsum()]), c='g', s=10)\n",
    "    ax_col[1].set_ylim(-3, 103)\n",
    "    set_plot(ax_col[1], y_label='% neural var. expl.')\n",
    "    \n",
    "for ax in axs[0, :]:\n",
    "    ax.set_ylim(bottom=0)\n",
    "    set_plot(ax, x_lim=(0, 20), x_label='# Neural PCs kept', y_label=r'Var. expl. (%)', font_size=10)\n",
    "    \n",
    "for ax in axs[1, :]:\n",
    "    ax.set_ylim(bottom=0)\n",
    "    set_plot(ax, x_lim=(0, 20), x_label='# Neural PCs kept', y_label=r'Var. expl. (%)', font_size=10)\n",
    "    \n",
    "fig.savefig('presen/fast_ad_slow_int_pop_var_expl.svg')"
   ]
  }
 ],
 "metadata": {
  "kernelspec": {
   "display_name": "Python 3",
   "language": "python",
   "name": "python3"
  },
  "language_info": {
   "codemirror_mode": {
    "name": "ipython",
    "version": 3
   },
   "file_extension": ".py",
   "mimetype": "text/x-python",
   "name": "python",
   "nbconvert_exporter": "python",
   "pygments_lexer": "ipython3",
   "version": "3.7.10"
  }
 },
 "nbformat": 4,
 "nbformat_minor": 5
}

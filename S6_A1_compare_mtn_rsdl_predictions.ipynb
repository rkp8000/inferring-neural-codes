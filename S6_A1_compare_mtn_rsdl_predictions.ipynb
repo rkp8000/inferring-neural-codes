{
 "cells": [
  {
   "cell_type": "markdown",
   "id": "935500cb",
   "metadata": {},
   "source": [
    "Comparisons of locomotion predictions of different mechanistic latent variable models."
   ]
  },
  {
   "cell_type": "code",
   "execution_count": 1,
   "id": "88fe885d",
   "metadata": {},
   "outputs": [],
   "source": [
    "%matplotlib inline\n",
    "import matplotlib.pyplot as plt\n",
    "import numpy as np\n",
    "\n",
    "from disp import set_plot\n",
    "\n",
    "\n",
    "STRAIN_KEY = '_'.join(['NM91', 'ZH23']).lower()\n",
    "REG_KEY = 'ridge_alpha_10'"
   ]
  },
  {
   "cell_type": "markdown",
   "id": "0f342931",
   "metadata": {},
   "source": [
    "# Basic comparison of single vs population fits using different neural models."
   ]
  },
  {
   "cell_type": "code",
   "execution_count": 2,
   "id": "b6225e27",
   "metadata": {},
   "outputs": [],
   "source": [
    "TARG_BHV = 'MTN_RSDL'\n",
    "\n",
    "NRL_MDLS = [\n",
    "    'lin',  # linear neural model\n",
    "    'lin2e',  # linear neural model (two-exp fit)\n",
    "    'linr',  # linear neural model (fit w ridge regr)\n",
    "    'ln',  # linear-nonlinear model\n",
    "    'ln2e',  # linear-nonlinear model (two-exp fit)\n",
    "    'lnr',  # linear-nonlinear model (fit w ridge regr)\n",
    "    'ma',  # mult-adapt neural model\n",
    "    'masoff',  # mult-adapt neural model with sine offset responses\n",
    "]"
   ]
  },
  {
   "cell_type": "code",
   "execution_count": 3,
   "id": "2b833e12",
   "metadata": {},
   "outputs": [],
   "source": [
    "# heuristic predictors\n",
    "# time_rslt = np.load(f'data/simple/mlv/heuristic/time_{STRAIN_KEY}_{TARG_BHV.lower()}.npy', allow_pickle=True)[0]\n",
    "\n",
    "# linear fits\n",
    "# lin_rslt = np.load(f'data/simple/mlv/lin_filter/rc_lin_{STRAIN_KEY}_{TARG_BHV.lower()}_{REG_KEY}.npy', allow_pickle=True)[0]\n",
    "\n",
    "# single-neuorn fits\n",
    "# single_rslts = [\n",
    "#     np.load(f'data/simple/mlv/neur_basic/baker_{nrl_mdl}_single_{STRAIN_KEY}_{TARG_BHV.lower()}.npy', allow_pickle=True)[0]\n",
    "#     for nrl_mdl in NRL_MDLS\n",
    "# ]\n",
    "\n",
    "# ppln fits\n",
    "ppln_rslts = [\n",
    "    np.load(f'data/simple/mlv/neur_basic/baker_{nrl_mdl}_{STRAIN_KEY}_{TARG_BHV.lower()}_{REG_KEY}.npy', allow_pickle=True)[0]\n",
    "    for nrl_mdl in NRL_MDLS\n",
    "]"
   ]
  },
  {
   "cell_type": "code",
   "execution_count": 6,
   "id": "cb8ba450",
   "metadata": {},
   "outputs": [
    {
     "data": {
      "image/png": "[encoded data removed]",
      "text/plain": [
       "<Figure size 576x360 with 1 Axes>"
      ]
     },
     "metadata": {
      "needs_background": "light"
     },
     "output_type": "display_data"
    }
   ],
   "source": [
    "fig, ax = plt.subplots(1, 1, figsize=(8, 5), tight_layout=True)\n",
    "                \n",
    "labels = []\n",
    "r2_mns = []\n",
    "r2_sems = []\n",
    "\n",
    "targ = f'{TARG_BHV}_1_60'\n",
    "\n",
    "# heuristics\n",
    "# labels.append('Elapsed Time')\n",
    "# r2_mns.append(time_rslt['r2_test'][targ].mean())\n",
    "# r2_sems.append(time_rslt['r2_test'][targ].std() / np.sqrt(time_rslt['nsplit']))\n",
    "\n",
    "# linear fits\n",
    "# labels.append('Linear Filter')\n",
    "# r2_mns.append(lin_rslt['r2_test'][targ].mean())\n",
    "# r2_sems.append(lin_rslt['r2_test'][targ].std() / np.sqrt(lin_rslt['nsplit']))\n",
    "\n",
    "# single neuron results\n",
    "# for nrl_mdl, single_rslt in zip(NRL_MDLS, single_rslts):\n",
    "#     r2_maxs = single_rslt['r2_test'][targ].max(axis=1)\n",
    "#     labels.append(f'{nrl_mdl.upper()} (best)')\n",
    "#     r2_mns.append(r2_maxs.mean())\n",
    "#     r2_sems.append(r2_maxs.std() / np.sqrt(len(r2_maxs)))\n",
    "\n",
    "# ppln results\n",
    "for nrl_mdl, ppln_rslt in zip(NRL_MDLS, ppln_rslts):\n",
    "    labels.append(f'{nrl_mdl.upper()} (pop)')\n",
    "    r2_mns.append(ppln_rslt['r2_test'][targ].mean())\n",
    "    r2_sems.append(ppln_rslt['r2_test'][targ].std() / np.sqrt(ppln_rslt['nsplit']))\n",
    "\n",
    "ax.bar(np.arange(len(r2_mns)), r2_mns, yerr=r2_sems)\n",
    "ax.set_xticks(np.arange(len(labels)))\n",
    "ax.set_xticklabels(labels, rotation=90)\n",
    "set_plot(ax, y_label=r'Test data $R^2$', title=f'{TARG_BHV}', font_size=12)"
   ]
  }
 ],
 "metadata": {
  "kernelspec": {
   "display_name": "Python 3",
   "language": "python",
   "name": "python3"
  },
  "language_info": {
   "codemirror_mode": {
    "name": "ipython",
    "version": 3
   },
   "file_extension": ".py",
   "mimetype": "text/x-python",
   "name": "python",
   "nbconvert_exporter": "python",
   "pygments_lexer": "ipython3",
   "version": "3.7.10"
  }
 },
 "nbformat": 4,
 "nbformat_minor": 5
}

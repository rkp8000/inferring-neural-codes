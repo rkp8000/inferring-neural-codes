{
 "cells": [
  {
   "cell_type": "markdown",
   "id": "suffering-summit",
   "metadata": {},
   "source": [
    "Given a set of MA params, we derive the linear filter giving the same response to a step input:"
   ]
  },
  {
   "cell_type": "markdown",
   "id": "announced-magazine",
   "metadata": {},
   "source": [
    "$$\\tau_r \\frac{dr}{dt} = -r + x_s(1-a_s)I_s + x_p(1-a_p)I_p$$\n",
    "\n",
    "$$\\tau_a \\frac{da_s}{dt} = -a_s + I_s \\quad \\quad \\tau_a \\frac{da_p}{dt} = -a_p + I_p$$"
   ]
  },
  {
   "cell_type": "markdown",
   "id": "considerable-trauma",
   "metadata": {},
   "source": [
    "When $I_s = 1, I_p=0$:\n",
    "\n",
    "$$a_s(t) = (1 - \\exp(-t/\\tau_a))\\Theta(t) \\quad \\quad \\tau_r \\frac{dr}{dt} = -r + x_s \\exp(-t/\\tau_a) \\Theta(t)$$"
   ]
  },
  {
   "cell_type": "markdown",
   "id": "sixth-mount",
   "metadata": {},
   "source": [
    "$$r(t) = h_r \\ast x_s \\exp(-t/\\tau_a)\\Theta(t)$$\n",
    "\n",
    "where\n",
    "\n",
    "$$h_r = \\Theta(t)\\exp(-t/\\tau_r)/\\tau_r$$"
   ]
  },
  {
   "cell_type": "markdown",
   "id": "planned-exhibition",
   "metadata": {},
   "source": [
    "$$r(t) = \\int_0^\\infty u(t-t') h(t') dt' = \\frac{1}{\\tau_r}\\int_0^\\infty x_s \\Theta(t-t')\\exp(-(t-t')/\\tau_a) \\exp(-t'/\\tau_r) dt'$$\n",
    "\n",
    "$$ = \\frac{1}{\\tau_r}\\int_0^t x_s \\exp(-(t-t')/\\tau_a) \\exp(-t'/\\tau_r) dt'$$"
   ]
  },
  {
   "cell_type": "markdown",
   "id": "atmospheric-switch",
   "metadata": {},
   "source": [
    "$$=x_s \\frac{1}{\\tau_r}\\exp(-t/\\tau_a) \\int_0^t  \\exp(t'/\\tau_a) \\exp(-t'/\\tau_r)dt'$$"
   ]
  },
  {
   "cell_type": "markdown",
   "id": "finnish-collector",
   "metadata": {},
   "source": [
    "$$\\frac{t'}{\\tau_a} - \\frac{t'}{\\tau_r} = \\frac{\\tau_r - \\tau_a}{\\tau_a \\tau_r}t' = \\gamma t'$$"
   ]
  },
  {
   "cell_type": "markdown",
   "id": "impaired-bachelor",
   "metadata": {},
   "source": [
    "$$=x_s \\exp(-t/\\tau_a) \\frac{1}{\\tau_r}\\int_0^t \\exp\\left( \\gamma t'\\right) dt'$$"
   ]
  },
  {
   "cell_type": "markdown",
   "id": "unknown-playback",
   "metadata": {},
   "source": [
    "$$=x_s \\exp(-t/\\tau_a) \\frac{1}{\\tau_r}\\left[ \\frac{1}{\\gamma} \\exp\\left( \\gamma t'\\right)\\bigg |^t_{t' = 0} \\right]$$"
   ]
  },
  {
   "cell_type": "markdown",
   "id": "russian-cabin",
   "metadata": {},
   "source": [
    "$$=\\frac{x_s}{\\gamma\\tau_r}\\exp(-t/\\tau_a)  \\left[ \\exp\\left( \\gamma t\\right) - 1 \\right]$$"
   ]
  },
  {
   "cell_type": "code",
   "execution_count": 1,
   "id": "exposed-toddler",
   "metadata": {},
   "outputs": [],
   "source": [
    "%matplotlib inline\n",
    "import matplotlib.pyplot as plt\n",
    "import numpy as np\n",
    "\n",
    "from disp import set_plot\n",
    "\n",
    "DT = 0.01\n",
    "\n",
    "T = np.arange(0, 20, DT)\n",
    "\n",
    "\n",
    "def ma_to_h_ln(tau_r, tau_a, x_s, x_p, dt):\n",
    "    \"\"\"Given a set of MA params, get LN filters that match MA step response.\"\"\"\n",
    "    th = np.arange(0, np.min([5*np.max([tau_r, tau_a]), 200]), dt)  # filter time vec\n",
    "    gam = (1/tau_a) - (1/tau_r)\n",
    "    \n",
    "    if np.abs(gam) > 1e-8:\n",
    "        r_step_s = x_s/(gam*tau_r) * np.exp(-th/tau_a) * (np.exp(gam*th) - 1)\n",
    "        r_step_p = x_p/(gam*tau_r) * np.exp(-th/tau_a) * (np.exp(gam*th) - 1)\n",
    "    else:\n",
    "        r_step_s = x_s/tau_r * np.exp(-th/tau_a) * th\n",
    "        r_step_p = x_p/tau_r * np.exp(-th/tau_a) * th\n",
    "        \n",
    "    h_s = np.gradient(r_step_s, dt)\n",
    "    h_p = np.gradient(r_step_p, dt)\n",
    "    \n",
    "    return h_s, h_p, th"
   ]
  },
  {
   "cell_type": "code",
   "execution_count": 2,
   "id": "noted-pound",
   "metadata": {},
   "outputs": [],
   "source": [
    "x_s = 1\n",
    "\n",
    "tau_r = 2\n",
    "tau_a = 1.9999\n",
    "\n",
    "r_ma = np.nan*np.zeros(len(T))\n",
    "a_s = np.nan*np.zeros(len(T))\n",
    "\n",
    "r_ma[0] = 0\n",
    "a_s[0] = 0\n",
    "\n",
    "for ct, t_ in enumerate(T[1:], 1):\n",
    "    da_s = DT/tau_a*(-a_s[ct-1] + 1)\n",
    "    a_s[ct] = a_s[ct-1] + da_s\n",
    "    \n",
    "    dr_ma = DT/tau_r*(-r_ma[ct-1] + x_s*(1-a_s[ct]))\n",
    "    r_ma[ct] = r_ma[ct-1] + dr_ma"
   ]
  },
  {
   "cell_type": "code",
   "execution_count": 3,
   "id": "retired-prize",
   "metadata": {},
   "outputs": [
    {
     "data": {
      "image/png": "[encoded data removed]",
      "text/plain": [
       "<Figure size 720x216 with 2 Axes>"
      ]
     },
     "metadata": {
      "needs_background": "light"
     },
     "output_type": "display_data"
    }
   ],
   "source": [
    "h_s, h_p, th = ma_to_h_ln(tau_r, tau_a, x_s, 0, DT)\n",
    "\n",
    "fig, axs = plt.subplots(1, 2, figsize=(10, 3), tight_layout=True)\n",
    "axs[0].plot(T, r_ma, c='k', lw=1)\n",
    "axs[0].plot(th, h_s.cumsum()*DT, c='m', lw=4, ls='--')\n",
    "axs[0].grid()\n",
    "set_plot(axs[0], x_label='Time (s)', y_label='r', font_size=12)\n",
    "\n",
    "axs[1].plot(T, np.gradient(r_ma)/DT, c='k', lw=1)\n",
    "axs[1].plot(th, h_s, c='m', lw=4, ls='--')\n",
    "axs[1].grid()\n",
    "set_plot(axs[1], x_label='Time (s)', y_label='dr/dt', font_size=12)"
   ]
  }
 ],
 "metadata": {
  "kernelspec": {
   "display_name": "Python 3",
   "language": "python",
   "name": "python3"
  },
  "language_info": {
   "codemirror_mode": {
    "name": "ipython",
    "version": 3
   },
   "file_extension": ".py",
   "mimetype": "text/x-python",
   "name": "python",
   "nbconvert_exporter": "python",
   "pygments_lexer": "ipython3",
   "version": "3.6.13"
  }
 },
 "nbformat": 4,
 "nbformat_minor": 5
}

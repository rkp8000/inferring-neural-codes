{
 "cells": [
  {
   "cell_type": "markdown",
   "id": "ef89f939",
   "metadata": {},
   "source": [
    "# Fit simple models predicting smoothed female velocity from surrogate neural activity."
   ]
  },
  {
   "cell_type": "markdown",
   "id": "e9fef1bd",
   "metadata": {},
   "source": [
    "Using ridge regression"
   ]
  },
  {
   "cell_type": "code",
   "execution_count": null,
   "id": "55fbded1",
   "metadata": {},
   "outputs": [],
   "source": [
    "%matplotlib inline\n",
    "import matplotlib.gridspec as gridspec\n",
    "import matplotlib.pyplot as plt\n",
    "import numpy as np\n",
    "import pandas as pd\n",
    "from scipy import stats\n",
    "from sklearn import linear_model\n",
    "import sys\n",
    "\n",
    "from disp import set_plot\n",
    "from my_torch import skl_fit_ridge\n",
    "\n",
    "cc = np.concatenate\n",
    "\n",
    "STRAINS = ['NM91', 'ZH23']\n",
    "PTRAIN = .8\n",
    "NSPLIT = 30\n",
    "\n",
    "# NRL_MDL = 'lin'  # linear neural model\n",
    "# NRL_MDL = 'ln'  # linear-nonlinear model\n",
    "NRL_MDL = 'dyn'  # dynamical neural model\n",
    "\n",
    "TARGS = ['FFV_MN_60', 'FFV']\n",
    "\n",
    "FIT_LIN = skl_fit_ridge\n",
    "\n",
    "ALPHA = 10\n",
    "FIT_KWARGS = {'alpha': ALPHA}"
   ]
  },
  {
   "cell_type": "code",
   "execution_count": null,
   "id": "c1e9236c",
   "metadata": {},
   "outputs": [],
   "source": [
    "FSTRAIN = 'data/simple/strains.csv'\n",
    "FBAKER_FIT_PARAM = f'data/simple/neur/baker_{NRL_MDL}_fit_param.csv'\n",
    "\n",
    "FPFX_NEUR_BHV = f'data/simple/mlv/neur_basic/baker_{NRL_MDL}/mlv_baker_{NRL_MDL}'\n",
    "FPFX_BHV_XTD = f'data/simple/behav_xtd/behav_xtd'\n",
    "\n",
    "FSAVE = f'data/simple/mlv/neur_basic/baker_{NRL_MDL}_{\"_\".join(STRAINS).lower()}_{TARGS[0].lower()}_ridge_alpha_{ALPHA}.npy'\n",
    "\n",
    "DFBAKER_FIT_PARAM = pd.read_csv(FBAKER_FIT_PARAM)\n",
    "R_COLS_USE = [f'R_{ir}' for ir in DFBAKER_FIT_PARAM.EXPT_ID]\n",
    "\n",
    "MSTRAINS = [(pd.read_csv(FSTRAIN)['STRAIN'] == strain) for strain in STRAINS]\n",
    "MSTRAIN = np.any(MSTRAINS, axis=0)\n",
    "ISTRAIN = MSTRAIN.nonzero()[0]\n",
    "\n",
    "NTR = MSTRAIN.sum()\n",
    "NTRAIN = int(round(PTRAIN*NTR))"
   ]
  },
  {
   "cell_type": "code",
   "execution_count": null,
   "id": "6fa9eb8a",
   "metadata": {},
   "outputs": [],
   "source": [
    "# fit regression models\n",
    "rslts = []\n",
    "for csplit in range(NSPLIT):\n",
    "    print(f'Split {csplit}')\n",
    "    irnd = np.random.permutation(NTR)\n",
    "    idxs_train = ISTRAIN[irnd[:NTRAIN]]\n",
    "    idxs_test = ISTRAIN[irnd[NTRAIN:]]\n",
    "    if csplit < 2:\n",
    "        rslt = FIT_LIN([FPFX_NEUR_BHV, FPFX_BHV_XTD], R_COLS_USE, TARGS, idxs_train, idxs_test, return_y=True, **FIT_KWARGS)\n",
    "    else:\n",
    "        rslt = FIT_LIN([FPFX_NEUR_BHV, FPFX_BHV_XTD], R_COLS_USE, TARGS, idxs_train, idxs_test, return_y=False, **FIT_KWARGS)\n",
    "    rslts.append(rslt)\n",
    "    \n",
    "# save r2, weights, and example predictions\n",
    "save_data = {\n",
    "    'r2_train': {targ: np.array([rslt.r2_train[targ] for rslt in rslts]) for targ in TARGS},\n",
    "    'r2_test': {targ: np.array([rslt.r2_test[targ] for rslt in rslts]) for targ in TARGS},\n",
    "    'w': {targ: np.array([rslt.w[targ] for rslt in rslts]) for targ in TARGS},\n",
    "    'ys_train': {targ: [rslt.ys_train[targ] for rslt in rslts[:2]] for targ in TARGS},\n",
    "    'ys_test': {targ: [rslt.ys_test[targ] for rslt in rslts[:2]] for targ in TARGS},\n",
    "    'y_hats_train': {targ: [rslt.y_hats_train[targ] for rslt in rslts[:2]] for targ in TARGS},\n",
    "    'y_hats_test': {targ: [rslt.y_hats_test[targ] for rslt in rslts[:2]] for targ in TARGS},\n",
    "    'targs': TARGS,\n",
    "    'fit_fn': FIT_LIN.__name__,\n",
    "    'fit_kwargs': FIT_KWARGS,\n",
    "    'ntr': NTR,\n",
    "    'nsplit': NSPLIT,\n",
    "    'nr': len(R_COLS_USE)\n",
    "}\n",
    "\n",
    "np.save(FSAVE, np.array([save_data]))"
   ]
  },
  {
   "cell_type": "code",
   "execution_count": null,
   "id": "6a8ff9bb",
   "metadata": {},
   "outputs": [],
   "source": [
    "TRAIN_IDX_PLOT = 0\n",
    "TEST_IDX_PLOT = 0\n",
    "\n",
    "data = np.load(FSAVE, allow_pickle=True)[0]\n",
    "\n",
    "for targ in TARGS:\n",
    "    gs = gridspec.GridSpec(3, 3)\n",
    "\n",
    "    fig = plt.figure(figsize=(12, 10), tight_layout=True)\n",
    "    axs = [fig.add_subplot(gs[0, 0]), fig.add_subplot(gs[0, 1:]), fig.add_subplot(gs[1, :]), fig.add_subplot(gs[2, :])]\n",
    "\n",
    "    axs[0].hist(np.transpose([data['r2_train'][targ], data['r2_test'][targ]]), bins=30)\n",
    "    axs[0].legend(['Train', 'Test'])\n",
    "    set_plot(axs[0], x_label='R2', y_label='# splits', font_size=14)\n",
    "\n",
    "    axs[1].bar(np.arange(data['w'][targ].shape[1]), np.mean(data['w'][targ], axis=0))\n",
    "    set_plot(axs[1], x_label='Response ID', y_label='Weight', font_size=14)\n",
    "\n",
    "    axs[2].plot(np.arange(len(data['ys_train'][targ][0][TRAIN_IDX_PLOT])), data['ys_train'][targ][0][TRAIN_IDX_PLOT], c='k', lw=2)\n",
    "    axs[2].plot(np.arange(len(data['y_hats_train'][targ][0][TRAIN_IDX_PLOT])), data['y_hats_train'][targ][0][TRAIN_IDX_PLOT], c='r', lw=2)\n",
    "    axs[2].legend(['True', 'Predicted'])\n",
    "    set_plot(axs[2], y_lim=(-.5, 1), x_label='Timestep', y_label='FFV', title='Training data', font_size=14)\n",
    "\n",
    "    axs[3].plot(np.arange(len(data['ys_test'][targ][0][TEST_IDX_PLOT]))/30.03, data['ys_test'][targ][0][TEST_IDX_PLOT], c='orange', lw=2)\n",
    "    axs[3].plot(np.arange(len(data['y_hats_test'][targ][0][TEST_IDX_PLOT]))/30.03, data['y_hats_test'][targ][0][TEST_IDX_PLOT], c='k', lw=3)\n",
    "    axs[3].legend(['True', 'Predicted'], loc='upper left')\n",
    "    set_plot(axs[3], x_lim=(100, 230), y_lim=(-.5, 1), x_label='Time (s)', y_label='FFV', title='Held-out data', font_size=18)"
   ]
  }
 ],
 "metadata": {
  "kernelspec": {
   "display_name": "Python 3",
   "language": "python",
   "name": "python3"
  },
  "language_info": {
   "codemirror_mode": {
    "name": "ipython",
    "version": 3
   },
   "file_extension": ".py",
   "mimetype": "text/x-python",
   "name": "python",
   "nbconvert_exporter": "python",
   "pygments_lexer": "ipython3",
   "version": "3.7.10"
  }
 },
 "nbformat": 4,
 "nbformat_minor": 5
}

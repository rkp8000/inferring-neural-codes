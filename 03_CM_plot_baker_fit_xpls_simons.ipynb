{
 "cells": [
  {
   "cell_type": "markdown",
   "id": "e9f62828",
   "metadata": {},
   "source": [
    "Plot fit error distributions from different model fits to Baker et al data"
   ]
  },
  {
   "cell_type": "code",
   "execution_count": 1,
   "id": "b818af74",
   "metadata": {},
   "outputs": [],
   "source": [
    "%matplotlib inline\n",
    "import matplotlib.pyplot as plt\n",
    "import numpy as np\n",
    "import os\n",
    "import pandas as pd\n",
    "\n",
    "import record_0_main as rcd_0\n",
    "import record_1_ma_ext as rcd_1\n",
    "import record_2_lin_ln as rcd_2\n",
    "\n",
    "from disp import set_plot, plot_b\n",
    "\n",
    "FPS = 30.03\n",
    "DT = 1/FPS\n",
    "\n",
    "NNRN = 224"
   ]
  },
  {
   "cell_type": "code",
   "execution_count": 2,
   "id": "5c68dcba",
   "metadata": {},
   "outputs": [],
   "source": [
    "MDLS_META = {\n",
    "    'ma': ('k', 'baker_ma.npy', rcd_0.smlt_ma),\n",
    "    'lnma': ('m', 'baker_ma.npy', rcd_0.smlt_lnma),\n",
    "    # 'linma': ('b', 'baker_ma.npy', rcd_0.smlt_linma),\n",
    "    \n",
    "    # 'lin': ('b', 'baker_lin.npy', rcd_2.smlt_lin),\n",
    "    # 'linr': ('b', 'baker_linr.npy', rcd_2.smlt_linr),\n",
    "    \n",
    "    # 'ln': ('m', 'baker_ln.npy', rcd_2.smlt_ln),\n",
    "    'lnr': ('m', 'baker_lnr.npy', rcd_2.smlt_lnr),\n",
    "#     'lnr_relu': ('m', 'baker_lnr_relu.npy', rcd_2.smlt_lnr_relu),\n",
    "    # 'lnr_relu_flex': ('m', 'baker_lnr_relu_flex.npy', rcd_2.smlt_lnr_relu_flex),\n",
    "    \n",
    "    # 'ma_ind_ta': ('c', 'baker_ma_ind_ta.npy', rcd_1.smlt_ma_ind_ta),\n",
    "}"
   ]
  },
  {
   "cell_type": "code",
   "execution_count": 3,
   "id": "85f9f2c4",
   "metadata": {},
   "outputs": [],
   "source": [
    "df_s = pd.read_csv('data/simple/neur/baker_resampled_s.csv')\n",
    "df_p = pd.read_csv('data/simple/neur/baker_resampled_p.csv')"
   ]
  },
  {
   "cell_type": "code",
   "execution_count": 4,
   "id": "76cc2152",
   "metadata": {},
   "outputs": [],
   "source": [
    "T = np.array(df_s['T'])\n",
    "I_S = np.array(df_s['S'])\n",
    "I_P = np.array(df_p['P'])\n",
    "\n",
    "R_SS = np.array(df_s[[f'R_{cnrn}' for cnrn in range(NNRN)]])\n",
    "R_PS = np.array(df_p[[f'R_{cnrn}' for cnrn in range(NNRN)]])"
   ]
  },
  {
   "cell_type": "code",
   "execution_count": 5,
   "id": "acd42684",
   "metadata": {},
   "outputs": [],
   "source": [
    "r_mdl_ss_all = {}\n",
    "r_mdl_ps_all = {}\n",
    "\n",
    "for mdl, (color, fname, smlt) in MDLS_META.items():\n",
    "    path = os.path.join('data/simple/neur/', fname)\n",
    "    params = np.load(path, allow_pickle=True)[0]\n",
    "    \n",
    "    r_mdl_ss = smlt(I_S, 0*I_P, params, DT)\n",
    "    r_mdl_ss_all[mdl] = r_mdl_ss\n",
    "    \n",
    "    r_mdl_ps = smlt(0*I_S, I_P, params, DT)\n",
    "    r_mdl_ps_all[mdl] = r_mdl_ps"
   ]
  },
  {
   "cell_type": "code",
   "execution_count": 16,
   "id": "2fed3f9b",
   "metadata": {},
   "outputs": [
    {
     "data": {
      "image/png": "[encoded data removed]",
      "text/plain": [
       "<Figure size 360x172.8 with 4 Axes>"
      ]
     },
     "metadata": {
      "needs_background": "light"
     },
     "output_type": "display_data"
    }
   ],
   "source": [
    "nrns_plot = [11, 79, 21, 148, 5, 118]\n",
    "# nrns_plot = [79, 148, 118]\n",
    "nplot = len(nrns_plot)\n",
    "\n",
    "fig, axs = plt.subplots(1, 4, figsize=(5, nplot*.4), tight_layout=True, sharey=True)\n",
    "\n",
    "y_ticks = []\n",
    "\n",
    "for cnrn, inrn in enumerate(nrns_plot):\n",
    "    y_tick = -5*cnrn\n",
    "    \n",
    "    for ax in [axs[0], axs[2]]:\n",
    "        ax.plot(T, R_SS[:, inrn]/2+y_tick, c='limegreen', lw=4)\n",
    "    for mdl, (color, fname, smlt) in MDLS_META.items():\n",
    "        if mdl == 'lnma':\n",
    "            axs[0].plot(T, r_mdl_ss_all[mdl][:, inrn]/2 +y_tick, color=color, lw=2)\n",
    "        elif mdl == 'ma':\n",
    "            axs[2].plot(T, r_mdl_ss_all[mdl][:, inrn]/2 +y_tick, color=color, lw=2)\n",
    "\n",
    "        \n",
    "    for ax in [axs[1], axs[3]]:\n",
    "        ax.plot(T, R_PS[:, inrn]/2+y_tick, c='limegreen', lw=4)\n",
    "    for mdl, (color, fname, smlt) in MDLS_META.items():\n",
    "        if mdl == 'lnma':\n",
    "            axs[1].plot(T, r_mdl_ps_all[mdl][:, inrn]/2 +y_tick, color=color, lw=2)\n",
    "        elif mdl == 'ma':\n",
    "            axs[3].plot(T, r_mdl_ps_all[mdl][:, inrn]/2 +y_tick, color=color, lw=2)\n",
    "\n",
    "    for ax in axs:\n",
    "        ax.axhline(y_tick, c='gray', ls='--', lw=.5)\n",
    "    \n",
    "    y_ticks.append(y_tick)\n",
    "    \n",
    "b_s = np.zeros(len(T))\n",
    "b_s[I_S == 1] = 1\n",
    "\n",
    "for ax in [axs[0], axs[2]]:\n",
    "    plot_b(ax, T, b_s, extent=[T[0], T[-1]+DT, 3, 4], c=['gray', 'b', 'r'])\n",
    "\n",
    "b_p = np.zeros(len(T))\n",
    "b_p[I_P == 1] = 2\n",
    "\n",
    "for ax in [axs[1], axs[3]]:\n",
    "    plot_b(ax, T, b_p, extent=[T[0], T[-1]+DT, 3, 4], c=['gray', 'b', 'r'])\n",
    "\n",
    "axs[0].set_ylabel('Neuron')\n",
    "    \n",
    "for ax in axs:\n",
    "    ax.axvline(10, color='gray', ls='--', lw=.5)\n",
    "    set_plot(ax, x_lim=(0, 20), y_lim=(-5*nplot+2, 5), x_ticks=[0, 10, 20], y_ticks=y_ticks, y_tick_labels=np.arange(nplot)+1, x_label='Time (s)', font_size=10)\n",
    "    \n",
    "fig.savefig('simons_2023/fig_1a.svg')"
   ]
  }
 ],
 "metadata": {
  "kernelspec": {
   "display_name": "Python 3",
   "language": "python",
   "name": "python3"
  },
  "language_info": {
   "codemirror_mode": {
    "name": "ipython",
    "version": 3
   },
   "file_extension": ".py",
   "mimetype": "text/x-python",
   "name": "python",
   "nbconvert_exporter": "python",
   "pygments_lexer": "ipython3",
   "version": "3.7.10"
  }
 },
 "nbformat": 4,
 "nbformat_minor": 5
}

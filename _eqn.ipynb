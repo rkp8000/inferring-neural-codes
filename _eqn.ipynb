{
 "cells": [
  {
   "cell_type": "markdown",
   "id": "25e68055",
   "metadata": {},
   "source": [
    "Linear-nonlinear\n",
    "\n",
    "$$z(t) = I_{sine}(t) \\ast h_{sine}(t) + I_{pulse}(t) \\ast h_{pulse}(t)$$\n",
    "\n",
    "$$r(t) = r_{min} + \\frac{r_{max} - r_{min}}{1 + \\exp[-\\beta (z - z_0)]}$$\n",
    "\n",
    "$$r(t) = \\textrm{Sigmoid}\\left( I_{sine}(t) \\ast h_{sine}(t) + I_{pulse}(t) \\ast h_{pulse}(t) \\right)$$\n",
    "\n",
    "Multiplicative adaptation\n",
    "\n",
    "$$\\tau_r \\frac{dr}{dt} = -r + x_s(1-a_s)I_{sine}(t) + x_p(1-a_p)I_{pulse}(t)$$\n",
    "\n",
    "$$\\tau_a \\frac{da_s}{dt} = -a_s + I_{sine}(t)$$\n",
    "\n",
    "$$\\tau_a \\frac{da_p}{dt} = -a_p + I_{pulse}(t)$$"
   ]
  },
  {
   "cell_type": "code",
   "execution_count": null,
   "id": "f5d7ffcf",
   "metadata": {},
   "outputs": [],
   "source": []
  }
 ],
 "metadata": {
  "kernelspec": {
   "display_name": "Python 3",
   "language": "python",
   "name": "python3"
  },
  "language_info": {
   "codemirror_mode": {
    "name": "ipython",
    "version": 3
   },
   "file_extension": ".py",
   "mimetype": "text/x-python",
   "name": "python",
   "nbconvert_exporter": "python",
   "pygments_lexer": "ipython3",
   "version": "3.7.10"
  }
 },
 "nbformat": 4,
 "nbformat_minor": 5
}

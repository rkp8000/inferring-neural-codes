{
 "cells": [
  {
   "cell_type": "markdown",
   "id": "bccae096",
   "metadata": {},
   "source": [
    "# Plot how distance between song-driven MA trajectories changes over time conditioned on song mass"
   ]
  },
  {
   "cell_type": "code",
   "execution_count": 1,
   "id": "ee0418f5",
   "metadata": {},
   "outputs": [],
   "source": [
    "%matplotlib inline\n",
    "import matplotlib.gridspec as gridspec\n",
    "import matplotlib.pyplot as plt\n",
    "import numpy as np\n",
    "import os\n",
    "import pandas as pd\n",
    "from scipy import signal, stats\n",
    "from sklearn import linear_model\n",
    "import sys\n",
    "import warnings; warnings.filterwarnings(\"ignore\")\n",
    "\n",
    "from aux import get_seg, rand_string\n",
    "from disp import set_plot, plot_b, colors\n",
    "from my_stats import nanpearsonr\n",
    "\n",
    "cc = np.concatenate\n",
    "\n",
    "FPS = 30.03  # sampling rate of behavioral data\n",
    "DT = 1/FPS"
   ]
  },
  {
   "cell_type": "markdown",
   "id": "88f11eec",
   "metadata": {
    "tags": []
   },
   "source": [
    "# Load natural song snippets"
   ]
  },
  {
   "cell_type": "code",
   "execution_count": 2,
   "id": "1573f3c5",
   "metadata": {},
   "outputs": [],
   "source": [
    "STRAINS = ['NM91', 'ZH23']\n",
    "FSTRAIN = 'data/simple/strains.csv'\n",
    "\n",
    "MSTRAINS = [(pd.read_csv(FSTRAIN)['STRAIN'] == strain) for strain in STRAINS]\n",
    "MSTRAIN = np.any(MSTRAINS, axis=0)\n",
    "ISTRAIN = MSTRAIN.nonzero()[0]\n",
    "\n",
    "NTR = MSTRAIN.sum()"
   ]
  },
  {
   "cell_type": "code",
   "execution_count": 3,
   "id": "4daeed6b",
   "metadata": {},
   "outputs": [],
   "source": [
    "# load natural songs\n",
    "df_song = pd.read_csv('data/simple/c_song_f_behav.csv')[['ID', 'T', 'Q', 'S', 'P' ,'F']]\n",
    "sngs_full = []\n",
    "for itr in ISTRAIN:\n",
    "    df_tr = df_song[df_song['ID'] == itr]\n",
    "    sng_full = np.zeros(len(df_tr), dtype=int)\n",
    "    sng_full[df_tr['S'] == 1] = 1\n",
    "    sng_full[(df_tr['P'] == 1) | (df_tr['F'] == 1)] = 2\n",
    "    sngs_full.append(sng_full)"
   ]
  },
  {
   "cell_type": "code",
   "execution_count": 4,
   "id": "64142b50",
   "metadata": {},
   "outputs": [],
   "source": [
    "N = 20\n",
    "tau_r = np.random.uniform(120, 120, N)\n",
    "tau_a = np.random.uniform(.1, 2, N)\n",
    "x_s = np.random.uniform(0, 1, N)\n",
    "x_p = np.random.uniform(0, 1, N)\n",
    "# minh = np.random.rand(N) < .5\n",
    "# x_s[minh] *= -1\n",
    "# x_p[minh] *= -1"
   ]
  },
  {
   "cell_type": "code",
   "execution_count": 5,
   "id": "d627931f",
   "metadata": {},
   "outputs": [],
   "source": [
    "def smlt_v(i_s, i_p, tau_r, tau_a, x_s, x_p, dt):\n",
    "    t = np.arange(len(i_s))*dt\n",
    "    n = len(tau_a)\n",
    "    \n",
    "    vs = np.nan*np.zeros((len(t), n))\n",
    "    vs[0, :] = 0\n",
    "    \n",
    "    rs = np.nan*np.zeros((len(t), n))\n",
    "    rs[0, :] = 0\n",
    "    \n",
    "    a_ss = np.zeros((len(t), n))\n",
    "    a_ps = np.zeros((len(t), n))\n",
    "    \n",
    "    for ct in range(1, len(t)):\n",
    "        \n",
    "        # update adapted input\n",
    "        vs[ct, :] = x_s*(1-a_ss[ct-1, :])*i_s[ct] + x_p*(1-a_ps[ct-1, :])*i_p[ct]\n",
    "        \n",
    "        # update integral\n",
    "        rs[ct, :] = rs[ct-1, :] + (DT/tau_r)*(-rs[ct-1, :] + vs[ct, :])\n",
    "        \n",
    "        # update adaptation variables\n",
    "        da_s = (dt/tau_a)*(-a_ss[ct-1, :] + i_s[ct])\n",
    "        a_ss[ct, :] = a_ss[ct-1, :] + da_s\n",
    "        \n",
    "        da_p = (dt/tau_a)*(-a_ps[ct-1, :] + i_p[ct])\n",
    "        a_ps[ct, :] = a_ps[ct-1, :] + da_p\n",
    "        \n",
    "    return rs, vs, a_ss, a_ps, t"
   ]
  },
  {
   "cell_type": "code",
   "execution_count": 6,
   "id": "307b8490",
   "metadata": {},
   "outputs": [
    {
     "name": "stdout",
     "output_type": "stream",
     "text": [
      "T_SNP 1: T_SNP 5: T_SNP 9: T_SNP 13: T_SNP 17: T_SNP 21: T_SNP 25: T_SNP 29: T_SNP 33: T_SNP 37: T_SNP 41: T_SNP 45: T_SNP 49: T_SNP 53: T_SNP 57: T_SNP 61: T_SNP 65: T_SNP 69: T_SNP 73: T_SNP 77: T_SNP 81: T_SNP 85: T_SNP 89: T_SNP 93: T_SNP 97: T_SNP 101: T_SNP 105: T_SNP 109: T_SNP 113: T_SNP 117: T_SNP 121: T_SNP 125: T_SNP 129: T_SNP 133: T_SNP 137: T_SNP 141: T_SNP 145: T_SNP 149: T_SNP 153: T_SNP 157: T_SNP 161: T_SNP 165: T_SNP 169: T_SNP 173: T_SNP 177: T_SNP 181: T_SNP 185: T_SNP 189: T_SNP 193: T_SNP 197: "
     ]
    },
    {
     "data": {
      "image/png": "[encoded data removed]",
      "text/plain": [
       "<Figure size 360x360 with 1 Axes>"
      ]
     },
     "metadata": {
      "needs_background": "light"
     },
     "output_type": "display_data"
    }
   ],
   "source": [
    "# get snippets\n",
    "T_SNPS = range(1, 200, 4)\n",
    "\n",
    "snps_all = []\n",
    "durs = []\n",
    "masses = []\n",
    "\n",
    "# durs = []\n",
    "# rs_final = []\n",
    "\n",
    "for cT_SNP, T_SNP in enumerate(T_SNPS):\n",
    "    sys.stdout.write(f'T_SNP {T_SNP}: ')\n",
    "    \n",
    "    NT_SNP = int(round(T_SNP*FPS))\n",
    "    t_snp = np.arange(NT_SNP)*DT\n",
    "\n",
    "    nsnp_max = np.inf #100\n",
    "\n",
    "    min_gap = NT_SNP  #int(round(3*FPS))\n",
    "    min_frac_sing = 0\n",
    "\n",
    "    snps = []\n",
    "\n",
    "    for csng, sng_full in enumerate(sngs_full):\n",
    "        segs, bds = get_seg(sng_full > 0, min_gap=min_gap)\n",
    "        segs = [sng_full[lb:ub] for lb, ub in bds]\n",
    "        # keep fixed-length portions only of sufficiently long segments\n",
    "        segs = [seg[:NT_SNP] for seg in segs if (len(seg) >= NT_SNP) and (np.mean(seg > 0) > min_frac_sing)]\n",
    "        snps.extend(segs)\n",
    "\n",
    "        if len(snps) > nsnp_max:\n",
    "            break\n",
    "\n",
    "    snps_all.extend(snps)\n",
    "    masses.extend([np.sum(snp > 0)*DT for snp in snps])\n",
    "    durs.extend([len(snp) for snp in snps])\n",
    "    \n",
    "masses = np.array(masses)\n",
    "durs = np.array(durs)\n",
    "    \n",
    "fig, ax = plt.subplots(1, 1, figsize=(5, 5), tight_layout=True)\n",
    "ax.scatter(durs, masses, c='k', s=5)\n",
    "set_plot(ax, y_lim=(55, 60), x_label='Duration', y_label='Song mass')"
   ]
  },
  {
   "cell_type": "code",
   "execution_count": 12,
   "id": "80fbfa2a",
   "metadata": {},
   "outputs": [
    {
     "name": "stdout",
     "output_type": "stream",
     "text": [
      "Song mass = 0.5 s\n",
      "..............................\n",
      "Song mass = 5.5 s\n",
      "..............................\n",
      "Song mass = 10.5 s\n",
      "..............................\n",
      "Song mass = 15.5 s\n",
      "..............................\n",
      "Song mass = 20.5 s\n",
      "..............................\n",
      "Song mass = 25.5 s\n",
      "..............................\n",
      "Song mass = 30.5 s\n",
      "..............................\n",
      "Song mass = 35.5 s\n",
      "..............................\n",
      "Song mass = 40.5 s\n",
      "..............................\n",
      "Song mass = 45.5 s\n",
      "..............................\n",
      "Song mass = 50.5 s\n",
      "..............................\n",
      "Song mass = 55.5 s\n",
      "..............................\n",
      "Song mass = 60.5 s\n",
      "..............................\n",
      "Song mass = 65.5 s\n",
      "..............................\n",
      "Song mass = 70.5 s\n",
      "..............................\n",
      "Song mass = 75.5 s\n",
      "..............................\n",
      "Song mass = 80.5 s\n",
      "..............................\n",
      "Song mass = 85.5 s\n",
      "..............................\n"
     ]
    }
   ],
   "source": [
    "WDW_MASS = 1\n",
    "MASS_LBS = np.arange(0, 90, 5)\n",
    "NTR = 30\n",
    "\n",
    "ds = np.nan*np.zeros((len(MASS_LBS), NTR))\n",
    "\n",
    "for cmass_lb, mass_lb in enumerate(MASS_LBS):\n",
    "    print(f'Song mass = {mass_lb+WDW_MASS/2} s')\n",
    "    mass_ub = mass_lb + WDW_MASS\n",
    "    \n",
    "    snp_mask = (mass_lb <= masses) & (masses < mass_ub)\n",
    "    \n",
    "    for ctr in range(NTR):\n",
    "        sys.stdout.write('.')\n",
    "        isnps = np.random.choice(snp_mask.nonzero()[0], 2, replace=False)\n",
    "        basis = []\n",
    "\n",
    "        # fig, axs = plt.subplots(1, 2, figsize=(6, 2.5), tight_layout=True)\n",
    "\n",
    "        for isnp in isnps:\n",
    "            snp = snps_all[isnp]\n",
    "            i_s = (snp == 1).astype(float)\n",
    "            i_p = (snp == 2).astype(float)\n",
    "\n",
    "            t_snp = np.arange(len(snp))*DT\n",
    "\n",
    "            rs_basis = smlt_v(i_s, i_p, tau_r, tau_a, x_s, x_p, DT)[0]\n",
    "\n",
    "            basis.append(rs_basis[-1, :])\n",
    "            \n",
    "        basis = np.transpose(basis)\n",
    "        d = np.linalg.norm(basis[:, 0] - basis[:, 1])\n",
    "        \n",
    "        ds[cmass_lb, ctr] = d\n",
    "    print('')"
   ]
  },
  {
   "cell_type": "code",
   "execution_count": 13,
   "id": "d787b41b",
   "metadata": {},
   "outputs": [
    {
     "data": {
      "image/png": "[encoded data removed]",
      "text/plain": [
       "<Figure size 252x198 with 1 Axes>"
      ]
     },
     "metadata": {
      "needs_background": "light"
     },
     "output_type": "display_data"
    }
   ],
   "source": [
    "fig, ax = plt.subplots(1, 1, figsize=(3.5, 2.75), tight_layout=True)\n",
    "ax.errorbar(MASS_LBS+WDW_MASS/2, ds.mean(1), yerr=ds.std(1), c='k')\n",
    "\n",
    "set_plot(ax, x_label='Song mass (s)', y_label='Neural distance', title='Neural separation of songs')\n",
    "# fig.savefig('ms/4_song_separation.svg')"
   ]
  },
  {
   "cell_type": "code",
   "execution_count": null,
   "id": "a1803432",
   "metadata": {},
   "outputs": [],
   "source": []
  }
 ],
 "metadata": {
  "kernelspec": {
   "display_name": "Python 3",
   "language": "python",
   "name": "python3"
  },
  "language_info": {
   "codemirror_mode": {
    "name": "ipython",
    "version": 3
   },
   "file_extension": ".py",
   "mimetype": "text/x-python",
   "name": "python",
   "nbconvert_exporter": "python",
   "pygments_lexer": "ipython3",
   "version": "3.7.10"
  }
 },
 "nbformat": 4,
 "nbformat_minor": 5
}

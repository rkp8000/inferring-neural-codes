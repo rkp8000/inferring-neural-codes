{
 "cells": [
  {
   "cell_type": "code",
   "execution_count": 1,
   "id": "d71ff32a",
   "metadata": {},
   "outputs": [],
   "source": [
    "%matplotlib inline\n",
    "import matplotlib.gridspec as gridspec\n",
    "import matplotlib.pyplot as plt\n",
    "import numpy as np\n",
    "import os\n",
    "import pandas as pd\n",
    "from scipy import signal, stats\n",
    "from sklearn import decomposition, linear_model\n",
    "import sys\n",
    "import warnings; warnings.filterwarnings(\"ignore\")\n",
    "\n",
    "from aux import get_seg, rand_string\n",
    "from disp import set_plot, plot_b, colors\n",
    "from my_stats import nanpearsonr\n",
    "\n",
    "cc = np.concatenate\n",
    "\n",
    "FPS = 30.03  # sampling rate of behavioral data\n",
    "DT = 1/FPS"
   ]
  },
  {
   "cell_type": "markdown",
   "id": "4a8123d8",
   "metadata": {
    "tags": []
   },
   "source": [
    "# Load natural song snippets"
   ]
  },
  {
   "cell_type": "code",
   "execution_count": 2,
   "id": "bb0a2092",
   "metadata": {},
   "outputs": [],
   "source": [
    "STRAINS = ['NM91', 'ZH23']\n",
    "FSTRAIN = 'data/simple/strains.csv'\n",
    "\n",
    "MSTRAINS = [(pd.read_csv(FSTRAIN)['STRAIN'] == strain) for strain in STRAINS]\n",
    "MSTRAIN = np.any(MSTRAINS, axis=0)\n",
    "ISTRAIN = MSTRAIN.nonzero()[0]\n",
    "\n",
    "NTR = MSTRAIN.sum()"
   ]
  },
  {
   "cell_type": "code",
   "execution_count": 3,
   "id": "ad44c8ee",
   "metadata": {},
   "outputs": [],
   "source": [
    "# load natural songs\n",
    "df_song = pd.read_csv('data/simple/c_song_f_behav.csv')[['ID', 'T', 'Q', 'S', 'P' ,'F']]\n",
    "sngs_full = []\n",
    "for itr in ISTRAIN:\n",
    "    df_tr = df_song[df_song['ID'] == itr]\n",
    "    sng_full = np.zeros(len(df_tr), dtype=int)\n",
    "    sng_full[df_tr['S'] == 1] = 1\n",
    "    sng_full[(df_tr['P'] == 1) | (df_tr['F'] == 1)] = 2\n",
    "    sngs_full.append(sng_full)"
   ]
  },
  {
   "cell_type": "code",
   "execution_count": 4,
   "id": "7443a7f9",
   "metadata": {},
   "outputs": [],
   "source": [
    "N = 20\n",
    "tau_r = np.random.uniform(120, 120, N)\n",
    "tau_a = np.random.uniform(.1, 2, N)\n",
    "x_s = np.random.uniform(0, 1, N)\n",
    "x_p = np.random.uniform(0, 1, N)"
   ]
  },
  {
   "cell_type": "code",
   "execution_count": 5,
   "id": "5b6d4787",
   "metadata": {},
   "outputs": [],
   "source": [
    "def smlt(i_s, i_p, tau_r, tau_a, x_s, x_p):\n",
    "    t = np.arange(len(i_s))*DT\n",
    "    n = len(tau_a)\n",
    "    \n",
    "    vs = np.nan*np.zeros((len(t), n))\n",
    "    vs[0, :] = 0\n",
    "    \n",
    "    rs = np.nan*np.zeros((len(t), n))\n",
    "    rs[0, :] = 0\n",
    "    \n",
    "    a_ss = np.zeros((len(t), n))\n",
    "    a_ps = np.zeros((len(t), n))\n",
    "    \n",
    "    for ct in range(1, len(t)):\n",
    "        \n",
    "        # update adapted input\n",
    "        vs[ct, :] = x_s*(1-a_ss[ct-1, :])*i_s[ct] + x_p*(1-a_ps[ct-1, :])*i_p[ct]\n",
    "        \n",
    "        # update integrated response\n",
    "        rs[ct, :] = rs[ct-1, :] + (DT/tau_r)*(-rs[ct-1, :] + vs[ct, :])\n",
    "        \n",
    "        # update adaptation variables\n",
    "        a_ss[ct, :] = a_ss[ct-1, :] + (DT/tau_a)*(-a_ss[ct-1, :] + i_s[ct])\n",
    "        a_ps[ct, :] = a_ps[ct-1, :] + (DT/tau_a)*(-a_ps[ct-1, :] + i_p[ct])\n",
    "        \n",
    "    return rs, vs, a_ss, a_ps, t"
   ]
  },
  {
   "cell_type": "code",
   "execution_count": 6,
   "id": "f2c8a930",
   "metadata": {},
   "outputs": [
    {
     "name": "stdout",
     "output_type": "stream",
     "text": [
      "T_SNP 1: 4272 snippets..............................\n",
      "T_SNP 9: 436 snippets..............................\n",
      "T_SNP 17: 177 snippets..............................\n",
      "T_SNP 25: 125 snippets..............................\n",
      "T_SNP 33: 104 snippets..............................\n",
      "T_SNP 41: 95 snippets..............................\n",
      "T_SNP 49: 93 snippets..............................\n",
      "T_SNP 57: 92 snippets..............................\n",
      "T_SNP 65: 90 snippets..............................\n",
      "T_SNP 73: 88 snippets..............................\n",
      "T_SNP 81: 86 snippets..............................\n",
      "T_SNP 89: 83 snippets..............................\n",
      "T_SNP 97: 81 snippets..............................\n",
      "T_SNP 105: 81 snippets..............................\n",
      "T_SNP 113: 79 snippets..............................\n",
      "T_SNP 121: 77 snippets..............................\n",
      "T_SNP 129: 76 snippets..............................\n",
      "T_SNP 137: 75 snippets..............................\n",
      "T_SNP 145: 75 snippets..............................\n",
      "T_SNP 153: 71 snippets..............................\n",
      "T_SNP 161: 70 snippets..............................\n",
      "T_SNP 169: 70 snippets..............................\n",
      "T_SNP 177: 69 snippets..............................\n",
      "T_SNP 185: 69 snippets..............................\n",
      "T_SNP 193: 67 snippets..............................\n",
      "T_SNP 201: 65 snippets..............................\n",
      "T_SNP 209: 65 snippets..............................\n",
      "T_SNP 217: 65 snippets..............................\n",
      "T_SNP 225: 62 snippets..............................\n",
      "T_SNP 233: 61 snippets..............................\n",
      "T_SNP 241: 61 snippets..............................\n",
      "T_SNP 249: 60 snippets..............................\n",
      "T_SNP 257: 59 snippets..............................\n",
      "T_SNP 265: 59 snippets..............................\n",
      "T_SNP 273: 58 snippets..............................\n",
      "T_SNP 281: 57 snippets..............................\n",
      "T_SNP 289: 57 snippets..............................\n",
      "T_SNP 297: 57 snippets..............................\n",
      "T_SNP 305: 56 snippets..............................\n",
      "T_SNP 313: 55 snippets..............................\n"
     ]
    }
   ],
   "source": [
    "# get snippets\n",
    "NTR = 30\n",
    "T_SNPS = range(1, 320, 8)  # snippet lengths to fetch\n",
    "\n",
    "ds = np.nan*np.zeros((len(T_SNPS), NTR))  # pairwise distances between neural song snippet representations\n",
    "\n",
    "durs = []\n",
    "masses = []\n",
    "\n",
    "rs_final = []\n",
    "rs_final_scrambled = []\n",
    "\n",
    "# save some example snippets and responses\n",
    "snp_xpls = []\n",
    "snp_xpl_scrambleds = []\n",
    "\n",
    "rs_full_xpl = []\n",
    "rs_full_xpl_scrambled = []\n",
    "\n",
    "\n",
    "for cT_SNP, T_SNP in enumerate(T_SNPS):\n",
    "    sys.stdout.write(f'T_SNP {T_SNP}: ')\n",
    "    \n",
    "    NT_SNP = int(round(T_SNP*FPS))\n",
    "    t_snp = np.arange(NT_SNP)*DT\n",
    "\n",
    "    snps = []\n",
    "\n",
    "    for csng, sng_full in enumerate(sngs_full):\n",
    "        \n",
    "        segs, bds = get_seg(sng_full > 0, min_gap=NT_SNP)\n",
    "        segs = [sng_full[lb:ub] for lb, ub in bds]\n",
    "        \n",
    "        # keep fixed-length portions only of sufficiently long segments\n",
    "        segs = [seg[:NT_SNP] for seg in segs if (len(seg) >= NT_SNP)]\n",
    "        \n",
    "        snps.extend(segs)\n",
    "\n",
    "    snps_scrambled = [snp[np.random.permutation(len(snp))] for snp in snps]\n",
    "    \n",
    "    snps = np.array(snps)\n",
    "    nsnp = len(snps)\n",
    "    \n",
    "    snps_scrambled = np.array(snps_scrambled)\n",
    "\n",
    "    sys.stdout.write(f'{nsnp} snippets')\n",
    "\n",
    "    for ctr in range(NTR):\n",
    "        sys.stdout.write('.')\n",
    "        isnps = np.random.choice(range(len(snps)), 2, replace=False)\n",
    "        r_pair = []\n",
    "\n",
    "        for isnp in isnps:\n",
    "            # get neural response\n",
    "            snp = snps[isnp]\n",
    "            i_s = (snp == 1).astype(float)\n",
    "            i_p = (snp == 2).astype(float)\n",
    "\n",
    "            t_snp = np.arange(len(snp))*DT\n",
    "\n",
    "            rs = smlt(i_s, i_p, tau_r, tau_a, x_s, x_p)[0]\n",
    "\n",
    "            r_pair.append(rs[-1, :])\n",
    "            \n",
    "            rs_final.append(rs[-1, :])\n",
    "            \n",
    "            durs.append(T_SNP)\n",
    "            masses.append(np.sum(snp > 0)*DT)\n",
    "            \n",
    "            # get neural response to scrambled snippet\n",
    "            snp_scrambled = snps_scrambled[isnp]\n",
    "            \n",
    "            i_s_scrambled = (snp_scrambled == 1).astype(float)\n",
    "            i_p_scrambled = (snp_scrambled == 2).astype(float)\n",
    "            \n",
    "            rs_scrambled = smlt(i_s_scrambled, i_p_scrambled, tau_r, tau_a, x_s, x_p)[0]\n",
    "            \n",
    "            rs_final_scrambled.append(rs_scrambled[-1, :])\n",
    "            \n",
    "            if np.random.rand() < .1:  # randomly save some examples\n",
    "                snp_xpls.append(snp.copy())\n",
    "                rs_full_xpl.append(rs.copy())\n",
    "                \n",
    "                snp_xpl_scrambleds.append(snp_scrambled.copy())\n",
    "                rs_full_xpl_scrambled.append(rs_scrambled.copy())\n",
    "                \n",
    "\n",
    "        d = np.linalg.norm(r_pair[0] - r_pair[1])\n",
    "        \n",
    "        ds[cT_SNP, ctr] = d\n",
    "    print('')\n",
    "    \n",
    "durs = np.array(durs)\n",
    "masses = np.array(masses)"
   ]
  },
  {
   "cell_type": "code",
   "execution_count": 7,
   "id": "20a18ea8",
   "metadata": {},
   "outputs": [
    {
     "data": {
      "image/png": "[encoded data removed]",
      "text/plain": [
       "<Figure size 648x180 with 3 Axes>"
      ]
     },
     "metadata": {
      "needs_background": "light"
     },
     "output_type": "display_data"
    }
   ],
   "source": [
    "rs_final = np.array(rs_final)\n",
    "pca = decomposition.PCA().fit(rs_final)\n",
    "rs_final_pca = pca.transform(rs_final)\n",
    "\n",
    "rs_final_scrambled = np.array(rs_final_scrambled)\n",
    "pca_scrambled = decomposition.PCA().fit(rs_final_scrambled)\n",
    "rs_final_scrambled_pca = pca_scrambled.transform(rs_final_scrambled)\n",
    "\n",
    "fig, axs = plt.subplots(1, 3, figsize=(9, 2.5), tight_layout=True)\n",
    "axs[0].scatter(1+np.arange(N), pca.explained_variance_ratio_, c='k')\n",
    "axs[0].scatter(1+np.arange(N), pca_scrambled.explained_variance_ratio_, c='c')\n",
    "axs[0].set_yscale('log')\n",
    "\n",
    "set_plot(axs[0], x_label='PC #', y_label='Fraction neural\\nvar. explained')\n",
    "\n",
    "axs[1].scatter(rs_final_pca[:, 0], rs_final_pca[:, 1], c='k', s=2)\n",
    "axs[1].scatter(rs_final_scrambled_pca[:, 0], rs_final_scrambled_pca[:, 1], c='c', s=2)\n",
    "\n",
    "set_plot(axs[1], x_label='PC 1', y_label='PC 2')\n",
    "\n",
    "axs[2].scatter(rs_final_pca[:, 2], rs_final_pca[:, 3], c='k', s=2)\n",
    "axs[2].scatter(rs_final_scrambled_pca[:, 2], rs_final_scrambled_pca[:, 3], c='c', s=2)\n",
    "\n",
    "axs[2].legend(['Natural', 'Scrambled'])\n",
    "\n",
    "set_plot(axs[2], x_label='PC 3', y_label='PC 4')"
   ]
  },
  {
   "cell_type": "code",
   "execution_count": 8,
   "id": "96d1ad28",
   "metadata": {},
   "outputs": [],
   "source": [
    "from time_stats import xcov_conv_tri\n",
    "\n",
    "T_SNP = 300\n",
    "\n",
    "NT_SNP = int(round(T_SNP*FPS))\n",
    "t = np.arange(NT_SNP)*DT\n",
    "\n",
    "snps = []\n",
    "\n",
    "for csng, sng_full in enumerate(sngs_full):\n",
    "\n",
    "    segs, bds = get_seg(sng_full > 0, min_gap=NT_SNP)\n",
    "    segs = [sng_full[lb:ub] for lb, ub in bds]\n",
    "\n",
    "    # keep fixed-length portions only of sufficiently long segments\n",
    "    segs = [seg[:NT_SNP] for seg in segs if (len(seg) >= NT_SNP)]\n",
    "\n",
    "    snps.extend(segs)\n",
    "\n",
    "snps_scrambled = [snp[np.random.permutation(len(snp))] for snp in snps]\n",
    "\n",
    "snps = np.array(snps)\n",
    "nsnp = len(snps)\n",
    "\n",
    "snps_scrambled = np.array(snps_scrambled)"
   ]
  },
  {
   "cell_type": "code",
   "execution_count": 9,
   "id": "129ddd2f",
   "metadata": {},
   "outputs": [
    {
     "name": "stdout",
     "output_type": "stream",
     "text": [
      "........................................................."
     ]
    }
   ],
   "source": [
    "IPCS = range(4)\n",
    "rs_pca_all = []\n",
    "rs_scrambled_pca_all = []\n",
    "\n",
    "for snp, snp_scrambled in zip(snps, snps_scrambled):\n",
    "    sys.stdout.write('.')\n",
    "    \n",
    "    rs = smlt(snp==1, snp==2, tau_r, tau_a, x_s, x_p)[0]\n",
    "    rs_pca = pca.transform(rs)\n",
    "    rs_pca_all.append(rs_pca)\n",
    "    \n",
    "    rs_scrambled = smlt(snp_scrambled==1, snp_scrambled==2, tau_r, tau_a, x_s, x_p)[0]\n",
    "    rs_scrambled_pca = pca_scrambled.transform(rs_scrambled)\n",
    "    rs_scrambled_pca_all.append(rs_scrambled_pca)"
   ]
  },
  {
   "cell_type": "markdown",
   "id": "08f81dd4",
   "metadata": {},
   "source": [
    "# Plot separation of neural song reprs projected onto each top PC"
   ]
  },
  {
   "cell_type": "code",
   "execution_count": 16,
   "id": "26efd192",
   "metadata": {},
   "outputs": [
    {
     "data": {
      "image/png": "[encoded data removed]",
      "text/plain": [
       "<Figure size 864x180 with 5 Axes>"
      ]
     },
     "metadata": {
      "needs_background": "light"
     },
     "output_type": "display_data"
    }
   ],
   "source": [
    "from disp import set_color, get_line_log\n",
    "\n",
    "# plot traj separation over time after projecting onto each top PC\n",
    "IPCS = [0, 1, 2, 3, 4]\n",
    "\n",
    "fig, axs = plt.subplots(1, len(IPCS), figsize=(12, 2.5), tight_layout=True)\n",
    "\n",
    "for cIPC, IPC in enumerate(IPCS):\n",
    "\n",
    "    rs_ipc = np.nan*np.zeros((len(rs_pca_all), len(t)))\n",
    "\n",
    "    for crs_pca, rs_pca in enumerate(rs_pca_all):\n",
    "        rs_ipc[crs_pca, :] = rs_pca[:, IPC]\n",
    "\n",
    "    mt = np.round(np.logspace(0, np.log10(len(t)-1), 10)).astype(int)\n",
    "    \n",
    "    # song separation\n",
    "    NPAIR = 500\n",
    "\n",
    "    ds = np.nan*np.zeros((NPAIR, len(t)))\n",
    "    for cpair in range(NPAIR):\n",
    "        idx_0, idx_1 = np.random.choice(np.arange(len(rs_ipc)), 2, replace=False)\n",
    "        ds[cpair, :] = np.abs(rs_ipc[idx_0, :]-rs_ipc[idx_1, :])\n",
    "    \n",
    "    axs[cIPC].errorbar(t[mt], ds.mean(0)[mt], yerr=np.std(ds, axis=0)[mt], c='k')\n",
    "\n",
    "    x_ln, y_ln, (slp, icpt, r, p, sterr) = get_line_log(t[t>0], ds.mean(0)[t>0])\n",
    "\n",
    "    axs[cIPC].plot(10**x_ln, 10**y_ln, c='r', lw=2)\n",
    "    axs[cIPC].set_xscale('log')\n",
    "    axs[cIPC].set_yscale('log')\n",
    "\n",
    "    set_plot(axs[cIPC], x_label='Elapsed time (s)', title=f'PC {IPC+1}\\nslope = {slp:.4f}')\n",
    "    if cIPC < 2:\n",
    "        set_plot(axs[cIPC], y_label='Neural distance')\n",
    "        \n",
    "fig.savefig('ms/5_pc_diffusion.svg')"
   ]
  },
  {
   "cell_type": "code",
   "execution_count": null,
   "id": "a01872ca",
   "metadata": {},
   "outputs": [],
   "source": []
  }
 ],
 "metadata": {
  "kernelspec": {
   "display_name": "Python 3",
   "language": "python",
   "name": "python3"
  },
  "language_info": {
   "codemirror_mode": {
    "name": "ipython",
    "version": 3
   },
   "file_extension": ".py",
   "mimetype": "text/x-python",
   "name": "python",
   "nbconvert_exporter": "python",
   "pygments_lexer": "ipython3",
   "version": "3.7.10"
  }
 },
 "nbformat": 4,
 "nbformat_minor": 5
}

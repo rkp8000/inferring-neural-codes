{
 "cells": [
  {
   "cell_type": "markdown",
   "id": "7e00bb0f",
   "metadata": {},
   "source": [
    "Create surrogate neural population responses during natural behavior trials using reduced populations with parameters chosen based on theoretical considerations."
   ]
  },
  {
   "cell_type": "code",
   "execution_count": 1,
   "id": "9740fc53",
   "metadata": {},
   "outputs": [],
   "source": [
    "%matplotlib inline\n",
    "import matplotlib.gridspec as gridspec\n",
    "import matplotlib.pyplot as plt\n",
    "import numpy as np\n",
    "import os\n",
    "from scipy import signal, stats\n",
    "import sys\n",
    "import warnings; warnings.filterwarnings(\"ignore\")\n",
    "\n",
    "from aux import get_seg\n",
    "from disp import set_plot\n",
    "from my_torch import skl_fit_ridge\n",
    "\n",
    "cc = np.concatenate\n",
    "\n",
    "\n",
    "TARG_BHV = 'MTN'\n",
    "TWDWS = [.03, 1, 60]\n",
    "TARGS = [f'{TARG_BHV}_MN_{twdw}' for twdw in TWDWS]\n",
    "\n",
    "# ALPHA = 10"
   ]
  },
  {
   "cell_type": "code",
   "execution_count": 2,
   "id": "76c3b210",
   "metadata": {},
   "outputs": [],
   "source": [
    "LOAD_DIR = f'data/simple/mlv/ma_vary_het'"
   ]
  },
  {
   "cell_type": "markdown",
   "id": "9955e169",
   "metadata": {},
   "source": [
    "# Fixed $\\tau_a$, heterogeneous $\\tau_r$"
   ]
  },
  {
   "cell_type": "code",
   "execution_count": 3,
   "id": "04150a90",
   "metadata": {},
   "outputs": [],
   "source": [
    "FPFX_TAU_A = 'ma_slow_int_fast_adapt_tau_a'\n",
    "fname_tau_as = [fname for fname in os.listdir(LOAD_DIR) if fname.startswith(FPFX_TAU_A)]\n",
    "\n",
    "tau_as = [float(fname[len(FPFX_TAU_A)+1:-4]) for fname in fname_tau_as]\n",
    "\n",
    "fname_tau_as = np.array(fname_tau_as)[np.argsort(tau_as)]\n",
    "tau_as = sorted(tau_as)\n",
    "\n",
    "r2_train_mns = {targ: [] for targ in TARGS}\n",
    "r2_test_mns = {targ: [] for targ in TARGS}\n",
    "\n",
    "r2_train_sems = {targ: [] for targ in TARGS}\n",
    "r2_test_sems = {targ: [] for targ in TARGS}\n",
    "\n",
    "data_all = []\n",
    "\n",
    "for fname in fname_tau_as:\n",
    "    \n",
    "    data = np.load(os.path.join(LOAD_DIR, fname), allow_pickle=True)[0]\n",
    "    \n",
    "    for targ in TARGS:\n",
    "        r2_train_mns[targ].append(data['R2_TRAIN'][targ].mean())\n",
    "        r2_test_mns[targ].append(data['R2_TEST'][targ].mean())\n",
    "        \n",
    "        r2_train_sems[targ].append(stats.sem(data['R2_TRAIN'][targ]))\n",
    "        r2_test_sems[targ].append(stats.sem(data['R2_TEST'][targ]))\n",
    "        \n",
    "    data_all.append(data)"
   ]
  },
  {
   "cell_type": "code",
   "execution_count": 4,
   "id": "0e9707fb",
   "metadata": {},
   "outputs": [
    {
     "data": {
      "image/png": "[encoded data removed]",
      "text/plain": [
       "<Figure size 648x198 with 3 Axes>"
      ]
     },
     "metadata": {
      "needs_background": "light"
     },
     "output_type": "display_data"
    }
   ],
   "source": [
    "fig, axs = plt.subplots(1, 3, figsize=(9, 2.75), tight_layout=True)\n",
    "for targ, ax in zip(TARGS, axs):\n",
    "#     ax.bar(np.arange(len(tau_as)), r2_train_mns[targ], align='edge', width=-.4, color='r',)\n",
    "    ax.bar(\n",
    "        np.arange(len(tau_as)),\n",
    "        100*np.array(r2_test_mns[targ]), yerr=100*np.array(r2_test_sems[targ]),\n",
    "        align='center', width=.8, color=(.5, 0, .5))\n",
    "    \n",
    "    set_plot(\n",
    "        ax,\n",
    "        y_lim=(10, 22),\n",
    "        x_label=r'Fixed value of $\\tau_a$ (s)', x_ticks=range(len(tau_as)), x_tick_labels=tau_as,\n",
    "        y_label='% walking speed\\nvar. explained',\n",
    "        title=f'{targ}\\n' + r'Fixed $\\tau_a$, het. $\\tau_r$')\n",
    "    \n",
    "fig.savefig('ms/2_fmtn_var_xpl_fixed_tau_a.svg')"
   ]
  },
  {
   "cell_type": "code",
   "execution_count": 5,
   "id": "e110fa5f",
   "metadata": {},
   "outputs": [],
   "source": [
    "best_het_tau_r_r2s = {targ: None for targ in TARGS}\n",
    "best_het_tau_r_r2s['MTN_MN_1'] = data_all[1]['R2_TEST']['MTN_MN_1']"
   ]
  },
  {
   "cell_type": "code",
   "execution_count": 6,
   "id": "c0f1d365",
   "metadata": {},
   "outputs": [
    {
     "data": {
      "image/png": "[encoded data removed]",
      "text/plain": [
       "<Figure size 648x198 with 3 Axes>"
      ]
     },
     "metadata": {
      "needs_background": "light"
     },
     "output_type": "display_data"
    }
   ],
   "source": [
    "fig, axs = plt.subplots(1, 3, figsize=(9, 2.75), tight_layout=True)\n",
    "for targ, ax in zip(TARGS, axs):\n",
    "#     ax.bar(np.arange(len(tau_as)), r2_train_mns[targ], align='edge', width=-.4, color='r',)\n",
    "    ax.bar(\n",
    "        np.arange(len(tau_as)),\n",
    "        100*np.array(r2_test_mns[targ]), yerr=100*np.array(r2_test_sems[targ]),\n",
    "        align='center', width=.8, color=(.5, 0, .5),)\n",
    "    \n",
    "    set_plot(\n",
    "        ax,\n",
    "        y_lim=(0, 30),\n",
    "        x_label=r'$\\tau_a$ (s)', x_ticks=range(len(tau_as)), x_tick_labels=tau_as,\n",
    "        y_label='% walking speed\\nvar. explained',\n",
    "        title=f'{targ}\\n' + r'Fixed $\\tau_a$, het. $\\tau_r$')\n",
    "    \n",
    "fig.savefig('supp/2_fmtn_var_xpl_fixed_tau_a.svg')"
   ]
  },
  {
   "cell_type": "markdown",
   "id": "abebfd99",
   "metadata": {},
   "source": [
    "# Fixed $\\tau_r$, heterogeneous $\\tau_a$"
   ]
  },
  {
   "cell_type": "code",
   "execution_count": 7,
   "id": "639df798",
   "metadata": {},
   "outputs": [],
   "source": [
    "FPFX_TAU_R = 'ma_slow_int_fast_adapt_tau_r'\n",
    "fname_tau_rs = [fname for fname in os.listdir(LOAD_DIR) if fname.startswith(FPFX_TAU_R)]\n",
    "\n",
    "tau_rs = [int(fname[len(FPFX_TAU_R)+1:-4]) for fname in fname_tau_rs]\n",
    "\n",
    "fname_tau_rs = np.array(fname_tau_rs)[np.argsort(tau_rs)]\n",
    "tau_rs = sorted(tau_rs)\n",
    "\n",
    "r2_train_mns = {targ: [] for targ in TARGS}\n",
    "r2_test_mns = {targ: [] for targ in TARGS}\n",
    "\n",
    "r2_train_sems = {targ: [] for targ in TARGS}\n",
    "r2_test_sems = {targ: [] for targ in TARGS}\n",
    "\n",
    "data_all = []\n",
    "\n",
    "for fname in fname_tau_rs:\n",
    "    \n",
    "    data = np.load(os.path.join(LOAD_DIR, fname), allow_pickle=True)[0]\n",
    "    \n",
    "    for targ in TARGS:\n",
    "        r2_train_mns[targ].append(data['R2_TRAIN'][targ].mean())\n",
    "        r2_test_mns[targ].append(data['R2_TEST'][targ].mean())\n",
    "        \n",
    "        r2_train_sems[targ].append(stats.sem(data['R2_TRAIN'][targ]))\n",
    "        r2_test_sems[targ].append(stats.sem(data['R2_TEST'][targ]))\n",
    "        \n",
    "    data_all.append(data)"
   ]
  },
  {
   "cell_type": "code",
   "execution_count": 8,
   "id": "d533e020",
   "metadata": {},
   "outputs": [
    {
     "data": {
      "image/png": "[encoded data removed]",
      "text/plain": [
       "<Figure size 648x198 with 3 Axes>"
      ]
     },
     "metadata": {
      "needs_background": "light"
     },
     "output_type": "display_data"
    }
   ],
   "source": [
    "fig, axs = plt.subplots(1, 3, figsize=(9, 2.75), tight_layout=True)\n",
    "for targ, ax in zip(TARGS, axs):\n",
    "#     ax.bar(np.arange(len(tau_rs)), r2_train_mns[targ], align='edge', width=-.4, color='r',)\n",
    "    ax.bar(\n",
    "        np.arange(len(tau_rs)),\n",
    "        100*np.array(r2_test_mns[targ]), yerr=100*np.array(r2_test_sems[targ]),\n",
    "        align='center', width=.8, color='gray')\n",
    "    \n",
    "    set_plot(\n",
    "        ax,\n",
    "        y_lim=(10, 22),\n",
    "        x_label=r'Fixed value of $\\tau_{int}$ (s)', x_ticks=range(len(tau_rs)), x_tick_labels=tau_rs,\n",
    "        y_label='% walking speed\\nvar. explained',\n",
    "        title=f'{targ}\\n' + r'Fixed $\\tau_r$, het. $\\tau_a$')\n",
    "    \n",
    "fig.savefig('ms/2_fmtn_var_xpl_fixed_tau_r.svg')"
   ]
  },
  {
   "cell_type": "code",
   "execution_count": 10,
   "id": "97ca281f",
   "metadata": {},
   "outputs": [],
   "source": [
    "best_het_tau_a_r2s = {targ: None for targ in TARGS}\n",
    "best_het_tau_a_r2s['MTN_MN_1'] = data_all[4]['R2_TEST']['MTN_MN_1']"
   ]
  },
  {
   "cell_type": "code",
   "execution_count": 11,
   "id": "787a7603",
   "metadata": {},
   "outputs": [
    {
     "data": {
      "image/png": "[encoded data removed]",
      "text/plain": [
       "<Figure size 648x198 with 3 Axes>"
      ]
     },
     "metadata": {
      "needs_background": "light"
     },
     "output_type": "display_data"
    }
   ],
   "source": [
    "fig, axs = plt.subplots(1, 3, figsize=(9, 2.75), tight_layout=True)\n",
    "for targ, ax in zip(TARGS, axs):\n",
    "#     ax.bar(np.arange(len(tau_rs)), r2_train_mns[targ], align='edge', width=-.4, color='r',)\n",
    "    ax.bar(\n",
    "        np.arange(len(tau_rs)),\n",
    "        100*np.array(r2_test_mns[targ]), yerr=100*np.array(r2_test_sems[targ]),\n",
    "        align='center', width=.8, color='gray')\n",
    "    \n",
    "    set_plot(\n",
    "        ax,\n",
    "        y_lim=(0, 30),\n",
    "        x_label=r'$\\tau_r$ (s)', x_ticks=range(len(tau_rs)), x_tick_labels=tau_rs,\n",
    "        y_label='% walking speed\\nvar. explained',\n",
    "        title=f'{targ}\\n' + r'Fixed $\\tau_r$, het. $\\tau_a$')\n",
    "    \n",
    "fig.savefig('supp/fig_2_fmtn_var_xpl_fixed_tau_r.svg')"
   ]
  },
  {
   "cell_type": "code",
   "execution_count": 12,
   "id": "349ff538",
   "metadata": {},
   "outputs": [
    {
     "data": {
      "text/plain": [
       "Ttest_indResult(statistic=-2.980390801798926, pvalue=0.00420111577056306)"
      ]
     },
     "execution_count": 12,
     "metadata": {},
     "output_type": "execute_result"
    }
   ],
   "source": [
    "stats.ttest_ind(best_het_tau_r_r2s['MTN_MN_1'], best_het_tau_a_r2s['MTN_MN_1'])"
   ]
  },
  {
   "cell_type": "code",
   "execution_count": null,
   "id": "7de21f85",
   "metadata": {},
   "outputs": [],
   "source": []
  }
 ],
 "metadata": {
  "kernelspec": {
   "display_name": "Python 3",
   "language": "python",
   "name": "python3"
  },
  "language_info": {
   "codemirror_mode": {
    "name": "ipython",
    "version": 3
   },
   "file_extension": ".py",
   "mimetype": "text/x-python",
   "name": "python",
   "nbconvert_exporter": "python",
   "pygments_lexer": "ipython3",
   "version": "3.7.10"
  }
 },
 "nbformat": 4,
 "nbformat_minor": 5
}

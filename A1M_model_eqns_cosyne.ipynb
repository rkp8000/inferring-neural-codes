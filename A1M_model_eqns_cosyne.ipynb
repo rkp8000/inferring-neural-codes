{
 "cells": [
  {
   "cell_type": "markdown",
   "id": "2bd693c8",
   "metadata": {},
   "source": [
    "# Mathematical framework"
   ]
  },
  {
   "cell_type": "markdown",
   "id": "a4f1a71b",
   "metadata": {},
   "source": [
    "From purely behavioral perspective we have song time-series $s_k(t)$ and a behavior time-series $m_k(t)$. We want to find a map: $f_t: \\{Q, S, P\\}^t \\to \\mathbb{R}$ such that the prediction error\n",
    "\n",
    "$$\\langle \\lVert \\hat{m}_k(t) - m_k(t) \\rVert^2 \\rangle \\equiv \\langle \\lVert f_t[s_k(t)] - m_k(t) \\rVert^2 \\rangle_{t, k}$$\n",
    "\n",
    "is minimized. Moreover, we want to learn something about how the brain works in the process, ideally at the level of population coding.\n",
    "\n",
    "To do so we consider a form for $f_t$ given by:\n",
    "\n",
    "$$\\hat{m}(t) = f_t[s(t)] = \\sum_{i=1}^N w_i \\phi^i[s(t)]$$\n",
    "\n",
    "where $\\phi_i$ are nonlinear filters on the song.\n",
    "\n",
    "The main idea here is, instead of trying to solve this nonparametrically, we compare several parameterized forms of $\\phi_i$ that are inspired by and fit to existing neural data. While this might not be as expressive as a general nonparametric approach (or eg fitting a big neural network), the idea is that it will lead to (1) more mechanistically interpretable filters, and (2) specific predictions about signals we expect to see in the female fly brain in response to natural song. One can equivalently view our approach as recording artificial neural population activity using different neural response models, and then trying to predict behavior from the artificial activity.\n",
    "\n",
    "Analysis so far points to the fact that if we define $m$ as the female motion at $t$, we can explain about $20-30\\%$ of the variance of $m(t)$ on held-out data if (1) $N \\approx 10$, and (2) $\\phi_i$ are defined by\n",
    "\n",
    "$$\\tau_r^i \\frac{d\\phi^i}{dt} = -\\phi^i + x_s^i(1-a_s^i)I_s(t) + x_p^i(1-a_p^i)I_p(t)$$\n",
    "\n",
    "$$\\tau_a^i \\frac{da_s^i}{dt} = -a_s^i + I_{sine}(t)$$\n",
    "\n",
    "$$\\tau_a^i \\frac{da_p^i}{dt} = -a_p^i + I_{pulse}(t)$$"
   ]
  },
  {
   "cell_type": "markdown",
   "id": "d0bdc495",
   "metadata": {},
   "source": [
    "Linear-nonlinear\n",
    "\n",
    "$$z(t) = I_{sine}(t) \\ast h_{sine}(t) + I_{pulse}(t) \\ast h_{pulse}(t)$$\n",
    "\n",
    "$$r(t) = r_{min} + \\frac{r_{max} - r_{min}}{1 + \\exp[-\\beta (z - z_0)]}$$\n",
    "\n",
    "$$r(t) = \\textrm{Sigmoid}\\left( I_{sine}(t) \\ast h_{sine}(t) + I_{pulse}(t) \\ast h_{pulse}(t) \\right)$$\n",
    "\n",
    "Multiplicative adaptation\n",
    "\n",
    "$$\\tau_r \\frac{dr}{dt} = -r + x_s(1-a_s)I_{s}(t) + x_p(1-a_p)I_{p}(t) \\quad \\textrm{ where } \\quad \\tau_a \\frac{da_s}{dt} = -a_s + I_{s}(t), \\quad  \\tau_a \\frac{da_p}{dt} = -a_p + I_{p}(t)$$"
   ]
  },
  {
   "cell_type": "code",
   "execution_count": null,
   "id": "464a0b25",
   "metadata": {},
   "outputs": [],
   "source": []
  }
 ],
 "metadata": {
  "kernelspec": {
   "display_name": "Python 3",
   "language": "python",
   "name": "python3"
  },
  "language_info": {
   "codemirror_mode": {
    "name": "ipython",
    "version": 3
   },
   "file_extension": ".py",
   "mimetype": "text/x-python",
   "name": "python",
   "nbconvert_exporter": "python",
   "pygments_lexer": "ipython3",
   "version": "3.7.10"
  }
 },
 "nbformat": 4,
 "nbformat_minor": 5
}

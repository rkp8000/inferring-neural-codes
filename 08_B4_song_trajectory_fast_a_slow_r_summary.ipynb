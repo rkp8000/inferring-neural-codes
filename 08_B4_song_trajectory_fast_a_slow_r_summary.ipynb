{
 "cells": [
  {
   "cell_type": "code",
   "execution_count": 1,
   "id": "60730e9d",
   "metadata": {},
   "outputs": [],
   "source": [
    "import matplotlib.gridspec as gridspec\n",
    "import matplotlib.pyplot as plt\n",
    "import numpy as np\n",
    "import os\n",
    "import pandas as pd\n",
    "from sklearn import decomposition\n",
    "import sys\n",
    "import warnings; warnings.filterwarnings(\"ignore\")\n",
    "\n",
    "from aux import get_seg, rand_string\n",
    "from disp import set_plot, plot_b, trj_3d\n",
    "\n",
    "from record_0_main import smlt_ma\n",
    "\n",
    "cc = np.concatenate\n",
    "\n",
    "FPS = 30.03  # sampling rate of behavioral data\n",
    "DT = 1/FPS\n",
    "\n",
    "STRAINS = ['NM91', 'ZH23']\n",
    "STRAIN_KEY = '_'.join(STRAINS).lower()\n",
    "\n",
    "FSTRAIN = 'data/simple/strains.csv'\n",
    "MSTRAINS = [(pd.read_csv(FSTRAIN)['STRAIN'] == strain) for strain in STRAINS]\n",
    "MSTRAIN = np.any(MSTRAINS, axis=0)\n",
    "ISTRAIN = MSTRAIN.nonzero()[0]"
   ]
  },
  {
   "cell_type": "code",
   "execution_count": 2,
   "id": "e7c42e49",
   "metadata": {},
   "outputs": [],
   "source": [
    "# record activity on the fly\n",
    "df_behav = pd.read_csv('data/simple/c_song_f_behav.csv')  # load songs\n",
    "df_trs = [df_behav[df_behav.ID == i] for i in ISTRAIN]\n",
    "df_behav = None"
   ]
  },
  {
   "cell_type": "code",
   "execution_count": 3,
   "id": "73642b11",
   "metadata": {},
   "outputs": [],
   "source": [
    "N = 20\n",
    "\n",
    "rtau_r = [120, 120]\n",
    "rtau_a = [.1, 2]\n",
    "\n",
    "tau_rs = np.random.uniform(*rtau_r, N)\n",
    "tau_as = np.random.uniform(*rtau_a, N)\n",
    "x_ss = np.random.uniform(0, 1, N)\n",
    "x_ps = 1 - x_ss\n",
    "\n",
    "params = {'TAU_R': tau_rs, 'TAU_A': tau_as, 'X_S': x_ss, 'X_P': x_ps}"
   ]
  },
  {
   "cell_type": "code",
   "execution_count": 4,
   "id": "0e9ec676",
   "metadata": {},
   "outputs": [
    {
     "name": "stdout",
     "output_type": "stream",
     "text": [
      "......................................................................................."
     ]
    }
   ],
   "source": [
    "rs_20_mas = []\n",
    "\n",
    "for df_tr in df_trs:\n",
    "    t = np.array(df_tr['T'])\n",
    "    \n",
    "    i_s = np.array(df_tr['S']).astype(float)\n",
    "    i_p = np.array(df_tr['P'] | df_tr['F']).astype(float)\n",
    "    \n",
    "    b = np.zeros(len(t), dtype=int)\n",
    "    b[i_s == 1] = 1\n",
    "    b[i_p == 1] = 2\n",
    "\n",
    "    # simulate population response\n",
    "    rs_20_ma = smlt_ma(i_s, i_p, params, DT)\n",
    "    sys.stdout.write('.')\n",
    "    \n",
    "    rs_20_mas.append(rs_20_ma)"
   ]
  },
  {
   "cell_type": "code",
   "execution_count": 5,
   "id": "894c6594",
   "metadata": {},
   "outputs": [],
   "source": [
    "pca_20 = decomposition.PCA().fit(cc(rs_20_mas, axis=0))\n",
    "var_exp_ma_20 = pca_20.explained_variance_ratio_"
   ]
  },
  {
   "cell_type": "code",
   "execution_count": 14,
   "id": "a66f2a11",
   "metadata": {},
   "outputs": [
    {
     "data": {
      "image/png": "[encoded data removed]",
      "text/plain": [
       "<Figure size 144x129.6 with 1 Axes>"
      ]
     },
     "metadata": {},
     "output_type": "display_data"
    },
    {
     "data": {
      "image/png": "[encoded data removed]",
      "text/plain": [
       "<Figure size 144x129.6 with 1 Axes>"
      ]
     },
     "metadata": {},
     "output_type": "display_data"
    },
    {
     "data": {
      "image/png": "[encoded data removed]",
      "text/plain": [
       "<Figure size 144x129.6 with 1 Axes>"
      ]
     },
     "metadata": {},
     "output_type": "display_data"
    }
   ],
   "source": [
    "itrs_t_starts_t_ends = [\n",
    "    (6, -2, 138),\n",
    "    (0, -2, 130),\n",
    "    (7, -2, 75),\n",
    "]\n",
    "\n",
    "for itr, t_start, t_end in itrs_t_starts_t_ends:\n",
    "    df_tr = df_trs[itr]\n",
    "    t = np.array(df_tr['T'])\n",
    "    \n",
    "    i_s = np.array(df_tr['S']).astype(float)\n",
    "    i_p = np.array(df_tr['P'] | df_tr['F']).astype(float)\n",
    "    \n",
    "    b = np.zeros(len(t), dtype=int)\n",
    "    b[i_s == 1] = 1\n",
    "    b[i_p == 1] = 2\n",
    "\n",
    "    # simulate population response\n",
    "    rs = rs_20_mas[itr]\n",
    "    for cnrn in range(N):\n",
    "        rs[:, cnrn] /= np.mean(rs[:, cnrn])\n",
    "    \n",
    "    # project onto top PCs\n",
    "    rs_pc = pca_20.transform(rs)\n",
    "    \n",
    "    fig, ax = plt.subplots(1, 1, figsize=(2, 1.8), tight_layout=True)\n",
    "    \n",
    "    # plot neural responses and song\n",
    "    ax.plot(t, rs[:, :10], lw=1.5)\n",
    "    set_plot(ax, x_ticks=[], y_ticks=[], x_lim=(t_start, t_end), x_label='Time (s)', y_label='Response')\n",
    "    \n",
    "    fig.savefig(f'ms/fig_5_fast_a_slow_r_song_itr_{itr}.svg')"
   ]
  },
  {
   "cell_type": "code",
   "execution_count": null,
   "id": "12de2eb6",
   "metadata": {},
   "outputs": [],
   "source": []
  }
 ],
 "metadata": {
  "kernelspec": {
   "display_name": "Python 3",
   "language": "python",
   "name": "python3"
  },
  "language_info": {
   "codemirror_mode": {
    "name": "ipython",
    "version": 3
   },
   "file_extension": ".py",
   "mimetype": "text/x-python",
   "name": "python",
   "nbconvert_exporter": "python",
   "pygments_lexer": "ipython3",
   "version": "3.7.10"
  }
 },
 "nbformat": 4,
 "nbformat_minor": 5
}

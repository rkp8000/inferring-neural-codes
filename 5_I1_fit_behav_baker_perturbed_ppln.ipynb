{
 "cells": [
  {
   "cell_type": "markdown",
   "id": "organizational-remove",
   "metadata": {},
   "source": [
    "Fit simple models predicting female behavior from surrogate neural activity generated using perturbed versions of Baker et al population fits."
   ]
  },
  {
   "cell_type": "code",
   "execution_count": null,
   "id": "greek-association",
   "metadata": {},
   "outputs": [],
   "source": [
    "%matplotlib inline\n",
    "import matplotlib.gridspec as gridspec\n",
    "import matplotlib.pyplot as plt\n",
    "import numpy as np\n",
    "import pandas as pd\n",
    "from scipy import stats\n",
    "from sklearn import linear_model\n",
    "import sys\n",
    "\n",
    "from disp import set_plot\n",
    "from my_torch import skl_fit_lin, torch_fit_lin\n",
    "\n",
    "cc = np.concatenate\n",
    "\n",
    "NTR = 276\n",
    "NTRAIN = int(round(.8*NTR))\n",
    "NSPLIT = 30\n",
    "\n",
    "FIT_LIN = skl_fit_lin\n",
    "FIT_KWARGS = {}"
   ]
  },
  {
   "cell_type": "code",
   "execution_count": null,
   "id": "transparent-equilibrium",
   "metadata": {},
   "outputs": [],
   "source": [
    "# variations on true parameters\n",
    "KEY = 'pureselect'\n",
    "# KEY = 'nonadapt'\n",
    "# KEY = 'taufixed'\n",
    "# KEY = 'nonselect'\n",
    "# KEY = 'paramshuffle'\n",
    "# KEY = 'taurhalf'\n",
    "# KEY = 'taurdbl'\n",
    "\n",
    "DF_BAKER_FIT_PARAM = pd.read_csv(f'data/simple/neur/baker_dyn_fit_param.csv')\n",
    "R_COLS_USE = [f'R_{ir}' for ir in DF_BAKER_FIT_PARAM['EXPT_ID']]\n",
    "\n",
    "TARG = 'FFV'\n",
    "# TARG = 'FLS'\n",
    "\n",
    "\n",
    "PFX_BEHAV = f'data/simple/mlv_c/perturbed_ppln/c_baker_dyn_{KEY}/mlv_c_baker_dyn_{KEY}'\n",
    "SAVE_FILE = f'data/simple/mlv_c/perturbed_ppln/c_baker_dyn_{KEY}_{TARG.lower()}_{NTR}_tr.npy'"
   ]
  },
  {
   "cell_type": "raw",
   "id": "superb-raising",
   "metadata": {},
   "source": [
    "# subsampled neuron sets with shuffled parameters\n",
    "NR = 10\n",
    "#NR = 25\n",
    "#NR = 50\n",
    "#NR = 100\n",
    "#NR = 150\n",
    "\n",
    "KEY = ''\n",
    "DF_BAKER_FIT_PARAM = pd.read_csv(f'data/simple/baker_dyn_fit_param.csv')\n",
    "\n",
    "R_COLS_USE = [f'R_{ir}' for ir in range(NR)]\n",
    "\n",
    "TARG = 'FFV'\n",
    "# TARG = 'FLS'\n",
    "\n",
    "\n",
    "PFX_BEHAV = f'data/simple/mlv/p_baker_dyn_paramshuffle_nr_{NR}/mlv_p_baker_dyn_paramshuffle_nr_{NR}'\n",
    "SAVE_FILE = f'data/simple/mlv/p_baker_dyn_paramshuffle_nr_{NR}_{TARG.lower()}_{NTR}_tr.npy'"
   ]
  },
  {
   "cell_type": "code",
   "execution_count": null,
   "id": "headed-shark",
   "metadata": {},
   "outputs": [],
   "source": [
    "DF_BAKER_FIT_PARAM"
   ]
  },
  {
   "cell_type": "code",
   "execution_count": null,
   "id": "limiting-attraction",
   "metadata": {},
   "outputs": [],
   "source": [
    "# fit regression models\n",
    "rgrs = []\n",
    "for csplit in range(NSPLIT):\n",
    "    print(f'Split {csplit}')\n",
    "    rnd_tr_idxs = np.random.permutation(NTR)\n",
    "    idxs_train = rnd_tr_idxs[:NTRAIN]\n",
    "    idxs_test = rnd_tr_idxs[NTRAIN:]\n",
    "    rgr = FIT_LIN(PFX_BEHAV, R_COLS_USE, TARG, idxs_train, idxs_test, **FIT_KWARGS)\n",
    "    rgrs.append(rgr)"
   ]
  },
  {
   "cell_type": "code",
   "execution_count": null,
   "id": "acceptable-magic",
   "metadata": {},
   "outputs": [],
   "source": [
    "# save r2, weights, and example predictions\n",
    "save_data = {\n",
    "    'r2_train': np.array([rgr.r2_train for rgr in rgrs]),\n",
    "    'r2_test': np.array([rgr.r2_test for rgr in rgrs]),\n",
    "    'w': np.array([rgr.w for rgr in rgrs]),\n",
    "    'ys_train': [rgr.ys_train for rgr in rgrs[:2]],\n",
    "    'y_hats_train': [rgr.y_hats_train for rgr in rgrs[:2]],\n",
    "    'ys_test': [rgr.ys_test for rgr in rgrs[:2]],\n",
    "    'y_hats_test': [rgr.y_hats_test for rgr in rgrs[:2]],\n",
    "    'fit_fn': FIT_LIN.__name__,\n",
    "    'fit_kwargs': FIT_KWARGS,\n",
    "    'ntr': NTR,\n",
    "    'nsplit': NSPLIT,\n",
    "    'nr': len(R_COLS_USE)\n",
    "}\n",
    "\n",
    "np.save(SAVE_FILE, np.array([save_data]))"
   ]
  },
  {
   "cell_type": "code",
   "execution_count": null,
   "id": "continuing-plain",
   "metadata": {},
   "outputs": [],
   "source": [
    "TRAIN_IDX_PLOT = 0\n",
    "TEST_IDX_PLOT = 0\n",
    "\n",
    "data = np.load(SAVE_FILE, allow_pickle=True)[0]\n",
    "gs = gridspec.GridSpec(3, 3)\n",
    "fig = plt.figure(figsize=(12, 10), tight_layout=True)\n",
    "axs = [fig.add_subplot(gs[0, 0]), fig.add_subplot(gs[0, 1:]), fig.add_subplot(gs[1, :]), fig.add_subplot(gs[2, :])]\n",
    "\n",
    "axs[0].hist(np.transpose([data['r2_train'], data['r2_test']]), bins=30)\n",
    "axs[0].legend(['Train', 'Test'])\n",
    "set_plot(axs[0], x_label='R2', y_label='# splits', font_size=14)\n",
    "\n",
    "axs[1].bar(np.arange(data['w'].shape[1]), np.mean(data['w'], axis=0))\n",
    "set_plot(axs[1], x_label='Response ID', y_label='Weight', font_size=14)\n",
    "\n",
    "axs[2].plot(np.arange(len(data['ys_train'][0][TRAIN_IDX_PLOT])), data['ys_train'][0][TRAIN_IDX_PLOT], c='k', lw=2)\n",
    "axs[2].plot(np.arange(len(data['y_hats_train'][0][TRAIN_IDX_PLOT])), data['y_hats_train'][0][TRAIN_IDX_PLOT], c='r', lw=2)\n",
    "axs[2].legend(['True', 'Predicted'])\n",
    "set_plot(axs[2], y_lim=(-.5, 1), x_label='Timestep', y_label='FFV', title='Training data', font_size=14)\n",
    "\n",
    "axs[3].plot(np.arange(len(data['ys_test'][0][TEST_IDX_PLOT])), data['ys_test'][0][TEST_IDX_PLOT], c='k', lw=2)\n",
    "axs[3].plot(np.arange(len(data['y_hats_test'][0][TEST_IDX_PLOT])), data['y_hats_test'][0][TEST_IDX_PLOT], c='r', lw=2)\n",
    "axs[3].legend(['True', 'Predicted'])\n",
    "set_plot(axs[3], y_lim=(-.5, 1), x_label='Timestep', y_label='FFV', title='Held-out data', font_size=14)"
   ]
  }
 ],
 "metadata": {
  "kernelspec": {
   "display_name": "Python 3",
   "language": "python",
   "name": "python3"
  },
  "language_info": {
   "codemirror_mode": {
    "name": "ipython",
    "version": 3
   },
   "file_extension": ".py",
   "mimetype": "text/x-python",
   "name": "python",
   "nbconvert_exporter": "python",
   "pygments_lexer": "ipython3",
   "version": "3.6.13"
  }
 },
 "nbformat": 4,
 "nbformat_minor": 5
}

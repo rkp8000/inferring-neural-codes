{
 "cells": [
  {
   "cell_type": "markdown",
   "id": "4817a8b6",
   "metadata": {},
   "source": [
    "Plot MA param distributions after fitting to Baker et al data"
   ]
  },
  {
   "cell_type": "code",
   "execution_count": 1,
   "id": "786fee5c",
   "metadata": {},
   "outputs": [],
   "source": [
    "%matplotlib inline\n",
    "import matplotlib.pyplot as plt\n",
    "import numpy as np\n",
    "import os\n",
    "import pandas as pd\n",
    "\n",
    "from disp import set_plot\n",
    "\n",
    "FPS = 30.03\n",
    "DT = 1/FPS\n",
    "\n",
    "NNRN = 224"
   ]
  },
  {
   "cell_type": "code",
   "execution_count": 2,
   "id": "a002a64c",
   "metadata": {},
   "outputs": [],
   "source": [
    "data = np.load('data/simple/neur/baker_ma.npy', allow_pickle=True)[0]"
   ]
  },
  {
   "cell_type": "code",
   "execution_count": 6,
   "id": "3b776313",
   "metadata": {},
   "outputs": [
    {
     "data": {
      "image/png": "[encoded data removed]",
      "text/plain": [
       "<Figure size 720x180 with 4 Axes>"
      ]
     },
     "metadata": {
      "needs_background": "light"
     },
     "output_type": "display_data"
    }
   ],
   "source": [
    "fig, axs = plt.subplots(1, 4, figsize=(10, 2.5), tight_layout=True)\n",
    "axs[0].hist(1/data['TAU_R'], bins=np.linspace(0, 3, 15))\n",
    "axs[1].hist(1/data['TAU_A'], bins=np.linspace(0, 3, 15))\n",
    "axs[2].hist(data['X_S'], bins=np.linspace(-20, 20, 15))\n",
    "axs[3].hist(data['X_P'], bins=np.linspace(-20, 20, 15))\n",
    "\n",
    "set_plot(axs[0], x_label=r'$1/\\tau_r$', y_label='# ROIs', font_size=12)\n",
    "set_plot(axs[1], x_label=r'$1/\\tau_a$', y_label='# ROIs', font_size=12)\n",
    "set_plot(axs[2], x_label=r'$x_s$', y_label='# ROIs', font_size=12)\n",
    "set_plot(axs[3], x_label=r'$x_p$', y_label='# ROIs', font_size=12)\n",
    "\n",
    "fig.savefig('supp/3_ma_params.svg')"
   ]
  },
  {
   "cell_type": "code",
   "execution_count": null,
   "id": "f9816029",
   "metadata": {},
   "outputs": [],
   "source": []
  }
 ],
 "metadata": {
  "kernelspec": {
   "display_name": "Python 3 (ipykernel)",
   "language": "python",
   "name": "python3"
  },
  "language_info": {
   "codemirror_mode": {
    "name": "ipython",
    "version": 3
   },
   "file_extension": ".py",
   "mimetype": "text/x-python",
   "name": "python",
   "nbconvert_exporter": "python",
   "pygments_lexer": "ipython3",
   "version": "3.9.13"
  }
 },
 "nbformat": 4,
 "nbformat_minor": 5
}

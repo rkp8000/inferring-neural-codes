{
 "cells": [
  {
   "cell_type": "markdown",
   "id": "34961740",
   "metadata": {},
   "source": [
    "Given a set of MA params, we derive the linear filter giving the same response to a step input:"
   ]
  },
  {
   "cell_type": "markdown",
   "id": "33b06768",
   "metadata": {},
   "source": [
    "$$\\tau_r \\frac{dr}{dt} = -r + x_s(1-a_s)I_s + x_p(1-a_p)I_p$$\n",
    "\n",
    "$$\\tau_a \\frac{da_s}{dt} = -a_s + I_s \\quad \\quad \\tau_a \\frac{da_p}{dt} = -a_p + I_p$$"
   ]
  },
  {
   "cell_type": "markdown",
   "id": "5ce7afde",
   "metadata": {},
   "source": [
    "When $I_s = 1, I_p=0$:\n",
    "\n",
    "$$a_s(t) = (1 - \\exp(-t/\\tau_a))\\Theta(t) \\quad \\quad \\tau_r \\frac{dr}{dt} = -r + x_s \\exp(-t/\\tau_a) \\Theta(t)$$"
   ]
  },
  {
   "cell_type": "markdown",
   "id": "7115edb7",
   "metadata": {},
   "source": [
    "$$r(t) = h_r \\ast x_s \\exp(-t/\\tau_a)\\Theta(t)$$\n",
    "\n",
    "where\n",
    "\n",
    "$$h_r = \\Theta(t)\\exp(-t/\\tau_r)/\\tau_r$$"
   ]
  },
  {
   "cell_type": "markdown",
   "id": "6ac3e419",
   "metadata": {},
   "source": [
    "$$r(t) = \\int_0^\\infty u(t-t') h(t') dt' = \\frac{1}{\\tau_r}\\int_0^\\infty x_s \\Theta(t-t')\\exp(-(t-t')/\\tau_a) \\exp(-t'/\\tau_r) dt'$$\n",
    "\n",
    "$$ = \\frac{1}{\\tau_r}\\int_0^t x_s \\exp(-(t-t')/\\tau_a) \\exp(-t'/\\tau_r) dt'$$"
   ]
  },
  {
   "cell_type": "markdown",
   "id": "e432969a",
   "metadata": {},
   "source": [
    "$$=x_s \\frac{1}{\\tau_r}\\exp(-t/\\tau_a) \\int_0^t  \\exp(t'/\\tau_a) \\exp(-t'/\\tau_r)dt'$$"
   ]
  },
  {
   "cell_type": "markdown",
   "id": "677171c1",
   "metadata": {},
   "source": [
    "$$\\frac{t'}{\\tau_a} - \\frac{t'}{\\tau_r} = \\frac{\\tau_r - \\tau_a}{\\tau_a \\tau_r}t' = \\gamma t'$$"
   ]
  },
  {
   "cell_type": "markdown",
   "id": "ef9ab01a",
   "metadata": {},
   "source": [
    "$$=x_s \\exp(-t/\\tau_a) \\frac{1}{\\tau_r}\\int_0^t \\exp\\left( \\gamma t'\\right) dt'$$"
   ]
  },
  {
   "cell_type": "markdown",
   "id": "b97a5bce",
   "metadata": {},
   "source": [
    "$$=x_s \\exp(-t/\\tau_a) \\frac{1}{\\tau_r}\\left[ \\frac{1}{\\gamma} \\exp\\left( \\gamma t'\\right)\\bigg |^t_{t' = 0} \\right]$$"
   ]
  },
  {
   "cell_type": "markdown",
   "id": "c8911453",
   "metadata": {},
   "source": [
    "$$=\\frac{x_s}{\\gamma\\tau_r}\\exp(-t/\\tau_a)  \\left[ \\exp\\left( \\gamma t\\right) - 1 \\right]$$"
   ]
  },
  {
   "cell_type": "code",
   "execution_count": 4,
   "id": "c95010ba",
   "metadata": {},
   "outputs": [],
   "source": [
    "%matplotlib inline\n",
    "import matplotlib.pyplot as plt\n",
    "import numpy as np\n",
    "\n",
    "from disp import set_plot\n",
    "\n",
    "DT = 0.01\n",
    "\n",
    "T = np.arange(0, 20, DT)\n",
    "\n",
    "\n",
    "def ma_to_h_ln(tau_r, tau_a, x_s, x_p, dt):\n",
    "    \"\"\"Given a set of MA params, get LN filters that match MA step response.\"\"\"\n",
    "    th = np.arange(0, np.min([10*np.max([tau_r, tau_a]), 200]), dt)  # filter time vec\n",
    "    gam = (1/tau_a) - (1/tau_r)\n",
    "    \n",
    "    if np.abs(gam) > 1e-8:\n",
    "        h_s = (x_s/(tau_r/tau_a - 1))*((-1/tau_r)*np.exp(-th/tau_r) + (1/tau_a)*np.exp(-th/tau_a))\n",
    "        h_p = (x_p/(tau_r/tau_a - 1))*((-1/tau_r)*np.exp(-th/tau_r) + (1/tau_a)*np.exp(-th/tau_a))\n",
    "    else:\n",
    "        h_s = (x_s/tau_r)*(np.exp(-th/tau_a) - (th/tau_a)*np.exp(-th/tau_a))\n",
    "        h_p = (x_p/tau_r)*(np.exp(-th/tau_a) - (th/tau_a)*np.exp(-th/tau_a))\n",
    "        \n",
    "    return h_s, h_p, th"
   ]
  },
  {
   "cell_type": "code",
   "execution_count": 7,
   "id": "50a7cf20",
   "metadata": {},
   "outputs": [],
   "source": [
    "x_s = -1\n",
    "\n",
    "tau_r = 1\n",
    "tau_a = 10 #1.9999\n",
    "\n",
    "r_ma = np.nan*np.zeros(len(T))\n",
    "a_s = np.nan*np.zeros(len(T))\n",
    "\n",
    "r_ma[0] = 0\n",
    "a_s[0] = 0\n",
    "\n",
    "for ct, t_ in enumerate(T[1:], 1):\n",
    "    da_s = DT/tau_a*(-a_s[ct-1] + 1)\n",
    "    a_s[ct] = a_s[ct-1] + da_s\n",
    "    \n",
    "    dr_ma = DT/tau_r*(-r_ma[ct-1] + x_s*(1-a_s[ct]))\n",
    "    r_ma[ct] = r_ma[ct-1] + dr_ma"
   ]
  },
  {
   "cell_type": "code",
   "execution_count": 8,
   "id": "94a52962",
   "metadata": {},
   "outputs": [
    {
     "data": {
      "image/png": "[encoded data removed]",
      "text/plain": [
       "<Figure size 720x216 with 2 Axes>"
      ]
     },
     "metadata": {
      "needs_background": "light"
     },
     "output_type": "display_data"
    }
   ],
   "source": [
    "h_s, h_p, th = ma_to_h_ln(tau_r, tau_a, x_s, 0, DT)\n",
    "\n",
    "fig, axs = plt.subplots(1, 2, figsize=(10, 3), tight_layout=True)\n",
    "axs[0].plot(T, r_ma, c='k', lw=1)\n",
    "axs[0].plot(th, h_s.cumsum()*DT, c='m', lw=4, ls='--')\n",
    "axs[0].grid()\n",
    "set_plot(axs[0], x_label='Time (s)', y_label='r', font_size=12)\n",
    "\n",
    "axs[1].plot(T, np.gradient(r_ma)/DT, c='k', lw=1)\n",
    "axs[1].plot(th, h_s, c='m', lw=4, ls='--')\n",
    "axs[1].grid()\n",
    "set_plot(axs[1], x_label='Time (s)', y_label='dr/dt', font_size=12)"
   ]
  },
  {
   "cell_type": "code",
   "execution_count": null,
   "id": "9e43c7f8",
   "metadata": {},
   "outputs": [],
   "source": []
  }
 ],
 "metadata": {
  "kernelspec": {
   "display_name": "Python 3",
   "language": "python",
   "name": "python3"
  },
  "language_info": {
   "codemirror_mode": {
    "name": "ipython",
    "version": 3
   },
   "file_extension": ".py",
   "mimetype": "text/x-python",
   "name": "python",
   "nbconvert_exporter": "python",
   "pygments_lexer": "ipython3",
   "version": "3.7.10"
  }
 },
 "nbformat": 4,
 "nbformat_minor": 5
}

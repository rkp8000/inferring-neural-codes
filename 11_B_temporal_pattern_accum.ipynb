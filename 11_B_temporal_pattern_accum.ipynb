{
 "cells": [
  {
   "cell_type": "markdown",
   "id": "c86728d6",
   "metadata": {},
   "source": [
    "# Compare ability of NA pop vs integrator bank to selectively accumulate specific song motifs"
   ]
  },
  {
   "cell_type": "code",
   "execution_count": 1,
   "id": "a8598cc8",
   "metadata": {},
   "outputs": [],
   "source": [
    "%matplotlib inline\n",
    "import matplotlib.gridspec as gridspec\n",
    "import matplotlib.pyplot as plt\n",
    "import numpy as np\n",
    "import os\n",
    "import pandas as pd\n",
    "from scipy import signal, stats\n",
    "from sklearn import decomposition, linear_model\n",
    "import sys\n",
    "import warnings; warnings.filterwarnings(\"ignore\")\n",
    "\n",
    "from aux import get_seg, rand_string, mv_avg\n",
    "from disp import set_plot, plot_b, colors\n",
    "from record_0_main import smlt_ma, smlt_lnma\n",
    "from my_stats import nanpearsonr\n",
    "\n",
    "cc = np.concatenate\n",
    "\n",
    "FPS = 30.03  # sampling rate of behavioral data\n",
    "DT = 1/FPS"
   ]
  },
  {
   "cell_type": "code",
   "execution_count": 2,
   "id": "25b769cd",
   "metadata": {},
   "outputs": [],
   "source": [
    "N = 20\n",
    "\n",
    "params_ma = {\n",
    "    'TAU_R': np.random.uniform(20, 120, N),\n",
    "    'TAU_A': np.random.uniform(.1, 2, N),\n",
    "    'X_S': np.random.uniform(0, 1, N),\n",
    "    'X_P': np.random.uniform(0, 1, N),\n",
    "}\n",
    "\n",
    "params_lnma_0 = {\n",
    "    'TAU_R': np.random.uniform(20, 120, N),\n",
    "    'TAU_A': np.random.uniform(.1, 2, N),\n",
    "    # 'TAU_A': np.repeat(np.inf, N),\n",
    "    'X_S': np.random.uniform(0, 1, N),\n",
    "    'X_P': np.random.uniform(0, 1, N),\n",
    "}\n",
    "\n",
    "params_lnma_1 = {\n",
    "    'TAU_R': np.random.uniform(20, 120, N),\n",
    "    # 'TAU_A': np.random.uniform(.1, 2, N),\n",
    "    'TAU_A': np.repeat(np.inf, N),\n",
    "    'X_S': np.random.uniform(0, 1, N),\n",
    "    'X_P': np.random.uniform(0, 1, N),\n",
    "}"
   ]
  },
  {
   "cell_type": "code",
   "execution_count": 3,
   "id": "3e682950",
   "metadata": {},
   "outputs": [
    {
     "data": {
      "text/plain": [
       "(0.0, 20.0)"
      ]
     },
     "execution_count": 3,
     "metadata": {},
     "output_type": "execute_result"
    },
    {
     "data": {
      "image/png": "[encoded data removed]",
      "text/plain": [
       "<Figure size 864x216 with 1 Axes>"
      ]
     },
     "metadata": {
      "needs_background": "light"
     },
     "output_type": "display_data"
    }
   ],
   "source": [
    "# get snippets\n",
    "T_SNP = 300  # min snippet length to fetch\n",
    "NT_SNP = int(round(T_SNP*FPS))\n",
    "t_snp = np.arange(NT_SNP)*DT\n",
    "\n",
    "snps = []\n",
    "rs_full_ma = []\n",
    "rs_full_lnma_0 = []\n",
    "rs_full_lnma_1 = []\n",
    "\n",
    "# make two example trials\n",
    "\n",
    "# short pulses\n",
    "i_s_0 = np.zeros(NT_SNP)\n",
    "i_p_0 = np.zeros(NT_SNP)\n",
    "\n",
    "# long pulses\n",
    "i_s_1 = np.zeros(NT_SNP)\n",
    "i_p_1 = np.zeros(NT_SNP)\n",
    "\n",
    "t_start = 1\n",
    "\n",
    "while t_start < (T_SNP-10):\n",
    "    it_start = int(round(t_start*FPS))\n",
    "    \n",
    "    # short pulses\n",
    "    i_p_0[it_start-15] = 1\n",
    "    i_p_0[it_start-10] = 1\n",
    "    i_p_0[it_start-5] = 1\n",
    "    i_p_0[it_start] = 1\n",
    "    i_p_0[it_start+5] = 1\n",
    "    i_p_0[it_start+10] = 1\n",
    "    i_p_0[it_start+15] = 1\n",
    "    \n",
    "    # long pulse\n",
    "    i_p_1[it_start-4:it_start+3] = 1\n",
    "    \n",
    "    t_start += 3\n",
    "    \n",
    "snp_0 = np.zeros(NT_SNP)\n",
    "snp_0[i_s_0 == 1] = 1\n",
    "snp_0[i_p_0 == 1] = 2\n",
    "\n",
    "snp_1 = np.zeros(NT_SNP)\n",
    "snp_1[i_s_1 == 1] = 1\n",
    "snp_1[i_p_1 == 1] = 2\n",
    "    \n",
    "fig, ax = plt.subplots(1, 1, figsize=(12, 3), tight_layout=True)\n",
    "plot_b(ax, t_snp, snp_0, extent=[0, t_snp.max(), 0, 1], c=[(.9, .9, .9), 'b', 'r'])\n",
    "plot_b(ax, t_snp, snp_1, extent=[0, t_snp.max(), 3, 4], c=[(.9, .9, .9), 'b', 'r'])\n",
    "ax.set_xlim(0, 20)"
   ]
  },
  {
   "cell_type": "code",
   "execution_count": 4,
   "id": "329446e6",
   "metadata": {},
   "outputs": [],
   "source": [
    "snps = [snp_0, snp_1]"
   ]
  },
  {
   "cell_type": "code",
   "execution_count": 5,
   "id": "57ab5b72",
   "metadata": {},
   "outputs": [
    {
     "name": "stdout",
     "output_type": "stream",
     "text": [
      ".."
     ]
    }
   ],
   "source": [
    "for snp in snps:\n",
    "    sys.stdout.write('.')\n",
    "\n",
    "    i_s = (snp == 1).astype(float)\n",
    "    i_p = (snp == 2).astype(float)\n",
    "\n",
    "    t_snp = np.arange(len(snp))*DT\n",
    "\n",
    "    rs_ma = smlt_ma(i_s, i_p, params_ma, DT)\n",
    "    rs_full_ma.append(rs_ma)\n",
    "    \n",
    "    rs_lnma_0 = smlt_lnma(i_s, i_p, params_lnma_0, DT)\n",
    "    rs_full_lnma_0.append(rs_lnma_0)\n",
    "    \n",
    "    rs_lnma_1 = smlt_lnma(i_s, i_p, params_lnma_1, DT)\n",
    "    rs_full_lnma_1.append(rs_lnma_1)"
   ]
  },
  {
   "cell_type": "markdown",
   "id": "3b60163c",
   "metadata": {},
   "source": [
    "## Trained readouts"
   ]
  },
  {
   "cell_type": "code",
   "execution_count": 6,
   "id": "d38633c0",
   "metadata": {},
   "outputs": [],
   "source": [
    "y_0 = t_snp.copy()/t_snp.max()\n",
    "y_1 = np.zeros(len(y_0))  #-y_0"
   ]
  },
  {
   "cell_type": "markdown",
   "id": "25b09df7",
   "metadata": {},
   "source": [
    "## Fit to both targets together"
   ]
  },
  {
   "cell_type": "code",
   "execution_count": 7,
   "id": "022a1099",
   "metadata": {},
   "outputs": [
    {
     "name": "stdout",
     "output_type": "stream",
     "text": [
      "Error: 0.011041028741915697\n",
      "Error: 0.29168878847223917\n",
      "Error: 0.28871066059317235\n"
     ]
    },
    {
     "data": {
      "image/png": "[encoded data removed]",
      "text/plain": [
       "<Figure size 396x324 with 2 Axes>"
      ]
     },
     "metadata": {
      "needs_background": "light"
     },
     "output_type": "display_data"
    }
   ],
   "source": [
    "ALPHA = 1e-7\n",
    "fig, axs = plt.subplots(2, 1, figsize=(5.5, 4.5), tight_layout=True, sharex=True, sharey=True)\n",
    "axs[0].plot(t_snp, y_0, c='limegreen', lw=2)\n",
    "axs[1].plot(t_snp, y_1, c='limegreen', lw=2)\n",
    "\n",
    "# mt = np.arange(0, len(t_snp), 30)\n",
    "\n",
    "for rs_full, color in zip([rs_full_ma, rs_full_lnma_0, rs_full_lnma_1], ['k', (1, 0, 1), (.5, 0, .5)]):\n",
    "    xs = cc(rs_full, axis=0)\n",
    "    y = cc([y_0, y_1])\n",
    "    \n",
    "    rgr = linear_model.Ridge(alpha=ALPHA)\n",
    "    rgr.fit(xs, y)\n",
    "    \n",
    "    y_hat_0 = rgr.predict(rs_full[0])\n",
    "    y_hat_1 = rgr.predict(rs_full[1])\n",
    "    \n",
    "    rms_err = np.sqrt(np.mean(np.array([(y_hat_0 - y_0)**2, (y_hat_1 - y_1)**2])))\n",
    "    print(f'Error: {rms_err}')\n",
    "    \n",
    "    axs[0].plot(t_snp, mv_avg(t_snp, y_hat_0, 3), c=color, lw=2)\n",
    "    axs[1].plot(t_snp, mv_avg(t_snp, y_hat_1, 3), c=color, lw=2)\n",
    "    \n",
    "mt = (0 <= t_snp) & (t_snp < 5)\n",
    "plot_b(axs[0], t_snp[mt], snp_0[mt], [0, 200, .8, .9], c=((.9, .9, .9), 'b', 'r'))\n",
    "plot_b(axs[1], t_snp[mt], snp_1[mt], [0, 200, .8, .9], c=((.9, .9, .9), 'b', 'r'))\n",
    "\n",
    "plot_b(axs[0], t_snp, snp_0, [0, 300, -.5, -.4], c=((.9, .9, .9), 'b', 'r'))\n",
    "plot_b(axs[1], t_snp, snp_1, [0, 300, -.5, -.4], c=((.9, .9, .9), 'b', 'r'))\n",
    "    \n",
    "axs[0].legend(['Target', 'MA', 'LN_0','LN_1'], loc='center right')\n",
    "set_plot(axs[0], y_label='Output')\n",
    "set_plot(axs[1], x_label='Time (s)', y_label='Output')\n",
    "\n",
    "fig.savefig('ms/5_temporal_pattern_accum.svg')"
   ]
  },
  {
   "cell_type": "markdown",
   "id": "830b279c",
   "metadata": {},
   "source": [
    "## Fit to individual targets"
   ]
  },
  {
   "cell_type": "code",
   "execution_count": 8,
   "id": "55e4aa7b",
   "metadata": {},
   "outputs": [
    {
     "data": {
      "image/png": "[encoded data removed]",
      "text/plain": [
       "<Figure size 720x216 with 2 Axes>"
      ]
     },
     "metadata": {
      "needs_background": "light"
     },
     "output_type": "display_data"
    }
   ],
   "source": [
    "ALPHA = 1e-10\n",
    "fig, axs = plt.subplots(1, 2, figsize=(10, 3), tight_layout=True)\n",
    "axs[0].plot(t_snp, y_0, c='g', lw=2)\n",
    "axs[1].plot(t_snp, y_1, c='g', lw=2)\n",
    "\n",
    "for rs_full, color in zip([rs_full_ma, rs_full_lnma_0, rs_full_lnma_1], ['k', 'm']):\n",
    "    rgr = linear_model.Ridge(alpha=ALPHA)\n",
    "    rgr.fit(rs_full[0], y_0)\n",
    "    \n",
    "    y_hat_0 = rgr.predict(rs_full[0])\n",
    "    axs[0].plot(t_snp, y_hat_0, c=color, lw=2)\n",
    "    \n",
    "    rgr = linear_model.Ridge(alpha=ALPHA)\n",
    "    rgr.fit(rs_full[1], y_1)\n",
    "    \n",
    "    y_hat_1 = rgr.predict(rs_full[1])\n",
    "    \n",
    "    axs[1].plot(t_snp, y_hat_1, c=color, lw=2)\n",
    "    \n",
    "mt = (0 <= t_snp) & (t_snp < 5)\n",
    "plot_b(axs[0], t_snp[mt], snp_0[mt], [0, 200, .8, .9], c=((.9, .9, .9), 'b', 'r'))\n",
    "plot_b(axs[1], t_snp[mt], snp_1[mt], [100, 300, -.2, -.1], c=((.9, .9, .9), 'b', 'r'))\n",
    "    \n",
    "axs[0].legend(['Target', 'MA', 'Non-adaptive LN'], loc='center right')\n",
    "set_plot(axs[0], x_label='Time (s)', y_label='Output', title='Pulse trains')\n",
    "set_plot(axs[1], x_label='Time (s)', title='Long pulses')\n",
    "\n",
    "# fig.savefig('supp/4_ma_vs_pure_int_long_pulses_vs_trains_indiv.svg')"
   ]
  },
  {
   "cell_type": "code",
   "execution_count": null,
   "id": "cbe5aff1",
   "metadata": {},
   "outputs": [],
   "source": []
  }
 ],
 "metadata": {
  "kernelspec": {
   "display_name": "Python 3",
   "language": "python",
   "name": "python3"
  },
  "language_info": {
   "codemirror_mode": {
    "name": "ipython",
    "version": 3
   },
   "file_extension": ".py",
   "mimetype": "text/x-python",
   "name": "python",
   "nbconvert_exporter": "python",
   "pygments_lexer": "ipython3",
   "version": "3.7.10"
  }
 },
 "nbformat": 4,
 "nbformat_minor": 5
}

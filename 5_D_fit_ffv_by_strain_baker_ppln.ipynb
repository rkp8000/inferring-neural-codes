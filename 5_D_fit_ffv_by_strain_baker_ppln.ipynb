{
 "cells": [
  {
   "cell_type": "markdown",
   "id": "386a93d9",
   "metadata": {},
   "source": [
    "# Compare song->neural->ffv predictions conditioned on strain"
   ]
  },
  {
   "cell_type": "markdown",
   "id": "42cb7e79",
   "metadata": {},
   "source": [
    "## Vanilla linear regression"
   ]
  },
  {
   "cell_type": "code",
   "execution_count": 1,
   "id": "a5a496ef",
   "metadata": {},
   "outputs": [],
   "source": [
    "%matplotlib inline\n",
    "import matplotlib.gridspec as gridspec\n",
    "import matplotlib.pyplot as plt\n",
    "import numpy as np\n",
    "import pandas as pd\n",
    "from scipy import stats\n",
    "from sklearn import linear_model\n",
    "import sys\n",
    "\n",
    "from aux import load_npy\n",
    "from disp import set_plot\n",
    "from my_torch import skl_fit_lin\n",
    "\n",
    "cc = np.concatenate\n",
    "\n",
    "NSPLIT = 30\n",
    "STRAIN_FILE = 'data/simple/strains.csv'\n",
    "\n",
    "FIT_LIN = skl_fit_lin\n",
    "FIT_KWARGS = {}"
   ]
  },
  {
   "cell_type": "code",
   "execution_count": 2,
   "id": "327f5cb0",
   "metadata": {},
   "outputs": [],
   "source": [
    "# NRL_MDL = 'lin'  # linear neural model\n",
    "# NRL_MDL = 'ln'  # linear-nonlinear model\n",
    "NRL_MDL = 'dyn'  # dynamical neural model\n",
    "\n",
    "DF_BAKER_FIT_PARAM = pd.read_csv(f'data/simple/neur/baker_{NRL_MDL}_fit_param.csv')\n",
    "\n",
    "DF_STRAIN = pd.read_csv(STRAIN_FILE)\n",
    "STRAINS = np.array(DF_STRAIN['STRAIN'])\n",
    "STRAINS_UNIQUE = np.unique(STRAINS)\n",
    "\n",
    "ROI_SET, R_COLS_USE = 'all', [f'R_{ir}' for ir in DF_BAKER_FIT_PARAM.EXPT_ID]\n",
    "\n",
    "TARG = 'FFV'\n",
    "\n",
    "PFX_BHV_0 = f'data/simple/mlv/neur_basic/baker_{NRL_MDL}/mlv_baker_{NRL_MDL}'\n",
    "PFX_BHV_1 = f'data/simple/behav_xtd/behav_xtd'"
   ]
  },
  {
   "cell_type": "code",
   "execution_count": null,
   "id": "cf416287",
   "metadata": {},
   "outputs": [
    {
     "name": "stdout",
     "output_type": "stream",
     "text": [
      "[276 277 278 279 280 281 282 283 284 285 286 287 288 289 290 291 292 293\n",
      " 294 295 296 297 298 299 300 301 302 303 304 305 306 307 308 309 310 311\n",
      " 312 313 314 315 316 317 318 319 320 321 322 323 324 325 326 327 328 329\n",
      " 330 331 332 333 334 335 336 337 338 339 340 341 342 343 344 345 346 347\n",
      " 348 349 350 351 352 353 354 355 356 357 358 359]\n",
      "Strain WTG, 84 trials...\n",
      "Split 0\n",
      "Loading...\n",
      "Fitting...\n",
      "Split 1\n",
      "Loading...\n",
      "Fitting...\n",
      "Split 2\n",
      "Loading...\n",
      "Fitting...\n",
      "Split 3\n",
      "Loading...\n",
      "Fitting...\n",
      "Split 4\n",
      "Loading...\n"
     ]
    }
   ],
   "source": [
    "for strain in STRAINS_UNIQUE:\n",
    "    mstrain = (STRAINS == strain)\n",
    "    idxs_strain = np.arange(len(mstrain))[mstrain]\n",
    "    print(idxs_strain)\n",
    "    ntr = mstrain.sum()\n",
    "    \n",
    "    print(f'Strain {strain}, {ntr} trials...')\n",
    "    save_file = f'data/simple/mlv/neur_basic/baker_{NRL_MDL}_{strain.lower()}_{TARG.lower()}.npy'\n",
    "    \n",
    "    ntrain = int(round(.8*ntr))\n",
    "\n",
    "    # fit regression models\n",
    "    rslts = []\n",
    "    for csplit in range(NSPLIT):\n",
    "        print(f'Split {csplit}')\n",
    "        rnd_idxs = np.random.permutation(ntr)\n",
    "        idxs_train = idxs_strain[rnd_idxs[:ntrain]]\n",
    "        idxs_test = idxs_strain[rnd_idxs[ntrain:]]\n",
    "        rslt = FIT_LIN([PFX_BHV_0, PFX_BHV_1], R_COLS_USE, [TARG], idxs_train, idxs_test, verbose=False, **FIT_KWARGS)\n",
    "        rslts.append(rslt)\n",
    "\n",
    "    # save r2, weights, and example predictions\n",
    "    save_data = {\n",
    "        'r2_train': np.array([rslt.r2_train['FFV'] for rslt in rslts]),\n",
    "        'r2_test': np.array([rslt.r2_test['FFV'] for rslt in rslts]),\n",
    "        'w': np.array([rslt.w['FFV'] for rslt in rslts]),\n",
    "        'ntr': ntr,\n",
    "        'nsplit': NSPLIT,\n",
    "        'nr': len(R_COLS_USE)\n",
    "    }\n",
    "\n",
    "    np.save(save_file, np.array([save_data]))"
   ]
  },
  {
   "cell_type": "code",
   "execution_count": 4,
   "id": "17d64504",
   "metadata": {},
   "outputs": [
    {
     "data": {
      "image/png": "[encoded data removed]",
      "text/plain": [
       "<Figure size 720x360 with 1 Axes>"
      ]
     },
     "metadata": {
      "needs_background": "light"
     },
     "output_type": "display_data"
    }
   ],
   "source": [
    "fig, ax = plt.subplots(1, 1, figsize=(10, 5), tight_layout=True)\n",
    "\n",
    "strain_combos = list(STRAINS_UNIQUE) + ['NM91_ZH23', 'NM91_ZH23_CarM03']\n",
    "\n",
    "for cstrain, strain in enumerate(strain_combos):\n",
    "    data = load_npy(f'data/simple/mlv/neur_basic/baker_{NRL_MDL}_{strain.lower()}_{TARG.lower()}.npy')\n",
    "        \n",
    "    r2_mn = data['r2_test'].mean()\n",
    "    r2_std = data['r2_test'].std()\n",
    "    r2_sem = r2_std/np.sqrt(data['nsplit'])\n",
    "\n",
    "    ax.bar([cstrain], [r2_mn], yerr=[r2_sem])\n",
    "\n",
    "ax.axhline(0, lw=2, c='k', ls='--')\n",
    "ax.set_xticks(np.arange(len(strain_combos)))\n",
    "ax.set_xticklabels(strain_combos, rotation=45)\n",
    "\n",
    "ax.set_ylabel('R2 test')\n",
    "\n",
    "ax.set_ylim(-0.1, .1)\n",
    "ax.grid()\n",
    "\n",
    "set_plot(ax, font_size=14)"
   ]
  }
 ],
 "metadata": {
  "kernelspec": {
   "display_name": "Python 3",
   "language": "python",
   "name": "python3"
  },
  "language_info": {
   "codemirror_mode": {
    "name": "ipython",
    "version": 3
   },
   "file_extension": ".py",
   "mimetype": "text/x-python",
   "name": "python",
   "nbconvert_exporter": "python",
   "pygments_lexer": "ipython3",
   "version": "3.7.10"
  }
 },
 "nbformat": 4,
 "nbformat_minor": 5
}

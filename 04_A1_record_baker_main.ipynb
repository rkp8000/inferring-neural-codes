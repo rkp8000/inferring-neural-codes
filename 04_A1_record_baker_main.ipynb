{
 "cells": [
  {
   "cell_type": "markdown",
   "id": "6c9b5a4a",
   "metadata": {},
   "source": [
    "# \"Record\" simulated neural activity from basic models (NA, LN, LINEAR)"
   ]
  },
  {
   "cell_type": "code",
   "execution_count": 1,
   "id": "4edf3309",
   "metadata": {},
   "outputs": [],
   "source": [
    "%matplotlib inline\n",
    "import matplotlib.pyplot as plt\n",
    "import numpy as np\n",
    "import os\n",
    "import pandas as pd\n",
    "import sys\n",
    "import warnings; warnings.filterwarnings(\"ignore\")\n",
    "\n",
    "from aux import load_npy\n",
    "from record_0_main import smlt_ma, smlt_linma, smlt_lnma\n",
    "from record_2_lin_ln import smlt_lnma_tweaked\n",
    "\n",
    "cc = np.concatenate\n",
    "\n",
    "FPS_DN = 8.5  # sampling rate from neural data\n",
    "DT_DN = 1/FPS_DN\n",
    "\n",
    "FPS = 30.03  # sampling rate of behavioral data\n",
    "DT = 1/FPS"
   ]
  },
  {
   "cell_type": "markdown",
   "id": "5889aa73",
   "metadata": {},
   "source": [
    "Load either Coen or WT Gold behavior data"
   ]
  },
  {
   "cell_type": "code",
   "execution_count": 2,
   "id": "ee725c02",
   "metadata": {},
   "outputs": [
    {
     "data": {
      "text/html": [
       "<div>\n",
       "<style scoped>\n",
       "    .dataframe tbody tr th:only-of-type {\n",
       "        vertical-align: middle;\n",
       "    }\n",
       "\n",
       "    .dataframe tbody tr th {\n",
       "        vertical-align: top;\n",
       "    }\n",
       "\n",
       "    .dataframe thead th {\n",
       "        text-align: right;\n",
       "    }\n",
       "</style>\n",
       "<table border=\"1\" class=\"dataframe\">\n",
       "  <thead>\n",
       "    <tr style=\"text-align: right;\">\n",
       "      <th></th>\n",
       "      <th>ID</th>\n",
       "      <th>FRAME</th>\n",
       "      <th>T</th>\n",
       "      <th>Q</th>\n",
       "      <th>S</th>\n",
       "      <th>P</th>\n",
       "      <th>F</th>\n",
       "      <th>FFV</th>\n",
       "      <th>FFA</th>\n",
       "      <th>FLS</th>\n",
       "      <th>FRS</th>\n",
       "      <th>FMFV</th>\n",
       "      <th>FMLS</th>\n",
       "    </tr>\n",
       "  </thead>\n",
       "  <tbody>\n",
       "    <tr>\n",
       "      <th>0</th>\n",
       "      <td>0</td>\n",
       "      <td>0</td>\n",
       "      <td>0.000000</td>\n",
       "      <td>1</td>\n",
       "      <td>0</td>\n",
       "      <td>0</td>\n",
       "      <td>0</td>\n",
       "      <td>0.231</td>\n",
       "      <td>0.0000</td>\n",
       "      <td>0.159</td>\n",
       "      <td>0.077</td>\n",
       "      <td>-0.058526</td>\n",
       "      <td>0.274257</td>\n",
       "    </tr>\n",
       "    <tr>\n",
       "      <th>1</th>\n",
       "      <td>0</td>\n",
       "      <td>1</td>\n",
       "      <td>0.033300</td>\n",
       "      <td>1</td>\n",
       "      <td>0</td>\n",
       "      <td>0</td>\n",
       "      <td>0</td>\n",
       "      <td>0.314</td>\n",
       "      <td>0.0385</td>\n",
       "      <td>0.025</td>\n",
       "      <td>0.044</td>\n",
       "      <td>0.100623</td>\n",
       "      <td>0.298490</td>\n",
       "    </tr>\n",
       "    <tr>\n",
       "      <th>2</th>\n",
       "      <td>0</td>\n",
       "      <td>2</td>\n",
       "      <td>0.066600</td>\n",
       "      <td>1</td>\n",
       "      <td>0</td>\n",
       "      <td>0</td>\n",
       "      <td>0</td>\n",
       "      <td>0.308</td>\n",
       "      <td>0.0025</td>\n",
       "      <td>0.029</td>\n",
       "      <td>0.011</td>\n",
       "      <td>0.147629</td>\n",
       "      <td>0.271865</td>\n",
       "    </tr>\n",
       "    <tr>\n",
       "      <th>3</th>\n",
       "      <td>0</td>\n",
       "      <td>3</td>\n",
       "      <td>0.099900</td>\n",
       "      <td>1</td>\n",
       "      <td>0</td>\n",
       "      <td>0</td>\n",
       "      <td>0</td>\n",
       "      <td>0.319</td>\n",
       "      <td>0.0020</td>\n",
       "      <td>0.016</td>\n",
       "      <td>0.016</td>\n",
       "      <td>0.091174</td>\n",
       "      <td>0.306112</td>\n",
       "    </tr>\n",
       "    <tr>\n",
       "      <th>4</th>\n",
       "      <td>0</td>\n",
       "      <td>4</td>\n",
       "      <td>0.133200</td>\n",
       "      <td>1</td>\n",
       "      <td>0</td>\n",
       "      <td>0</td>\n",
       "      <td>0</td>\n",
       "      <td>0.312</td>\n",
       "      <td>-0.0315</td>\n",
       "      <td>0.030</td>\n",
       "      <td>0.002</td>\n",
       "      <td>0.065871</td>\n",
       "      <td>0.306439</td>\n",
       "    </tr>\n",
       "    <tr>\n",
       "      <th>...</th>\n",
       "      <td>...</td>\n",
       "      <td>...</td>\n",
       "      <td>...</td>\n",
       "      <td>...</td>\n",
       "      <td>...</td>\n",
       "      <td>...</td>\n",
       "      <td>...</td>\n",
       "      <td>...</td>\n",
       "      <td>...</td>\n",
       "      <td>...</td>\n",
       "      <td>...</td>\n",
       "      <td>...</td>\n",
       "      <td>...</td>\n",
       "    </tr>\n",
       "    <tr>\n",
       "      <th>4978565</th>\n",
       "      <td>275</td>\n",
       "      <td>27100</td>\n",
       "      <td>902.430902</td>\n",
       "      <td>1</td>\n",
       "      <td>0</td>\n",
       "      <td>0</td>\n",
       "      <td>0</td>\n",
       "      <td>0.217</td>\n",
       "      <td>0.0280</td>\n",
       "      <td>0.029</td>\n",
       "      <td>0.058</td>\n",
       "      <td>-0.171418</td>\n",
       "      <td>0.136184</td>\n",
       "    </tr>\n",
       "    <tr>\n",
       "      <th>4978566</th>\n",
       "      <td>275</td>\n",
       "      <td>27101</td>\n",
       "      <td>902.464202</td>\n",
       "      <td>1</td>\n",
       "      <td>0</td>\n",
       "      <td>0</td>\n",
       "      <td>0</td>\n",
       "      <td>0.210</td>\n",
       "      <td>-0.1045</td>\n",
       "      <td>0.138</td>\n",
       "      <td>0.322</td>\n",
       "      <td>0.032522</td>\n",
       "      <td>0.249171</td>\n",
       "    </tr>\n",
       "    <tr>\n",
       "      <th>4978567</th>\n",
       "      <td>275</td>\n",
       "      <td>27102</td>\n",
       "      <td>902.497502</td>\n",
       "      <td>1</td>\n",
       "      <td>0</td>\n",
       "      <td>0</td>\n",
       "      <td>0</td>\n",
       "      <td>0.008</td>\n",
       "      <td>-0.0910</td>\n",
       "      <td>0.034</td>\n",
       "      <td>0.260</td>\n",
       "      <td>0.033202</td>\n",
       "      <td>0.010844</td>\n",
       "    </tr>\n",
       "    <tr>\n",
       "      <th>4978568</th>\n",
       "      <td>275</td>\n",
       "      <td>27103</td>\n",
       "      <td>902.530803</td>\n",
       "      <td>1</td>\n",
       "      <td>0</td>\n",
       "      <td>0</td>\n",
       "      <td>0</td>\n",
       "      <td>0.028</td>\n",
       "      <td>0.0695</td>\n",
       "      <td>0.010</td>\n",
       "      <td>0.090</td>\n",
       "      <td>0.012059</td>\n",
       "      <td>0.027177</td>\n",
       "    </tr>\n",
       "    <tr>\n",
       "      <th>4978569</th>\n",
       "      <td>275</td>\n",
       "      <td>27104</td>\n",
       "      <td>902.564103</td>\n",
       "      <td>1</td>\n",
       "      <td>0</td>\n",
       "      <td>0</td>\n",
       "      <td>0</td>\n",
       "      <td>0.147</td>\n",
       "      <td>0.0000</td>\n",
       "      <td>0.065</td>\n",
       "      <td>0.001</td>\n",
       "      <td>0.089547</td>\n",
       "      <td>0.133474</td>\n",
       "    </tr>\n",
       "  </tbody>\n",
       "</table>\n",
       "<p>4978570 rows × 13 columns</p>\n",
       "</div>"
      ],
      "text/plain": [
       "          ID  FRAME           T  Q  S  P  F    FFV     FFA    FLS    FRS  \\\n",
       "0          0      0    0.000000  1  0  0  0  0.231  0.0000  0.159  0.077   \n",
       "1          0      1    0.033300  1  0  0  0  0.314  0.0385  0.025  0.044   \n",
       "2          0      2    0.066600  1  0  0  0  0.308  0.0025  0.029  0.011   \n",
       "3          0      3    0.099900  1  0  0  0  0.319  0.0020  0.016  0.016   \n",
       "4          0      4    0.133200  1  0  0  0  0.312 -0.0315  0.030  0.002   \n",
       "...      ...    ...         ... .. .. .. ..    ...     ...    ...    ...   \n",
       "4978565  275  27100  902.430902  1  0  0  0  0.217  0.0280  0.029  0.058   \n",
       "4978566  275  27101  902.464202  1  0  0  0  0.210 -0.1045  0.138  0.322   \n",
       "4978567  275  27102  902.497502  1  0  0  0  0.008 -0.0910  0.034  0.260   \n",
       "4978568  275  27103  902.530803  1  0  0  0  0.028  0.0695  0.010  0.090   \n",
       "4978569  275  27104  902.564103  1  0  0  0  0.147  0.0000  0.065  0.001   \n",
       "\n",
       "             FMFV      FMLS  \n",
       "0       -0.058526  0.274257  \n",
       "1        0.100623  0.298490  \n",
       "2        0.147629  0.271865  \n",
       "3        0.091174  0.306112  \n",
       "4        0.065871  0.306439  \n",
       "...           ...       ...  \n",
       "4978565 -0.171418  0.136184  \n",
       "4978566  0.032522  0.249171  \n",
       "4978567  0.033202  0.010844  \n",
       "4978568  0.012059  0.027177  \n",
       "4978569  0.089547  0.133474  \n",
       "\n",
       "[4978570 rows x 13 columns]"
      ]
     },
     "execution_count": 2,
     "metadata": {},
     "output_type": "execute_result"
    }
   ],
   "source": [
    "df_behav = pd.read_csv('data/simple/c_song_f_behav.csv')\n",
    "CTR_OFFSET = 0\n",
    "\n",
    "# df_behav = pd.read_csv('data/simple/w_song_f_behav.csv')\n",
    "# CTR_OFFSET = 276\n",
    "\n",
    "# df_behav = pd.read_csv('data/simple/block_song_f_behav.csv')\n",
    "# CTR_OFFSET = 998\n",
    "\n",
    "df_behav"
   ]
  },
  {
   "cell_type": "code",
   "execution_count": 3,
   "id": "59674105",
   "metadata": {},
   "outputs": [],
   "source": [
    "# split big df into dfs for individual trials\n",
    "ntr = np.max(df_behav.ID) + 1\n",
    "dfs_tr = [df_behav[df_behav.ID == i] for i in range(ntr)]\n",
    "\n",
    "tr_lens = np.array([len(df_tr) for df_tr in dfs_tr])\n",
    "tr_lens_cum = cc([[0], np.cumsum(tr_lens)])\n",
    "\n",
    "n_t_total = np.sum(tr_lens)\n",
    "assert n_t_total == tr_lens_cum[-1]\n",
    "df_behav = None"
   ]
  },
  {
   "cell_type": "markdown",
   "id": "5e10884e",
   "metadata": {},
   "source": [
    "# NA\n",
    "Nonlinear accumulation dynamical system neural responses"
   ]
  },
  {
   "cell_type": "code",
   "execution_count": 5,
   "id": "938e4f5a",
   "metadata": {},
   "outputs": [],
   "source": [
    "SAVE_DIR = 'data/simple/mlv/neur_basic/baker_ma'\n",
    "PFX = 'mlv_baker_ma'\n",
    "smlt = smlt_ma  # simulation function for MA neurons\n",
    "\n",
    "if not os.path.exists(SAVE_DIR):\n",
    "    os.makedirs(SAVE_DIR)\n",
    "    \n",
    "# neural response fits from Baker data\n",
    "params = load_npy('data/simple/neur/baker_ma.npy')\n",
    "expt_ids = params['EXPT_ID']"
   ]
  },
  {
   "cell_type": "code",
   "execution_count": 6,
   "id": "c98b7cdb",
   "metadata": {},
   "outputs": [
    {
     "name": "stdout",
     "output_type": "stream",
     "text": [
      "...................................................................................................................................................................................................................................................................................."
     ]
    }
   ],
   "source": [
    "# compute surrogate neural responses for each trial\n",
    "for ctr, df_tr in enumerate(dfs_tr):\n",
    "    df_tr_nrl = df_tr.copy()\n",
    "    sys.stdout.write('.')\n",
    "    \n",
    "    i_s = np.array(df_tr['S']).astype(float)\n",
    "    i_p = np.array(df_tr['P'] | df_tr['F']).astype(float)\n",
    "    \n",
    "    # simulate population response\n",
    "    rs = smlt(i_s, i_p, params, DT)\n",
    "        \n",
    "    df_tr_nrl[[f'R_{expt_id}' for expt_id in expt_ids]] = rs\n",
    "        \n",
    "    np.save(os.path.join(SAVE_DIR, f'{PFX}_tr_{ctr+CTR_OFFSET}.npy'), np.array([{'df': df_tr_nrl}]))"
   ]
  },
  {
   "cell_type": "markdown",
   "id": "a166407d",
   "metadata": {},
   "source": [
    "# LIN-NA\n",
    "\n",
    "Linear filters matched to NA fits."
   ]
  },
  {
   "cell_type": "code",
   "execution_count": 7,
   "id": "e905b96f",
   "metadata": {},
   "outputs": [],
   "source": [
    "SAVE_DIR = 'data/simple/mlv/neur_basic/baker_linma'\n",
    "PFX = 'mlv_baker_linma'\n",
    "smlt = smlt_linma\n",
    "\n",
    "if not os.path.exists(SAVE_DIR):\n",
    "    os.makedirs(SAVE_DIR)\n",
    "    \n",
    "# ma response fits from Baker data\n",
    "params = load_npy('data/simple/neur/baker_ma.npy')\n",
    "expt_ids = params['EXPT_ID']"
   ]
  },
  {
   "cell_type": "code",
   "execution_count": 8,
   "id": "eba7c8bf",
   "metadata": {},
   "outputs": [
    {
     "name": "stdout",
     "output_type": "stream",
     "text": [
      "...................................................................................................................................................................................................................................................................................."
     ]
    }
   ],
   "source": [
    "# compute surrogate linear neural responses for each trial\n",
    "for ctr, df_tr in enumerate(dfs_tr):\n",
    "    df_tr_nrl = df_tr.copy()\n",
    "    sys.stdout.write('.')\n",
    "    \n",
    "    i_s = np.array(df_tr['S']).astype(float)\n",
    "    i_p = np.array(df_tr['P'] | df_tr['F']).astype(float)\n",
    "    \n",
    "    rs = smlt(i_s, i_p, params, DT)\n",
    "        \n",
    "    df_tr_nrl[[f'R_{expt_id}' for expt_id in expt_ids]] = rs\n",
    "    \n",
    "    np.save(os.path.join(SAVE_DIR, f'{PFX}_tr_{ctr+CTR_OFFSET}.npy'), np.array([{'df': df_tr_nrl}]))"
   ]
  },
  {
   "cell_type": "markdown",
   "id": "5eaa45f5",
   "metadata": {},
   "source": [
    "# LN-NA\n",
    "\n",
    "Linear-nonlinear RELU neurons with filters matched to NA fits."
   ]
  },
  {
   "cell_type": "code",
   "execution_count": 4,
   "id": "060e422d",
   "metadata": {},
   "outputs": [],
   "source": [
    "SAVE_DIR = 'data/simple/mlv/neur_basic/baker_lnma'\n",
    "PFX = 'mlv_baker_lnma'\n",
    "smlt = smlt_lnma\n",
    "\n",
    "if not os.path.exists(SAVE_DIR):\n",
    "    os.makedirs(SAVE_DIR)\n",
    "    \n",
    "# ma response fits from Baker data\n",
    "params = load_npy('data/simple/neur/baker_ma.npy')\n",
    "expt_ids = params['EXPT_ID']"
   ]
  },
  {
   "cell_type": "code",
   "execution_count": 5,
   "id": "706044ce",
   "metadata": {},
   "outputs": [
    {
     "name": "stdout",
     "output_type": "stream",
     "text": [
      "...................................................................................................................................................................................................................................................................................."
     ]
    }
   ],
   "source": [
    "# compute surrogate linear neural responses for each trial\n",
    "for ctr, df_tr in enumerate(dfs_tr):\n",
    "    df_tr_nrl = df_tr.copy()\n",
    "    sys.stdout.write('.')\n",
    "    \n",
    "    i_s = np.array(df_tr['S']).astype(float)\n",
    "    i_p = np.array(df_tr['P'] | df_tr['F']).astype(float)\n",
    "    \n",
    "    rs = smlt(i_s, i_p, params, DT)\n",
    "        \n",
    "    df_tr_nrl[[f'R_{expt_id}' for expt_id in expt_ids]] = rs\n",
    "    \n",
    "    np.save(os.path.join(SAVE_DIR, f'{PFX}_tr_{ctr+CTR_OFFSET}.npy'), np.array([{'df': df_tr_nrl}]))"
   ]
  },
  {
   "cell_type": "markdown",
   "id": "de43f32e",
   "metadata": {},
   "source": [
    "# LN-NA-TWEAKED\n",
    "\n",
    "Linear-nonlinear RELU neurons with double-exp filters derived from NA fits then adjusted"
   ]
  },
  {
   "cell_type": "code",
   "execution_count": 6,
   "id": "19300a62",
   "metadata": {},
   "outputs": [],
   "source": [
    "SAVE_DIR = 'data/simple/mlv/neur_basic/baker_lnma_tweaked'\n",
    "PFX = 'mlv_baker_lnma_tweaked'\n",
    "smlt = smlt_lnma_tweaked\n",
    "\n",
    "if not os.path.exists(SAVE_DIR):\n",
    "    os.makedirs(SAVE_DIR)\n",
    "    \n",
    "# ma response fits from Baker data\n",
    "params = load_npy('data/simple/neur/baker_lnma_tweaked.npy')\n",
    "expt_ids = params['EXPT_ID']"
   ]
  },
  {
   "cell_type": "code",
   "execution_count": 7,
   "id": "8ecce3fd",
   "metadata": {},
   "outputs": [
    {
     "name": "stdout",
     "output_type": "stream",
     "text": [
      "...................................................................................................................................................................................................................................................................................."
     ]
    }
   ],
   "source": [
    "# compute surrogate linear neural responses for each trial\n",
    "for ctr, df_tr in enumerate(dfs_tr):\n",
    "    df_tr_nrl = df_tr.copy()\n",
    "    sys.stdout.write('.')\n",
    "    \n",
    "    i_s = np.array(df_tr['S']).astype(float)\n",
    "    i_p = np.array(df_tr['P'] | df_tr['F']).astype(float)\n",
    "    \n",
    "    rs = smlt(i_s, i_p, params, DT)\n",
    "        \n",
    "    df_tr_nrl[[f'R_{expt_id}' for expt_id in expt_ids]] = rs\n",
    "    \n",
    "    np.save(os.path.join(SAVE_DIR, f'{PFX}_tr_{ctr+CTR_OFFSET}.npy'), np.array([{'df': df_tr_nrl}]))"
   ]
  },
  {
   "cell_type": "markdown",
   "id": "384cde69",
   "metadata": {},
   "source": [
    "# LN-NA-TWEAKED_4\n",
    "\n",
    "Linear-nonlinear RELU neurons with double-exp filters derived from NA fits then the 4 NA-matched params adjusted"
   ]
  },
  {
   "cell_type": "code",
   "execution_count": 4,
   "id": "1f7dfef1",
   "metadata": {},
   "outputs": [],
   "source": [
    "SAVE_DIR = 'data/simple/mlv/neur_basic/baker_lnma_tweaked_4'\n",
    "PFX = 'mlv_baker_lnma_tweaked_4'\n",
    "smlt = smlt_lnma\n",
    "\n",
    "if not os.path.exists(SAVE_DIR):\n",
    "    os.makedirs(SAVE_DIR)\n",
    "    \n",
    "# ma response fits from Baker data\n",
    "params = load_npy('data/simple/neur/baker_lnma_tweaked_4.npy')\n",
    "expt_ids = params['EXPT_ID']"
   ]
  },
  {
   "cell_type": "code",
   "execution_count": 5,
   "id": "82545274",
   "metadata": {},
   "outputs": [
    {
     "name": "stdout",
     "output_type": "stream",
     "text": [
      "...................................................................................................................................................................................................................................................................................."
     ]
    }
   ],
   "source": [
    "# compute surrogate linear neural responses for each trial\n",
    "for ctr, df_tr in enumerate(dfs_tr):\n",
    "    df_tr_nrl = df_tr.copy()\n",
    "    sys.stdout.write('.')\n",
    "    \n",
    "    i_s = np.array(df_tr['S']).astype(float)\n",
    "    i_p = np.array(df_tr['P'] | df_tr['F']).astype(float)\n",
    "    \n",
    "    rs = smlt(i_s, i_p, params, DT)\n",
    "        \n",
    "    df_tr_nrl[[f'R_{expt_id}' for expt_id in expt_ids]] = rs\n",
    "    \n",
    "    np.save(os.path.join(SAVE_DIR, f'{PFX}_tr_{ctr+CTR_OFFSET}.npy'), np.array([{'df': df_tr_nrl}]))"
   ]
  },
  {
   "cell_type": "code",
   "execution_count": null,
   "id": "d2ef0ad5",
   "metadata": {},
   "outputs": [],
   "source": []
  }
 ],
 "metadata": {
  "kernelspec": {
   "display_name": "Python 3",
   "language": "python",
   "name": "python3"
  },
  "language_info": {
   "codemirror_mode": {
    "name": "ipython",
    "version": 3
   },
   "file_extension": ".py",
   "mimetype": "text/x-python",
   "name": "python",
   "nbconvert_exporter": "python",
   "pygments_lexer": "ipython3",
   "version": "3.7.10"
  }
 },
 "nbformat": 4,
 "nbformat_minor": 5
}

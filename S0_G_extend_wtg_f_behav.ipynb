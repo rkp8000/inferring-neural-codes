{
 "cells": [
  {
   "cell_type": "markdown",
   "id": "b8bc1ca1",
   "metadata": {},
   "source": [
    "# Create files with additionally processed female behavioral variables"
   ]
  },
  {
   "cell_type": "code",
   "execution_count": 1,
   "id": "d1dd211e",
   "metadata": {},
   "outputs": [],
   "source": [
    "%matplotlib inline\n",
    "import matplotlib.pyplot as plt\n",
    "import numpy as np\n",
    "import pandas as pd\n",
    "import os\n",
    "from scipy import signal\n",
    "import sys\n",
    "\n",
    "from disp import plot_b, set_plot\n",
    "\n",
    "IDX_OFFSET = 276\n",
    "NTR = 84\n",
    "FPS = 30.03\n",
    "DT = 1/FPS\n",
    "SONG_FILE = 'data/simple/w_song_f_behav.csv'\n",
    "SAVE_DIR = 'data/simple/behav_xtd'\n",
    "\n",
    "if not os.path.exists(SAVE_DIR):\n",
    "    os.makedirs(SAVE_DIR)"
   ]
  },
  {
   "cell_type": "code",
   "execution_count": 2,
   "id": "1226d347",
   "metadata": {},
   "outputs": [],
   "source": [
    "# functions for computing female behavioral variables\n",
    "def fwd_mean(x, wdw):\n",
    "    # forward mean\n",
    "    iwdw = int(round(wdw/DT))\n",
    "    h_rect = np.ones(iwdw)/iwdw\n",
    "    return signal.fftconvolve(x, h_rect, mode='full')[-len(x):]\n",
    "\n",
    "def fwd_sd(x, wdw):\n",
    "    # forward std\n",
    "    iwdw = int(round(wdw/DT))\n",
    "    x_mat = np.nan * np.zeros((len(x), min(iwdw, len(x))))\n",
    "    for cstep in range(min(iwdw, len(x))):\n",
    "        x_mat[:len(x)-cstep, cstep] = x[cstep:]\n",
    "    return np.nanstd(x_mat, axis=1)"
   ]
  },
  {
   "cell_type": "code",
   "execution_count": 3,
   "id": "e2979260",
   "metadata": {},
   "outputs": [],
   "source": [
    "df_load = pd.read_csv(SONG_FILE)\n",
    "df_trs = [df_load[df_load['ID'] == ctr] for ctr in range(NTR)]"
   ]
  },
  {
   "cell_type": "code",
   "execution_count": null,
   "id": "fca89397",
   "metadata": {},
   "outputs": [
    {
     "name": "stdout",
     "output_type": "stream",
     "text": [
      "."
     ]
    }
   ],
   "source": [
    "wdws = [.03, .1, .5, 1, 2, 5, 10, 30, 60, 120, 300, 600, 1200]\n",
    "rsdl_wdws = [(1, 60)]\n",
    "\n",
    "for ctr, df_tr in enumerate(df_trs):\n",
    "    sys.stdout.write('.')\n",
    "    tr_data = {}\n",
    "    \n",
    "    ffv = np.array(df_tr['FFV'])  # for vel\n",
    "    fls = np.array(df_tr['FLS'])  # lat vel\n",
    "    mtn = np.sqrt(ffv**2 + fls**2)  # total motion \n",
    "    \n",
    "    fmfv = np.array(df_tr['FMFV'])  # for vel twd M\n",
    "    fmls = np.array(df_tr['FMLS'])  # for vel twd M\n",
    "    \n",
    "    # compute forward means\n",
    "    for wdw in wdws:\n",
    "        tr_data[f'FFV_MN_{wdw}'] = fwd_mean(ffv, wdw)\n",
    "        tr_data[f'FLS_MN_{wdw}'] = fwd_mean(fls, wdw)\n",
    "        tr_data[f'MTN_MN_{wdw}'] = fwd_mean(mtn, wdw)\n",
    "        tr_data[f'FMFV_MN_{wdw}'] = fwd_mean(fmfv, wdw)\n",
    "        tr_data[f'FMLS_MN_{wdw}'] = fwd_mean(fmls, wdw)\n",
    "        \n",
    "    # compute forward stds\n",
    "    for wdw in wdws[1:]:\n",
    "        tr_data[f'FFV_SD_{wdw}'] = fwd_sd(ffv, wdw)\n",
    "        tr_data[f'FLS_SD_{wdw}'] = fwd_sd(fls, wdw)\n",
    "        tr_data[f'MTN_SD_{wdw}'] = fwd_sd(mtn, wdw)\n",
    "        tr_data[f'FMFV_SD_{wdw}'] = fwd_sd(fmfv, wdw)\n",
    "        tr_data[f'FMLS_SD_{wdw}'] = fwd_sd(fmls, wdw)\n",
    "        \n",
    "    # compute residuals\n",
    "    for wdw_fast, wdw_slow in rsdl_wdws:\n",
    "        tr_data[f'FFV_RSDL_{wdw_fast}_{wdw_slow}'] = tr_data[f'FFV_MN_{wdw_fast}'] - tr_data[f'FFV_MN_{wdw_slow}']\n",
    "        tr_data[f'FLS_RSDL_{wdw_fast}_{wdw_slow}'] = tr_data[f'FLS_MN_{wdw_fast}'] - tr_data[f'FLS_MN_{wdw_slow}']\n",
    "        tr_data[f'MTN_RSDL_{wdw_fast}_{wdw_slow}'] = tr_data[f'MTN_MN_{wdw_fast}'] - tr_data[f'MTN_MN_{wdw_slow}']\n",
    "        tr_data[f'FMFV_RSDL_{wdw_fast}_{wdw_slow}'] = tr_data[f'FMFV_MN_{wdw_fast}'] - tr_data[f'FMFV_MN_{wdw_slow}']\n",
    "        tr_data[f'FMLS_RSDL_{wdw_fast}_{wdw_slow}'] = tr_data[f'FMLS_MN_{wdw_fast}'] - tr_data[f'FMLS_MN_{wdw_slow}']\n",
    "\n",
    "    columns = ['ID', 'FRAME', 'T'] + list(sorted(tr_data.keys()))\n",
    "    tr_data['ID'] = df_tr['ID']\n",
    "    tr_data['FRAME'] = df_tr['FRAME']\n",
    "    tr_data['T'] = df_tr['T']\n",
    "    \n",
    "    df_xtd = pd.DataFrame(columns=columns, data=tr_data)\n",
    "    \n",
    "    df_xtd.to_csv(os.path.join(SAVE_DIR, f'behav_xtd_tr_{ctr+IDX_OFFSET}.csv'), index=False)"
   ]
  },
  {
   "cell_type": "markdown",
   "id": "fb91a5fc",
   "metadata": {},
   "source": [
    "# Plot example trials and smoothed variables"
   ]
  },
  {
   "cell_type": "code",
   "execution_count": null,
   "id": "e0438eb6",
   "metadata": {},
   "outputs": [],
   "source": [
    "IXPL = [0, 2, 4]\n",
    "\n",
    "for ixpl in IXPL:\n",
    "    df_xtd = pd.read_csv(os.path.join(SAVE_DIR, f'behav_xtd_tr_{ixpl+IDX_OFFSET}.csv'))\n",
    "    \n",
    "    fig, axs = plt.subplots(12, 1, figsize=(15, 22), tight_layout=True, sharex=True)\n",
    "    \n",
    "    axs[0].plot(df_xtd['T'], df_xtd['FFV_MN_0.03'], c='k')\n",
    "    axs[0].set_title(f'FFV (TRIAL {ixpl})')\n",
    "    for wdw in [.5, 2, 5]:\n",
    "        axs[1].plot(df_xtd['T'], df_xtd[f'FFV_MN_{wdw}'])\n",
    "        axs[2].plot(df_xtd['T'], df_xtd[f'FFV_SD_{wdw}'])\n",
    "        \n",
    "    axs[1].set_title('FFV forward mean')\n",
    "    axs[2].set_title('FFV forward SD')\n",
    "    \n",
    "    axs[3].plot(df_xtd['T'], df_xtd['FLS_MN_0.03'], c='k')\n",
    "    axs[3].set_title(f'FLS (TRIAL {ixpl})')\n",
    "    for wdw in [.5, 2, 5]:\n",
    "        axs[4].plot(df_xtd['T'], df_xtd[f'FLS_MN_{wdw}'])\n",
    "        axs[5].plot(df_xtd['T'], df_xtd[f'FLS_SD_{wdw}'])\n",
    "        \n",
    "    axs[4].set_title('FLS forward mean')\n",
    "    axs[5].set_title('FLS forward SD')\n",
    "    \n",
    "    axs[6].plot(df_xtd['T'], df_xtd['MTN_MN_0.03'], c='k')\n",
    "    axs[6].set_title(f'MTN (TRIAL {ixpl})')\n",
    "    for wdw in [.1, 1, 5]:\n",
    "        axs[7].plot(df_xtd['T'], df_xtd[f'MTN_MN_{wdw}'])\n",
    "        axs[8].plot(df_xtd['T'], df_xtd[f'MTN_SD_{wdw}'])\n",
    "        \n",
    "    axs[7].set_title('MTN forward mean')\n",
    "    axs[8].set_title('MTN forward SD')\n",
    "    \n",
    "    axs[9].plot(df_xtd['T'], df_xtd['FMFV_MN_0.03'], c='k')\n",
    "    axs[9].set_title(f'FMFV (TRIAL {ixpl})')\n",
    "    for wdw in [.1, .5, 5]:\n",
    "        axs[10].plot(df_xtd['T'], df_xtd[f'FMFV_MN_{wdw}'])\n",
    "        axs[11].plot(df_xtd['T'], df_xtd[f'FMFV_SD_{wdw}'])\n",
    "        \n",
    "    axs[10].set_title('FMFV forward mean')\n",
    "    axs[11].set_title('FMFV forward SD')\n",
    "    \n",
    "    for ax in axs:\n",
    "        ax.grid()\n",
    "        ax.set_xlim(0, 60)\n",
    "        ax.set_xlabel('Time (s)')\n",
    "        set_plot(ax, x_lim=[0, 60], x_label='Time (s)', font_size=14)"
   ]
  }
 ],
 "metadata": {
  "kernelspec": {
   "display_name": "Python 3",
   "language": "python",
   "name": "python3"
  },
  "language_info": {
   "codemirror_mode": {
    "name": "ipython",
    "version": 3
   },
   "file_extension": ".py",
   "mimetype": "text/x-python",
   "name": "python",
   "nbconvert_exporter": "python",
   "pygments_lexer": "ipython3",
   "version": "3.7.10"
  }
 },
 "nbformat": 4,
 "nbformat_minor": 5
}
